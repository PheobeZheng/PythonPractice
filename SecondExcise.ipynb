{
 "cells": [
  {
   "cell_type": "code",
   "execution_count": 1,
   "id": "1fbded83-3e00-42af-ab00-8f3e186831db",
   "metadata": {},
   "outputs": [
    {
     "name": "stdout",
     "output_type": "stream",
     "text": [
      "1*1=1\t1*2=2\t1*3=3\t1*4=4\t1*5=5\t1*6=6\t1*7=7\t1*8=8\t1*9=9\t\n",
      "\t2*2=4\t2*3=6\t2*4=8\t2*5=10\t2*6=12\t2*7=14\t2*8=16\t2*9=18\t\n",
      "\t\t3*3=9\t3*4=12\t3*5=15\t3*6=18\t3*7=21\t3*8=24\t3*9=27\t\n",
      "\t\t\t4*4=16\t4*5=20\t4*6=24\t4*7=28\t4*8=32\t4*9=36\t\n",
      "\t\t\t\t5*5=25\t5*6=30\t5*7=35\t5*8=40\t5*9=45\t\n",
      "\t\t\t\t\t6*6=36\t6*7=42\t6*8=48\t6*9=54\t\n",
      "\t\t\t\t\t\t7*7=49\t7*8=56\t7*9=63\t\n",
      "\t\t\t\t\t\t\t8*8=64\t8*9=72\t\n",
      "\t\t\t\t\t\t\t\t9*9=81\t\n"
     ]
    }
   ],
   "source": [
    "for x in range(1, 10):\n",
    "    for y in range(1, 10):\n",
    "        if (x <= y):\n",
    "            print(f'{x}*{y}={x*y}', end='\\t')\n",
    "        else:\n",
    "            print('', end='\\t')\n",
    "    print('')\n",
    "        "
   ]
  },
  {
   "cell_type": "code",
   "execution_count": null,
   "id": "167b8f7b-f5ad-47ae-8c5c-9d254eb373ba",
   "metadata": {},
   "outputs": [],
   "source": []
  },
  {
   "cell_type": "code",
   "execution_count": 2,
   "id": "d3ae88bd-0f9d-40a6-a2d7-f7469f578d25",
   "metadata": {},
   "outputs": [],
   "source": [
    "a = list(range(10))"
   ]
  },
  {
   "cell_type": "code",
   "execution_count": 3,
   "id": "da605392-1d7b-4092-960f-463e53229d4f",
   "metadata": {},
   "outputs": [
    {
     "data": {
      "text/plain": [
       "[0, 1, 2, 3, 4, 5, 6, 7, 8, 9]"
      ]
     },
     "execution_count": 3,
     "metadata": {},
     "output_type": "execute_result"
    }
   ],
   "source": [
    "a"
   ]
  },
  {
   "cell_type": "code",
   "execution_count": 4,
   "id": "90865cee-fe70-4887-a156-d77705d558fc",
   "metadata": {},
   "outputs": [
    {
     "name": "stdout",
     "output_type": "stream",
     "text": [
      "[1, 2, 3, 4, 5, 6, 7, 8, 9]\n"
     ]
    }
   ],
   "source": [
    "del a[0]\n",
    "print(a)"
   ]
  },
  {
   "cell_type": "code",
   "execution_count": 5,
   "id": "dcd4d778-6583-48a4-bfd7-1f6c3e5815e6",
   "metadata": {},
   "outputs": [
    {
     "data": {
      "text/plain": [
       "[]"
      ]
     },
     "execution_count": 5,
     "metadata": {},
     "output_type": "execute_result"
    }
   ],
   "source": [
    "a.clear()\n",
    "a"
   ]
  },
  {
   "cell_type": "code",
   "execution_count": 6,
   "id": "9fc43da0-a1d9-4f56-8fb5-9121444a6995",
   "metadata": {},
   "outputs": [
    {
     "data": {
      "text/plain": [
       "[0, 1, 2]"
      ]
     },
     "execution_count": 6,
     "metadata": {},
     "output_type": "execute_result"
    }
   ],
   "source": [
    "a = list(range(3))\n",
    "a"
   ]
  },
  {
   "cell_type": "code",
   "execution_count": 7,
   "id": "6e9823fc-7301-4525-a953-6795af9398cd",
   "metadata": {},
   "outputs": [
    {
     "data": {
      "text/plain": [
       "[0, 1, 2]"
      ]
     },
     "execution_count": 7,
     "metadata": {},
     "output_type": "execute_result"
    }
   ],
   "source": [
    "b = a\n",
    "b"
   ]
  },
  {
   "cell_type": "code",
   "execution_count": 8,
   "id": "d8c3660a-1950-4796-88a4-8547f66a81de",
   "metadata": {},
   "outputs": [
    {
     "data": {
      "text/plain": [
       "[0, 1, 2, 3]"
      ]
     },
     "execution_count": 8,
     "metadata": {},
     "output_type": "execute_result"
    }
   ],
   "source": [
    "b.append(3)\n",
    "b"
   ]
  },
  {
   "cell_type": "code",
   "execution_count": 9,
   "id": "7540ede8-9b00-4472-80ae-22ef30b646ea",
   "metadata": {},
   "outputs": [
    {
     "data": {
      "text/plain": [
       "[0, 1, 2, 3]"
      ]
     },
     "execution_count": 9,
     "metadata": {},
     "output_type": "execute_result"
    }
   ],
   "source": [
    "a"
   ]
  },
  {
   "cell_type": "code",
   "execution_count": 10,
   "id": "d0d52cf7-1780-4aa7-b8cb-313e9e450176",
   "metadata": {},
   "outputs": [
    {
     "data": {
      "text/plain": [
       "[0, 1, 2, 3]"
      ]
     },
     "execution_count": 10,
     "metadata": {},
     "output_type": "execute_result"
    }
   ],
   "source": [
    "b = [0, 1, 2, 3, 4]\n",
    "a"
   ]
  },
  {
   "cell_type": "code",
   "execution_count": 11,
   "id": "8390876f-41a2-4833-b928-c18fa15726fd",
   "metadata": {},
   "outputs": [
    {
     "data": {
      "text/plain": [
       "[100, 1, 2, 3]"
      ]
     },
     "execution_count": 11,
     "metadata": {},
     "output_type": "execute_result"
    }
   ],
   "source": [
    "b=a\n",
    "b[0] = 100\n",
    "a"
   ]
  },
  {
   "cell_type": "code",
   "execution_count": 12,
   "id": "0b474e54-0534-4351-a5a5-41025c087f76",
   "metadata": {},
   "outputs": [],
   "source": [
    "a = [0, 1, 2, 3]"
   ]
  },
  {
   "cell_type": "code",
   "execution_count": 13,
   "id": "f7b82a1a-0451-4eca-a5d1-696fa41d1edb",
   "metadata": {},
   "outputs": [
    {
     "data": {
      "text/plain": [
       "[0, 1, 2, 3]"
      ]
     },
     "execution_count": 13,
     "metadata": {},
     "output_type": "execute_result"
    }
   ],
   "source": [
    "b = a.copy()\n",
    "b"
   ]
  },
  {
   "cell_type": "code",
   "execution_count": 14,
   "id": "f19c2afb-2ecb-4c80-addd-02e71f7f9225",
   "metadata": {},
   "outputs": [
    {
     "name": "stdout",
     "output_type": "stream",
     "text": [
      "[0, 1, 2, 3] [100, 1, 2, 3]\n"
     ]
    }
   ],
   "source": [
    "b[0]=100\n",
    "print(a, b)"
   ]
  },
  {
   "cell_type": "code",
   "execution_count": 17,
   "id": "47e77871-e274-41e3-9da9-8e90351925ac",
   "metadata": {},
   "outputs": [
    {
     "name": "stdout",
     "output_type": "stream",
     "text": [
      "[1, 2, [3, 4]] [1, 2, [3, 4]]\n"
     ]
    }
   ],
   "source": [
    "a = [1, 2, [3, 4]]\n",
    "b = a.copy()\n",
    "print(a, b)"
   ]
  },
  {
   "cell_type": "code",
   "execution_count": 18,
   "id": "27ccbedf-c8ad-4ec6-ba99-3cf179406baf",
   "metadata": {},
   "outputs": [
    {
     "data": {
      "text/plain": [
       "([1, 2, [3, 4]], [0, 2, [3, 4]])"
      ]
     },
     "execution_count": 18,
     "metadata": {},
     "output_type": "execute_result"
    }
   ],
   "source": [
    "b[0] = 0\n",
    "a, b"
   ]
  },
  {
   "cell_type": "code",
   "execution_count": 19,
   "id": "f5d37bca-6281-4315-a969-fadbcaf3be29",
   "metadata": {},
   "outputs": [
    {
     "data": {
      "text/plain": [
       "([1, 2, [30, 4]], [0, 2, [30, 4]])"
      ]
     },
     "execution_count": 19,
     "metadata": {},
     "output_type": "execute_result"
    }
   ],
   "source": [
    "b[2][0] = 30\n",
    "a, b"
   ]
  },
  {
   "cell_type": "code",
   "execution_count": 20,
   "id": "abb3ce5c-7683-410d-95ad-c348175e44a4",
   "metadata": {},
   "outputs": [
    {
     "data": {
      "text/plain": [
       "([1, 2, [3, 4]], [1, 2, [30, 4]])"
      ]
     },
     "execution_count": 20,
     "metadata": {},
     "output_type": "execute_result"
    }
   ],
   "source": [
    "from copy import deepcopy\n",
    "a = [1, 2, [3, 4]]\n",
    "b = deepcopy(a)\n",
    "b[2][0] = 30\n",
    "a, b"
   ]
  },
  {
   "cell_type": "code",
   "execution_count": 21,
   "id": "0df11916-8a49-433a-bd8f-e24bd5a8aef3",
   "metadata": {},
   "outputs": [],
   "source": [
    "a = list(range(9))"
   ]
  },
  {
   "cell_type": "code",
   "execution_count": 22,
   "id": "a7f4a524-7cbd-4f88-9239-ad8195fad443",
   "metadata": {},
   "outputs": [
    {
     "data": {
      "text/plain": [
       "9"
      ]
     },
     "execution_count": 22,
     "metadata": {},
     "output_type": "execute_result"
    }
   ],
   "source": [
    "len(a)"
   ]
  },
  {
   "cell_type": "code",
   "execution_count": 23,
   "id": "adeffc53-9088-42d0-b9be-dcf5ed4a53cd",
   "metadata": {},
   "outputs": [
    {
     "data": {
      "text/plain": [
       "5"
      ]
     },
     "execution_count": 23,
     "metadata": {},
     "output_type": "execute_result"
    }
   ],
   "source": [
    "len('hello')"
   ]
  },
  {
   "cell_type": "code",
   "execution_count": 24,
   "id": "6113d924-c89c-4dcf-9cd8-f096830dc873",
   "metadata": {},
   "outputs": [
    {
     "data": {
      "text/plain": [
       "4"
      ]
     },
     "execution_count": 24,
     "metadata": {},
     "output_type": "execute_result"
    }
   ],
   "source": [
    "a.index(4)"
   ]
  },
  {
   "cell_type": "code",
   "execution_count": 25,
   "id": "fe610b03-2319-41cb-922e-1949a77adf9a",
   "metadata": {},
   "outputs": [
    {
     "data": {
      "text/plain": [
       "[0, 1, 2, 3, 4, 5, 6, 7, 8]"
      ]
     },
     "execution_count": 25,
     "metadata": {},
     "output_type": "execute_result"
    }
   ],
   "source": [
    "a"
   ]
  },
  {
   "cell_type": "code",
   "execution_count": 26,
   "id": "d2e74a87-12a3-4a57-ae46-84470e987d9f",
   "metadata": {},
   "outputs": [
    {
     "data": {
      "text/plain": [
       "0"
      ]
     },
     "execution_count": 26,
     "metadata": {},
     "output_type": "execute_result"
    }
   ],
   "source": [
    "a[0] = 4\n",
    "a.index(4)"
   ]
  },
  {
   "cell_type": "code",
   "execution_count": 27,
   "id": "c4346e49-b997-4088-be10-8be7843359b3",
   "metadata": {},
   "outputs": [
    {
     "data": {
      "text/plain": [
       "[4, 1, 2, 3, 4, 5, 6, 7, 8]"
      ]
     },
     "execution_count": 27,
     "metadata": {},
     "output_type": "execute_result"
    }
   ],
   "source": [
    "a"
   ]
  },
  {
   "cell_type": "code",
   "execution_count": 28,
   "id": "666be76c-d58f-4a27-b299-9dde77da155a",
   "metadata": {},
   "outputs": [
    {
     "data": {
      "text/plain": [
       "4"
      ]
     },
     "execution_count": 28,
     "metadata": {},
     "output_type": "execute_result"
    }
   ],
   "source": [
    "a.index(4, 1)"
   ]
  },
  {
   "cell_type": "code",
   "execution_count": 29,
   "id": "28a7040e-c50b-457a-ba36-eab09fee6442",
   "metadata": {},
   "outputs": [
    {
     "ename": "ValueError",
     "evalue": "9 is not in list",
     "output_type": "error",
     "traceback": [
      "\u001b[1;31m---------------------------------------------------------------------------\u001b[0m",
      "\u001b[1;31mValueError\u001b[0m                                Traceback (most recent call last)",
      "Cell \u001b[1;32mIn[29], line 1\u001b[0m\n\u001b[1;32m----> 1\u001b[0m a\u001b[38;5;241m.\u001b[39mindex(\u001b[38;5;241m9\u001b[39m)\n",
      "\u001b[1;31mValueError\u001b[0m: 9 is not in list"
     ]
    }
   ],
   "source": [
    "a.index(9)"
   ]
  },
  {
   "cell_type": "code",
   "execution_count": 30,
   "id": "a23446e6-947d-4345-a442-1217582c577c",
   "metadata": {},
   "outputs": [
    {
     "name": "stdout",
     "output_type": "stream",
     "text": [
      "not found.\n"
     ]
    }
   ],
   "source": [
    "if 9 in a:\n",
    "    print(a.index(9))\n",
    "else: \n",
    "    print('not found.')"
   ]
  },
  {
   "cell_type": "code",
   "execution_count": 31,
   "id": "fc9e3fbf-97c3-476d-a068-fb05f6187bff",
   "metadata": {},
   "outputs": [
    {
     "name": "stdout",
     "output_type": "stream",
     "text": [
      "[4, 1, 2, 3, 4, 5, 6, 7, 8]\n"
     ]
    },
    {
     "data": {
      "text/plain": [
       "[4, 1, 2, 3, 4, 5, 6, 7, 8, [1, 2]]"
      ]
     },
     "execution_count": 31,
     "metadata": {},
     "output_type": "execute_result"
    }
   ],
   "source": [
    "print(a)\n",
    "a.append([1, 2])\n",
    "a"
   ]
  },
  {
   "cell_type": "code",
   "execution_count": 32,
   "id": "17eec845-d2b3-4ee5-9474-3478478ed2f3",
   "metadata": {},
   "outputs": [
    {
     "data": {
      "text/plain": [
       "[4, 1, 2, 3, 4, 5, 6, 7, 8, [1, 2], 1, 2]"
      ]
     },
     "execution_count": 32,
     "metadata": {},
     "output_type": "execute_result"
    }
   ],
   "source": [
    "a.extend([1, 2])\n",
    "a"
   ]
  },
  {
   "cell_type": "code",
   "execution_count": 33,
   "id": "e6998c5a-0248-4407-8e18-329362fc6727",
   "metadata": {},
   "outputs": [
    {
     "name": "stdout",
     "output_type": "stream",
     "text": [
      "[0, 1, 2, 3, 4]\n"
     ]
    }
   ],
   "source": [
    "a = [0, 1, 2]\n",
    "b = [3, 4]\n",
    "a += b\n",
    "print(a)"
   ]
  },
  {
   "cell_type": "code",
   "execution_count": 34,
   "id": "24432a67-5e99-4951-9a4c-d45af56a2b14",
   "metadata": {},
   "outputs": [
    {
     "data": {
      "text/plain": [
       "[4, 3, 2, 1]"
      ]
     },
     "execution_count": 34,
     "metadata": {},
     "output_type": "execute_result"
    }
   ],
   "source": [
    "b = list(range(1, 5))\n",
    "b\n",
    "b.reverse()\n",
    "b"
   ]
  },
  {
   "cell_type": "code",
   "execution_count": 35,
   "id": "aee8bb0f-bfd6-46dc-8085-5a056bffb048",
   "metadata": {},
   "outputs": [
    {
     "data": {
      "text/plain": [
       "[0, 1, 2, 3, 4]"
      ]
     },
     "execution_count": 35,
     "metadata": {},
     "output_type": "execute_result"
    }
   ],
   "source": [
    "a"
   ]
  },
  {
   "cell_type": "code",
   "execution_count": 38,
   "id": "2046fb5b-f6b9-4dad-8fb4-d0cbbc84824c",
   "metadata": {},
   "outputs": [
    {
     "name": "stdout",
     "output_type": "stream",
     "text": [
      "None\n"
     ]
    }
   ],
   "source": [
    "b = list(range(1, 5))\n",
    "a = b.reverse()\n",
    "print(a)"
   ]
  },
  {
   "cell_type": "code",
   "execution_count": 39,
   "id": "16795a5c-c9ed-4f94-8aae-0a309dbfc382",
   "metadata": {},
   "outputs": [
    {
     "name": "stdout",
     "output_type": "stream",
     "text": [
      "HELLO\n"
     ]
    }
   ],
   "source": [
    "print('hello'.upper())"
   ]
  },
  {
   "cell_type": "code",
   "execution_count": 40,
   "id": "94905351-8b91-4d93-94f2-58f993a86ebe",
   "metadata": {},
   "outputs": [
    {
     "name": "stdout",
     "output_type": "stream",
     "text": [
      "hello\n"
     ]
    }
   ],
   "source": [
    "a = 'hello'\n",
    "a.upper()\n",
    "print(a)"
   ]
  },
  {
   "cell_type": "code",
   "execution_count": 9,
   "id": "85b8772b-23dc-45ba-a070-de7a634891c4",
   "metadata": {},
   "outputs": [
    {
     "name": "stdout",
     "output_type": "stream",
     "text": [
      "[2]\n",
      "[2, 3]\n",
      "[2, 3, 1]\n"
     ]
    }
   ],
   "source": [
    "#%%timeit\n",
    "import random\n",
    "a = list()\n",
    "for x in range(3):\n",
    "    a.append(random.randint(0, 3))\n",
    "    print(a)"
   ]
  },
  {
   "cell_type": "code",
   "execution_count": 5,
   "id": "85b47989-9138-4f53-ac41-fdfc877d6203",
   "metadata": {},
   "outputs": [
    {
     "name": "stdout",
     "output_type": "stream",
     "text": [
      "[None, None, None, None, None, None, None, None, None, None]\n",
      "[11, 47, 2, 52, 91, 33, 0, 38, 40, 74]\n"
     ]
    }
   ],
   "source": [
    "#%%timeit\n",
    "import random\n",
    "a = [None] * 10\n",
    "print(a)\n",
    "for x in range(10):\n",
    "    a[x] = random.randint(0, 100)\n",
    "\n",
    "print(a)"
   ]
  },
  {
   "cell_type": "code",
   "execution_count": 1,
   "id": "f97aec04-5eb3-474b-918b-bb654e4c1b0a",
   "metadata": {},
   "outputs": [
    {
     "name": "stdout",
     "output_type": "stream",
     "text": [
      "================================================================================\n"
     ]
    }
   ],
   "source": [
    "print('=' * 80)"
   ]
  },
  {
   "cell_type": "code",
   "execution_count": 6,
   "id": "79a85b13-753b-4691-8fa2-52e12eb11aff",
   "metadata": {},
   "outputs": [
    {
     "data": {
      "text/plain": [
       "[0, 2, 11, 33, 38, 40, 47, 52, 74, 91]"
      ]
     },
     "execution_count": 6,
     "metadata": {},
     "output_type": "execute_result"
    }
   ],
   "source": [
    "b = sorted(a)\n",
    "b"
   ]
  },
  {
   "cell_type": "code",
   "execution_count": 7,
   "id": "7e225320-cd21-4b3a-9f74-f65a0f6b9320",
   "metadata": {},
   "outputs": [
    {
     "data": {
      "text/plain": [
       "[11, 47, 2, 52, 91, 33, 0, 38, 40, 74]"
      ]
     },
     "execution_count": 7,
     "metadata": {},
     "output_type": "execute_result"
    }
   ],
   "source": [
    "a"
   ]
  },
  {
   "cell_type": "code",
   "execution_count": 8,
   "id": "b2229dc9-20cf-4385-83ce-a5fa3a086ec9",
   "metadata": {},
   "outputs": [
    {
     "data": {
      "text/plain": [
       "[0, 2, 11, 33, 38, 40, 47, 52, 74, 91]"
      ]
     },
     "execution_count": 8,
     "metadata": {},
     "output_type": "execute_result"
    }
   ],
   "source": [
    "a.sort()\n",
    "a"
   ]
  },
  {
   "cell_type": "code",
   "execution_count": 9,
   "id": "608aa13d-d647-41a0-a391-561573f7123f",
   "metadata": {},
   "outputs": [],
   "source": [
    "b = a.sort()\n",
    "b"
   ]
  },
  {
   "cell_type": "code",
   "execution_count": 10,
   "id": "b4553ba7-df86-441b-9c79-c34d83949f32",
   "metadata": {},
   "outputs": [
    {
     "name": "stdout",
     "output_type": "stream",
     "text": [
      "None\n"
     ]
    }
   ],
   "source": [
    "print(b)"
   ]
  },
  {
   "cell_type": "code",
   "execution_count": 11,
   "id": "cbe5b5de-f4f5-4db7-8ae5-1e7d9e7c9cc8",
   "metadata": {},
   "outputs": [
    {
     "name": "stdout",
     "output_type": "stream",
     "text": [
      "0 91 10\n"
     ]
    }
   ],
   "source": [
    "print(min(a), max(a), len(a))"
   ]
  },
  {
   "cell_type": "code",
   "execution_count": 12,
   "id": "c6f9377b-0210-4c69-a65b-b45ef8660452",
   "metadata": {},
   "outputs": [
    {
     "data": {
      "text/plain": [
       "388"
      ]
     },
     "execution_count": 12,
     "metadata": {},
     "output_type": "execute_result"
    }
   ],
   "source": [
    "sum(a)"
   ]
  },
  {
   "cell_type": "code",
   "execution_count": 13,
   "id": "58902114-a5b1-477f-a750-1ac05aa3289b",
   "metadata": {},
   "outputs": [
    {
     "data": {
      "text/plain": [
       "5050"
      ]
     },
     "execution_count": 13,
     "metadata": {},
     "output_type": "execute_result"
    }
   ],
   "source": [
    "sum(range(1, 101))"
   ]
  },
  {
   "cell_type": "code",
   "execution_count": 14,
   "id": "c3df536e-f7d2-41ed-b37a-795084bfb410",
   "metadata": {},
   "outputs": [
    {
     "name": "stdout",
     "output_type": "stream",
     "text": [
      "154\n"
     ]
    }
   ],
   "source": [
    "day = 3\n",
    "month = 6\n",
    "days_in_month = [31, 28, 31, 30, 31, 30, 31, 31, 30, 31, 30, 31]\n",
    "count = day + sum(days_in_month[0:month - 1])\n",
    "print(count)"
   ]
  },
  {
   "cell_type": "code",
   "execution_count": 15,
   "id": "0760690a-701f-4b27-b9c7-9ea7b80b8acf",
   "metadata": {},
   "outputs": [
    {
     "data": {
      "text/plain": [
       "'DDDDDDDDDDDDDDDDDDDDDDDDDDDDDDDDDDDDDDDDDDDDDDDDDDDDDDDDDDDDCCCCCCCCCCBBBBBBBBBBBBBBBBBBBBAAAAAAAAAAA'"
      ]
     },
     "execution_count": 15,
     "metadata": {},
     "output_type": "execute_result"
    }
   ],
   "source": [
    "lut = 'D' * 60 + 'C' * 10 + 'B' * 20 + 'A' * 11\n",
    "lut"
   ]
  },
  {
   "cell_type": "code",
   "execution_count": 16,
   "id": "572306ed-e34d-4f81-9be7-848badfcf47a",
   "metadata": {},
   "outputs": [
    {
     "data": {
      "text/plain": [
       "'A'"
      ]
     },
     "execution_count": 16,
     "metadata": {},
     "output_type": "execute_result"
    }
   ],
   "source": [
    "lut[95]"
   ]
  },
  {
   "cell_type": "code",
   "execution_count": 18,
   "id": "236d4d5f-e369-4c77-bfac-baa16cfee8f7",
   "metadata": {},
   "outputs": [
    {
     "name": "stdin",
     "output_type": "stream",
     "text": [
      "please input a score:  22\n"
     ]
    },
    {
     "name": "stdout",
     "output_type": "stream",
     "text": [
      "Grade is D\n"
     ]
    }
   ],
   "source": [
    "score = int(input('please input a score: '))\n",
    "if 0 <= score <= 100:\n",
    "    print(f'Grade is {lut[score]}')"
   ]
  },
  {
   "cell_type": "code",
   "execution_count": 19,
   "id": "accee407-7313-459f-82be-593b0d182aa9",
   "metadata": {},
   "outputs": [
    {
     "data": {
      "text/plain": [
       "[1, 2, 3, 4]"
      ]
     },
     "execution_count": 19,
     "metadata": {},
     "output_type": "execute_result"
    }
   ],
   "source": [
    "a = list(range(1, 5))\n",
    "a"
   ]
  },
  {
   "cell_type": "code",
   "execution_count": 20,
   "id": "2ef9b51b-26cb-4eb3-aefd-185ed0d2ba84",
   "metadata": {},
   "outputs": [
    {
     "data": {
      "text/plain": [
       "[1, 2, 3, 4, 5]"
      ]
     },
     "execution_count": 20,
     "metadata": {},
     "output_type": "execute_result"
    }
   ],
   "source": [
    "a.append(5)\n",
    "a"
   ]
  },
  {
   "cell_type": "code",
   "execution_count": 21,
   "id": "e1c3874a-090c-4189-bf8b-54d85af516d6",
   "metadata": {},
   "outputs": [
    {
     "name": "stdout",
     "output_type": "stream",
     "text": [
      "5\n"
     ]
    }
   ],
   "source": [
    "print(a.pop())"
   ]
  },
  {
   "cell_type": "code",
   "execution_count": 22,
   "id": "489b4411-fdd3-47f7-8922-fb29536a7b0c",
   "metadata": {},
   "outputs": [
    {
     "data": {
      "text/plain": [
       "[1, 2, 3, 4]"
      ]
     },
     "execution_count": 22,
     "metadata": {},
     "output_type": "execute_result"
    }
   ],
   "source": [
    "a"
   ]
  },
  {
   "cell_type": "code",
   "execution_count": 85,
   "id": "9e9d3027-7422-4049-8b5d-279946aad861",
   "metadata": {},
   "outputs": [
    {
     "name": "stdin",
     "output_type": "stream",
     "text": [
      "匹配符号Please input an expression:  []]\n"
     ]
    },
    {
     "name": "stdout",
     "output_type": "stream",
     "text": [
      "Not match.\n"
     ]
    }
   ],
   "source": [
    "# 匹配括号。其他字符什么都不做，先把是左半括号的字符存起来，遇到右半括号依次与栈里存的比较。\n",
    "expression = input('匹配符号Please input an expression: ')\n",
    "my_stack = list()\n",
    "left_quotes = '{[('\n",
    "right_quotes = '}])'\n",
    "\n",
    "not_match = False\n",
    "for ch in expression:\n",
    "    if ch in left_quotes:\n",
    "        my_stack.append(ch)\n",
    "    elif ch in right_quotes:\n",
    "        if my_stack == []:\n",
    "            not_match = True\n",
    "            break\n",
    "        else:\n",
    "            left_ch = my_stack.pop()\n",
    "            if left_quotes.index(left_ch) != right_quotes.index(ch):\n",
    "                not_match = True\n",
    "                break\n",
    "\n",
    "if not_match or my_stack != []:\n",
    "    print('Not match.')\n",
    "else:\n",
    "    print('Match.')"
   ]
  },
  {
   "cell_type": "code",
   "execution_count": 13,
   "id": "c94fd8ec-369f-49ac-bd15-fcb7e15a43fe",
   "metadata": {},
   "outputs": [
    {
     "name": "stdout",
     "output_type": "stream",
     "text": [
      "[0, 0, 0, 0, 0, 0]\n",
      "[1617, 1698, 1653, 1614, 1727, 1691]\n"
     ]
    },
    {
     "data": {
      "image/png": "[encoded data removed]",
      "text/plain": [
       "<Figure size 640x480 with 1 Axes>"
      ]
     },
     "metadata": {},
     "output_type": "display_data"
    }
   ],
   "source": [
    "# 投掷n次命中不同箱子的柱状图\n",
    "import random\n",
    "import matplotlib.pyplot as plt\n",
    "\n",
    "count = [0] * 6\n",
    "print(count)\n",
    "n = 10000\n",
    "for _ in range(n):\n",
    "    count[random.randint(0, 5)] += 1\n",
    "print(count)\n",
    "plt.bar(range(1, 7), count)\n",
    "plt.show()"
   ]
  },
  {
   "cell_type": "code",
   "execution_count": 17,
   "id": "db50ee0e-dee3-4018-aeec-1e0c84d55317",
   "metadata": {},
   "outputs": [
    {
     "name": "stdout",
     "output_type": "stream",
     "text": [
      "[0, 0, 0, 0, 0, 0]\n",
      "[[], [], [], [], [], []]\n"
     ]
    },
    {
     "data": {
      "image/png": "[encoded data removed]",
      "text/plain": [
       "<Figure size 640x480 with 1 Axes>"
      ]
     },
     "metadata": {},
     "output_type": "display_data"
    }
   ],
   "source": [
    "# 随机试验：试验6次；\n",
    "# 试验：观测命中概率随投掷次数增加的变化。\n",
    "# 结论：随着投掷次数的增多，概率趋向于平均。\n",
    "import random\n",
    "count = [0] * 6\n",
    "portions = [[], [], [], [], [], []]\n",
    "print(count)\n",
    "print(portions)\n",
    "n = 500\n",
    "for j in range(0, n):\n",
    "    for i in range(0, 50):\n",
    "        count[random.randint(0, 5)] += 1\n",
    "    # print(count)   # sum(count)=50*j\n",
    "    for i in range(0, 6):\n",
    "        portions[i].append(count[i] / sum(count))\n",
    "    # print(portions) # count中的每个元素的百分比，放进portions，每次都新加一个\n",
    "\n",
    "# [0, 0, 0, 0, 0, 0]\n",
    "# [[], [], [], [], [], []]\n",
    "# [14, 10, 5, 5, 7, 9]\n",
    "# [[0.28], [0.2], [0.1], [0.1], [0.14], [0.18]]\n",
    "# [22, 17, 16, 13, 12, 20]\n",
    "# [[0.28, 0.22], [0.2, 0.17], [0.1, 0.16], [0.1, 0.13], [0.14, 0.12], [0.18, 0.2]]\n",
    "\n",
    "import matplotlib.pyplot as plt\n",
    "#fig, ax = plt.subplots()\n",
    "x = list(range(n))\n",
    "# print(x)\n",
    "plt.plot(x, portions[0], 'r', x, portions[1], 'b', x, portions[2], 'g',\n",
    "         x, portions[3], '', x, portions[4], '',  x, portions[5], '')\n",
    "plt.show()"
   ]
  },
  {
   "cell_type": "code",
   "execution_count": 18,
   "id": "ca1d6e45-cfd8-480e-bd60-d529c166a4f2",
   "metadata": {},
   "outputs": [
    {
     "data": {
      "text/plain": [
       "[1, 2, 3, 4]"
      ]
     },
     "execution_count": 18,
     "metadata": {},
     "output_type": "execute_result"
    }
   ],
   "source": [
    "a = [1, 2, 3]\n",
    "a.append(4)\n",
    "a"
   ]
  },
  {
   "cell_type": "code",
   "execution_count": 19,
   "id": "5469208a-a01f-467a-8188-e43758b3270c",
   "metadata": {},
   "outputs": [
    {
     "name": "stdout",
     "output_type": "stream",
     "text": [
      "1\n"
     ]
    }
   ],
   "source": [
    "print(a.pop(0))"
   ]
  },
  {
   "cell_type": "code",
   "execution_count": 20,
   "id": "a339391c-ccbf-4c7c-95fa-f664d6690c79",
   "metadata": {},
   "outputs": [
    {
     "data": {
      "text/plain": [
       "[2, 3, 4]"
      ]
     },
     "execution_count": 20,
     "metadata": {},
     "output_type": "execute_result"
    }
   ],
   "source": [
    "a"
   ]
  },
  {
   "cell_type": "code",
   "execution_count": 21,
   "id": "090e98e6-0dc6-49e5-924a-64988d599ad9",
   "metadata": {},
   "outputs": [
    {
     "name": "stdout",
     "output_type": "stream",
     "text": [
      "46\n"
     ]
    }
   ],
   "source": [
    "import random\n",
    "count = 0\n",
    "last_three = [0, 0, 0]\n",
    "for _ in range(10000):\n",
    "    last_three.pop(0)\n",
    "    last_three.append(random.randint(1,6))\n",
    "    if last_three == [6, 6, 6]:\n",
    "        count += 1\n",
    "\n",
    "print(count)"
   ]
  },
  {
   "cell_type": "code",
   "execution_count": 22,
   "id": "be4bd190-9074-4c88-841f-e145975348fb",
   "metadata": {},
   "outputs": [
    {
     "data": {
      "text/plain": [
       "[1, 2, 3, 4, 5, 6, 7, 8, 9]"
      ]
     },
     "execution_count": 22,
     "metadata": {},
     "output_type": "execute_result"
    }
   ],
   "source": [
    "a = list(range(1, 10))\n",
    "a"
   ]
  },
  {
   "cell_type": "code",
   "execution_count": 23,
   "id": "5491ade9-4e58-4365-b55a-a501a946755b",
   "metadata": {},
   "outputs": [
    {
     "data": {
      "text/plain": [
       "[1, 4, 9, 16, 25, 36, 49, 64, 81]"
      ]
     },
     "execution_count": 23,
     "metadata": {},
     "output_type": "execute_result"
    }
   ],
   "source": [
    "b = []\n",
    "for x in a:\n",
    "    b.append(x * x)\n",
    "\n",
    "b"
   ]
  },
  {
   "cell_type": "code",
   "execution_count": 86,
   "id": "15f95d8c-819f-4305-9790-c88f065b57eb",
   "metadata": {},
   "outputs": [
    {
     "data": {
      "text/plain": [
       "[0.016837753892477075,\n",
       " 2.482658138212188,\n",
       " 0.2035710365572529,\n",
       " 0.8513303016771275,\n",
       " 0.5099794368246902,\n",
       " 1.0576637376417652,\n",
       " 0.01711357295461183,\n",
       " 1.3647498000572853,\n",
       " 0.5186066301331502,\n",
       " 3.5603923116646925,\n",
       " 2.1023246301213536,\n",
       " 0.7889130608262457,\n",
       " 0.08353086033127695,\n",
       " 2.8772976778634463,\n",
       " 1.5729455306037998,\n",
       " 0.003171032184593326,\n",
       " 3.681884601158507,\n",
       " 3.441540463735464,\n",
       " 0.5120484733327562,\n",
       " 0.07592889923482005,\n",
       " 2.5899744815888974,\n",
       " 0.0042104742995237145,\n",
       " 0.9867661195250796,\n",
       " 0.005598755844823816,\n",
       " 2.6688773305894067,\n",
       " 1.1244415160253343,\n",
       " 0.10970181597464947,\n",
       " 1.0223368806128466,\n",
       " 0.00023185592911803028,\n",
       " 3.2913715312850265,\n",
       " 0.3451647299063225,\n",
       " 0.6852287616661628,\n",
       " 1.0602096404560921,\n",
       " 2.652623040617329,\n",
       " 0.011804253267301591,\n",
       " 1.092655997212179,\n",
       " 0.005107364478280465,\n",
       " 0.035108827625670164,\n",
       " 0.8512210586437449,\n",
       " 0.7494980406899573,\n",
       " 0.14608885274226988,\n",
       " 1.014035173979988,\n",
       " 3.9266598929081815,\n",
       " 0.08955197485476675,\n",
       " 0.14652615017436876,\n",
       " 0.01644373888156598,\n",
       " 1.0846203450226966,\n",
       " 2.064648555043127,\n",
       " 0.14775178004770978,\n",
       " 0.4903408702694932,\n",
       " 2.3046595938856904,\n",
       " 0.6622271633831891,\n",
       " 1.4037593313211496,\n",
       " 0.01231806380110533,\n",
       " 0.012077941355969306,\n",
       " 2.450488553573451,\n",
       " 0.0020126527645688646,\n",
       " 0.06799123565735221,\n",
       " 1.5417588942161884,\n",
       " 0.20452358277106,\n",
       " 0.052198375830215915,\n",
       " 0.23456905029206487,\n",
       " 0.007724104906170635,\n",
       " 1.6892364954598015e-06,\n",
       " 0.39209503534483764,\n",
       " 0.2836589711380561,\n",
       " 1.518639656831118,\n",
       " 2.5928203901047007,\n",
       " 0.7072610935460187,\n",
       " 3.465139624101427,\n",
       " 0.12986884319472838,\n",
       " 0.7039005980134885,\n",
       " 0.00824585165498811,\n",
       " 0.14055543632362577,\n",
       " 0.9565754214393642,\n",
       " 0.03690727716619602,\n",
       " 0.34655722379464676,\n",
       " 0.9048736323169762,\n",
       " 0.46547373959934135,\n",
       " 0.6306849777228347,\n",
       " 0.9412764240670766,\n",
       " 0.006968108754998649,\n",
       " 1.8413908116633313,\n",
       " 0.0925180761467554,\n",
       " 0.736884410886363,\n",
       " 1.873805985873922,\n",
       " 0.3148648661993105,\n",
       " 0.45294215005648664,\n",
       " 0.5378212084630227,\n",
       " 0.12303648289803899,\n",
       " 1.0425904256347708e-06,\n",
       " 0.041812301847921694,\n",
       " 0.0017419781443754768,\n",
       " 0.0031998661609219155,\n",
       " 0.5349450903259254,\n",
       " 0.9489500883438415,\n",
       " 1.0138665950558494,\n",
       " 4.836915112600301,\n",
       " 0.06952889462776837,\n",
       " 0.0908965201300092,\n",
       " 0.6715735320413658,\n",
       " 3.5042375689486143,\n",
       " 0.2656285078347485,\n",
       " 0.107068917388419,\n",
       " 1.4359442780707767,\n",
       " 4.647493328635907,\n",
       " 0.6621600287906503,\n",
       " 0.0042192178894400415,\n",
       " 2.6015725672858183,\n",
       " 0.5341917611955634,\n",
       " 1.7749622297281542,\n",
       " 0.1705040884667545,\n",
       " 0.0788528343539345,\n",
       " 0.270762209038846,\n",
       " 0.5020918368837879,\n",
       " 0.2135271635789294,\n",
       " 0.1044609570639604,\n",
       " 0.7092665495239289,\n",
       " 1.0138246957337287,\n",
       " 0.6243958155641214,\n",
       " 0.6066929340327601,\n",
       " 0.004822959062899197,\n",
       " 0.13319888973157518,\n",
       " 1.5039038093903512,\n",
       " 0.6536503048752573,\n",
       " 0.2732227606337951,\n",
       " 0.3036089394263287,\n",
       " 1.7588713686689446,\n",
       " 0.37814272587033715,\n",
       " 0.005791195429300075,\n",
       " 0.44284380299774556,\n",
       " 0.3283293241511921,\n",
       " 0.39503522599623264,\n",
       " 0.8255642856005521,\n",
       " 0.5165978461132308,\n",
       " 2.4482983792325115,\n",
       " 0.7232384365825149,\n",
       " 0.039611082738518544,\n",
       " 0.5491922561674957,\n",
       " 0.11930589824844141,\n",
       " 1.5353946879477929,\n",
       " 0.7081397459680182,\n",
       " 0.1779875349012291,\n",
       " 0.9867289743159521,\n",
       " 1.6587417573340755,\n",
       " 2.0434706184587914,\n",
       " 0.0035167435552262076,\n",
       " 0.5269682081048405,\n",
       " 0.0006416414000303113,\n",
       " 4.519051165126615,\n",
       " 2.88766303498406,\n",
       " 0.04143604593087042,\n",
       " 0.09101429563007699,\n",
       " 0.8151826798664404,\n",
       " 0.01784613468275877,\n",
       " 1.1058189050429814,\n",
       " 0.17512789563347525,\n",
       " 0.000182245296142566,\n",
       " 0.06899967412934511,\n",
       " 0.7691735062179053,\n",
       " 1.6836686387633162,\n",
       " 1.5617860202115637,\n",
       " 0.0020375575514200088,\n",
       " 0.13154849409111632,\n",
       " 0.35929599766484976,\n",
       " 0.16674452683556307,\n",
       " 0.31235575704235363,\n",
       " 2.0186094844055473,\n",
       " 1.1390903946689037,\n",
       " 0.03833628119770295,\n",
       " 0.06203642598130686,\n",
       " 0.0018169818937238571,\n",
       " 1.6636754387282697,\n",
       " 0.9973647683529825,\n",
       " 0.11721397040139453,\n",
       " 0.0474116851820537,\n",
       " 0.2604887814837986,\n",
       " 0.31293480408278124,\n",
       " 1.030253673807401,\n",
       " 0.717782653954467,\n",
       " 1.4755479439983754,\n",
       " 0.02885870712032783,\n",
       " 3.3829305982544025,\n",
       " 0.8643085920179475,\n",
       " 1.2706538392930757,\n",
       " 0.3026942143679071,\n",
       " 0.07209029382230943,\n",
       " 0.007728489443903533,\n",
       " 0.07024451151363094,\n",
       " 2.842857090432342,\n",
       " 0.3227540881829529,\n",
       " 0.2452656625849118,\n",
       " 1.594915642288582e-05,\n",
       " 0.5577905824143118,\n",
       " 0.001700992133021655,\n",
       " 0.5679689063562854,\n",
       " 1.0159833634274444,\n",
       " 0.07420616960239207,\n",
       " 1.041828500462789,\n",
       " 0.4729158800975202,\n",
       " 0.9400210689897761,\n",
       " 3.2756997915219466,\n",
       " 2.3660529010042097,\n",
       " 0.07415317948472973,\n",
       " 1.1798368139115831,\n",
       " 2.3379759493564554,\n",
       " 3.4238691304222444,\n",
       " 1.7933004879748047,\n",
       " 2.900545665685136,\n",
       " 2.0694727252743226,\n",
       " 2.9130753791698942,\n",
       " 2.215874192523764,\n",
       " 0.6161983040540705,\n",
       " 1.4275247168678964,\n",
       " 0.8791162252078024,\n",
       " 0.056308742861353255,\n",
       " 0.1863798544614435,\n",
       " 3.303478291477496,\n",
       " 0.33677588835221534,\n",
       " 0.04077259846470351,\n",
       " 0.3978167768025169,\n",
       " 1.9950449598343782,\n",
       " 1.4933536720934835,\n",
       " 0.0985893458340942,\n",
       " 0.7400096362347095,\n",
       " 0.050471551505744325,\n",
       " 1.9747242089418866,\n",
       " 0.31300827156285155,\n",
       " 0.055405412332542606,\n",
       " 0.08327804221205355,\n",
       " 0.5925260888427742,\n",
       " 1.1574070796322151,\n",
       " 0.398305861189027,\n",
       " 0.7625714758076213,\n",
       " 1.5457048034139604,\n",
       " 0.3110461763303482,\n",
       " 1.4029891953409017,\n",
       " 0.020433066304647463,\n",
       " 0.16891137060764663,\n",
       " 0.4946869162031046,\n",
       " 0.5970377694758296,\n",
       " 0.19794179097755987,\n",
       " 0.04108423145109113,\n",
       " 1.7288507478393151,\n",
       " 0.6532323038463351,\n",
       " 1.2617401468707385,\n",
       " 0.12359449666691495,\n",
       " 3.8913166697346058,\n",
       " 0.9991863152658843,\n",
       " 0.7053747177950916,\n",
       " 0.17399497056722008,\n",
       " 0.8181229159938491,\n",
       " 0.00846888390020742,\n",
       " 0.2551527665695549,\n",
       " 2.3694021042228774,\n",
       " 2.457011351621524,\n",
       " 1.7439031444250814,\n",
       " 1.2337571813976957,\n",
       " 0.10112469388311465,\n",
       " 1.3914968446015998,\n",
       " 0.46959161375898467,\n",
       " 0.4183887266442089,\n",
       " 0.21192062680966017,\n",
       " 0.024018244894890947,\n",
       " 0.05597598055105196,\n",
       " 3.094103831950067,\n",
       " 0.0005001053500096373,\n",
       " 1.1532005096771427,\n",
       " 0.1794802697427222,\n",
       " 0.04152097974733977,\n",
       " 0.013030755976929915,\n",
       " 2.488216715007119,\n",
       " 5.7993443927144135,\n",
       " 0.2865936805027818,\n",
       " 0.021344575004544585,\n",
       " 1.3842287012173506,\n",
       " 0.11873299868910245,\n",
       " 0.1658570532021062,\n",
       " 0.22674721960443353,\n",
       " 0.0026374754648207394,\n",
       " 1.7708399105181991,\n",
       " 0.272728519537667,\n",
       " 0.6202776664986798,\n",
       " 5.846159937210207,\n",
       " 0.36828814819330524,\n",
       " 0.03298464613912103,\n",
       " 1.9962487186952327,\n",
       " 0.0010833331204618275,\n",
       " 0.08640777945691445,\n",
       " 0.19037841749384465,\n",
       " 0.9159333256578467,\n",
       " 1.6640211264907003,\n",
       " 4.970437043032931,\n",
       " 0.23363717243134127,\n",
       " 2.2351751450708854,\n",
       " 0.12941007746723768,\n",
       " 0.08154487523755681,\n",
       " 0.004740949103903976,\n",
       " 0.0002986753790178269,\n",
       " 1.03302739223648,\n",
       " 0.13878540392744204,\n",
       " 0.010242795617971891,\n",
       " 0.39722547619185455,\n",
       " 1.3121587418610017,\n",
       " 1.5877202858628165,\n",
       " 0.44120191156846156,\n",
       " 1.338114728859033,\n",
       " 5.642056120998155,\n",
       " 2.7716900985069195,\n",
       " 0.26144097844347075,\n",
       " 1.5026361533879558,\n",
       " 0.4218783909117083,\n",
       " 0.21479738454411984,\n",
       " 0.5707811187257467,\n",
       " 0.8346325447757069,\n",
       " 0.5059058572387439,\n",
       " 0.011285486364005117,\n",
       " 0.5065916490712415,\n",
       " 0.6013022808063302,\n",
       " 5.086509505464734,\n",
       " 1.1361892759988326,\n",
       " 0.42176987851903097,\n",
       " 0.20850383211068355,\n",
       " 0.13027285168041178,\n",
       " 0.10542009007857486,\n",
       " 5.674638103921121,\n",
       " 0.5407527628688323,\n",
       " 0.00034311162701699497,\n",
       " 0.4756324527486673,\n",
       " 2.726847372114436,\n",
       " 0.07288507277379906,\n",
       " 0.0685624885924727,\n",
       " 1.397415779503026,\n",
       " 0.5607353173357166,\n",
       " 0.9678114592791461,\n",
       " 0.09585425979894155,\n",
       " 3.874792753766881,\n",
       " 0.02058313293204097,\n",
       " 0.43431269490745383,\n",
       " 1.444494880771213,\n",
       " 0.11875213627735468,\n",
       " 0.5824336819791721,\n",
       " 0.2976515429157237,\n",
       " 0.05457904135684668,\n",
       " 0.08609634219869029,\n",
       " 3.2166836088616364,\n",
       " 0.6569403580008913,\n",
       " 0.49096269422278044,\n",
       " 0.0563041296311672,\n",
       " 0.11877267260921222,\n",
       " 0.07512507014129464,\n",
       " 3.4907927644143086,\n",
       " 0.3090503870495013,\n",
       " 5.779242570907596,\n",
       " 0.00831688847559505,\n",
       " 0.06262635288552554,\n",
       " 0.009819433976437851,\n",
       " 0.6693463126361582,\n",
       " 0.015288261524042897,\n",
       " 1.9759223748292853,\n",
       " 0.16944190085957225,\n",
       " 0.05272815591094968,\n",
       " 0.43868686833432174,\n",
       " 3.1081227489602545,\n",
       " 2.4967090052411187,\n",
       " 0.6937167810095084,\n",
       " 0.33064939798267834,\n",
       " 1.7128451071905781,\n",
       " 2.8241098273422716,\n",
       " 2.474037322255188,\n",
       " 6.271007890752842,\n",
       " 0.08615308612420909,\n",
       " 1.4141331397771781,\n",
       " 1.3759420663804918,\n",
       " 1.168368214098897,\n",
       " 0.512151294296253,\n",
       " 0.17472730878592277,\n",
       " 1.217064047122199,\n",
       " 0.6009090853153655,\n",
       " 0.4297946141072494,\n",
       " 0.9509375213159589,\n",
       " 2.204143696800439,\n",
       " 1.5543691835721323,\n",
       " 2.202555556082206,\n",
       " 2.2390741170182182,\n",
       " 0.003228052184872953,\n",
       " 1.493218102043357,\n",
       " 1.5971966696538635,\n",
       " 0.3579305631749805,\n",
       " 0.14546991416691182,\n",
       " 0.987022800988272,\n",
       " 2.0511278195136553,\n",
       " 0.044135235292961573,\n",
       " 0.010866760834825464,\n",
       " 0.922877481721941,\n",
       " 1.50371582604085,\n",
       " 1.1646235585290015,\n",
       " 0.3649776656339651,\n",
       " 0.009615615646442676,\n",
       " 0.13390885445432985,\n",
       " 1.6234295733106765,\n",
       " 3.828658958199783,\n",
       " 0.10070705936808244,\n",
       " 0.45501725274604565,\n",
       " 0.028451220064095055,\n",
       " 1.2371514882880998e-06,\n",
       " 5.126998093987869,\n",
       " 3.2109142592952744,\n",
       " 1.7353709007029463,\n",
       " 2.7757904130602924,\n",
       " 2.391767072316059,\n",
       " 3.73529841380589,\n",
       " 0.00012660291228486936,\n",
       " 2.9493379987119153,\n",
       " 0.6955285086465193,\n",
       " 0.638595917594244,\n",
       " 3.0389659887858036,\n",
       " 0.016137779501511563,\n",
       " 0.5497585542965835,\n",
       " 1.8197641827522266,\n",
       " 2.3955435786111727,\n",
       " 0.5304844055212202,\n",
       " 0.5692140553029541,\n",
       " 0.6512560364071562,\n",
       " 1.2145484740066002,\n",
       " 0.6896681601114408,\n",
       " 0.04060405745142282,\n",
       " 0.01801791605884226,\n",
       " 0.0015287941279620656,\n",
       " 0.1764092685464157,\n",
       " 0.3646212588677379,\n",
       " 0.6249454600514377,\n",
       " 0.054497309345453715,\n",
       " 0.5207433193278572,\n",
       " 1.882245841263099,\n",
       " 0.1295464879516326,\n",
       " 0.8864883751065602,\n",
       " 0.5186030891377654,\n",
       " 0.03854508101740725,\n",
       " 6.539803995720233,\n",
       " 1.538360023905989,\n",
       " 0.025994313907352958,\n",
       " 0.6069062354498964,\n",
       " 0.2932388541825715,\n",
       " 7.338853565144221,\n",
       " 1.8261926937710493,\n",
       " 0.7473462852961403,\n",
       " 0.33384980577568035,\n",
       " 0.00843422289746484,\n",
       " 1.8600923915640288,\n",
       " 3.312934196708559e-09,\n",
       " 3.5235198928444045,\n",
       " 0.2751696580377798,\n",
       " 0.088990392394619,\n",
       " 0.014100682113768921,\n",
       " 0.6853446369533932,\n",
       " 0.7748037033115961,\n",
       " 0.5342845580602718,\n",
       " 2.0696278815314213,\n",
       " 0.0003540504006658462,\n",
       " 4.2159581311267615,\n",
       " 0.15219053951234704,\n",
       " 0.3185294105964657,\n",
       " 0.03499030221487093,\n",
       " 0.00309275841760604,\n",
       " 0.9492099081484324,\n",
       " 0.00022457529827044783,\n",
       " 1.2500897917198341,\n",
       " 0.150753200881632,\n",
       " 0.38455007449214407,\n",
       " 0.007908572081906495,\n",
       " 1.0438824468033876,\n",
       " 4.839796377201962e-05,\n",
       " 0.275631531460898,\n",
       " 0.05966528332068696,\n",
       " 0.45092282779839993,\n",
       " 2.2915748707568784,\n",
       " 0.953432129523903,\n",
       " 0.14657879868124332,\n",
       " 0.36575685477001824,\n",
       " 0.023627241816853637,\n",
       " 0.15521252039059558,\n",
       " 0.04705997629962319,\n",
       " 1.3113570081501997,\n",
       " 0.1686848418390931,\n",
       " 0.3978604714772203,\n",
       " 2.073282139708063,\n",
       " 0.5290955630412473,\n",
       " 0.03935308041047806,\n",
       " 0.21958415388910255,\n",
       " 0.12329034307483232,\n",
       " 0.154337488670556,\n",
       " 0.30998225662787326,\n",
       " 0.17292773587539492,\n",
       " 1.7906388037174028,\n",
       " 0.06911046405433605,\n",
       " 0.3315356161871309,\n",
       " 8.621903201782708,\n",
       " 1.7925172520587256,\n",
       " 1.1199388484966393,\n",
       " 0.07391629998530051,\n",
       " 0.00026443229376999004,\n",
       " 0.07916434233354762,\n",
       " 0.7016909683749624,\n",
       " 0.006452217125535762,\n",
       " 0.91089528045123,\n",
       " 0.48679830665346036,\n",
       " 0.7398307219751832,\n",
       " 0.15582433929748307,\n",
       " 0.29989683251628435,\n",
       " 3.148955941167165,\n",
       " 0.1963749952552396,\n",
       " 2.1659386247630072,\n",
       " 0.2272541323435779,\n",
       " 1.2257990938283878,\n",
       " 0.9442092995607203,\n",
       " 0.5193532098637319,\n",
       " 0.09460399949595971,\n",
       " 0.5714856381447558,\n",
       " 0.3093280071558242,\n",
       " 0.19544927005727158,\n",
       " 2.128298926506769,\n",
       " 0.0046384639002543275,\n",
       " 0.20121844004128875,\n",
       " 0.03958929674329445,\n",
       " 2.4315681064343955,\n",
       " 0.04043778873372691,\n",
       " 0.03209043938358238,\n",
       " 0.0012522446943200784,\n",
       " 1.3451200604790663,\n",
       " 0.18727568854649862,\n",
       " 2.091699450108645,\n",
       " 0.0600736691580203,\n",
       " 0.5616337626077053,\n",
       " 0.4520400892556087,\n",
       " 1.3119078504673698,\n",
       " 4.554032214390089,\n",
       " 0.3928316990349993,\n",
       " 0.026931602362094034,\n",
       " 1.7152058918664432,\n",
       " 0.40983769437215134,\n",
       " 1.8443149522766626,\n",
       " 0.8746396147095026,\n",
       " 2.1853566952519508,\n",
       " 1.248112046187901,\n",
       " 0.07951347767330717,\n",
       " 0.23210663625629727,\n",
       " 2.6589333270999047,\n",
       " 2.525530517945413,\n",
       " 0.054463555698173405,\n",
       " 1.0474941382423286,\n",
       " 0.5137397920629833,\n",
       " 0.027751441526185593,\n",
       " 6.880418272793717,\n",
       " 0.5767963741499165,\n",
       " 1.0663162891230595,\n",
       " 2.6531305244739007,\n",
       " 0.83574892487673,\n",
       " 3.205024202304909,\n",
       " 0.2899083724013854,\n",
       " 0.7836785834100787,\n",
       " 1.0449792928100579,\n",
       " 0.8467540648559712,\n",
       " 1.3607650392469435,\n",
       " 1.3303478187677489,\n",
       " 0.007077436208098849,\n",
       " 0.25103941915783234,\n",
       " 0.38753586443285865,\n",
       " 0.5911022431100839,\n",
       " 0.6842078305783239,\n",
       " 0.3434493563481457,\n",
       " 0.5076442384100635,\n",
       " 3.3913080729056118,\n",
       " 0.1845604843814415,\n",
       " 3.218987861240599,\n",
       " 1.0035886187235152,\n",
       " 0.22972551879693212,\n",
       " 1.3862479009236586,\n",
       " 0.6271883579660729,\n",
       " 0.12298579144699245,\n",
       " 0.8323464025871846,\n",
       " 3.490476920392614,\n",
       " 0.7124330443994777,\n",
       " 0.6063651710287741,\n",
       " 1.169054880211443,\n",
       " 0.9576316006605249,\n",
       " 0.00482803876497887,\n",
       " 0.21487075801407315,\n",
       " 2.2602740882686474,\n",
       " 1.1766363659671202,\n",
       " 0.7400431612124249,\n",
       " 0.0032587318806040913,\n",
       " 4.804222139696059,\n",
       " 2.2900553088876516,\n",
       " 1.845512096889221,\n",
       " 0.2980538799650812,\n",
       " 1.641876306856541,\n",
       " 0.018681324677175468,\n",
       " 0.020512079341636447,\n",
       " 0.0585130156139753,\n",
       " 0.5160021524437439,\n",
       " 1.4221852105399666,\n",
       " 1.8235509821845288,\n",
       " 0.04071347052291606,\n",
       " 0.43808299674682843,\n",
       " 0.08137681861874177,\n",
       " 0.8999318309960177,\n",
       " 0.2098302118008872,\n",
       " 0.05065968254159845,\n",
       " 1.2117372463806113,\n",
       " 0.4893446410270101,\n",
       " 0.16276912064077162,\n",
       " 0.05843496206356476,\n",
       " 0.21735265635668619,\n",
       " 5.510763044294082,\n",
       " 0.06750728694268576,\n",
       " 0.8838872538807685,\n",
       " 1.8611438164491334,\n",
       " 0.02707245837097582,\n",
       " 0.6826395261128074,\n",
       " 1.7933519967731297,\n",
       " 0.05110043473225862,\n",
       " 0.7083106269982946,\n",
       " 0.2778009781217754,\n",
       " 0.22568027443743885,\n",
       " 0.5366780147143918,\n",
       " 8.155132241118087,\n",
       " 0.03853284642026564,\n",
       " 2.8647427367407343,\n",
       " 1.5714177481350204,\n",
       " 0.4073080809963623,\n",
       " 0.05761397133489161,\n",
       " 0.9857321177677699,\n",
       " 0.0005572030336334185,\n",
       " 1.895645817955224,\n",
       " 2.1635599062733166,\n",
       " 5.207709755013129,\n",
       " 2.123388013294975,\n",
       " 0.014112949230237284,\n",
       " 0.8271270474920234,\n",
       " 0.10856919149694425,\n",
       " 0.9895110798807184,\n",
       " 0.23662738424444207,\n",
       " 3.887144995399525,\n",
       " 0.23160843174409818,\n",
       " 0.8692549086714465,\n",
       " 0.00017886428558896552,\n",
       " 0.002293195850953092,\n",
       " 0.006908484666561952,\n",
       " 0.5621109211659099,\n",
       " 0.730162637255721,\n",
       " 0.0357732628893868,\n",
       " 5.3416792798633,\n",
       " 0.34331149516396814,\n",
       " 0.593795435704105,\n",
       " 1.5886076698064633,\n",
       " 1.1438195749623108,\n",
       " 0.008532323493423942,\n",
       " 0.25999139798841253,\n",
       " 0.5910442585046941,\n",
       " 0.562555814865763,\n",
       " 0.11433093515854319,\n",
       " 0.2315487785283385,\n",
       " 0.3166982266222782,\n",
       " 0.2014111626824878,\n",
       " 1.2930321113423837,\n",
       " 0.12500380710065773,\n",
       " 0.027875375408679366,\n",
       " 0.01747725870687834,\n",
       " 1.0079207110703698,\n",
       " 1.6428602813574056,\n",
       " 0.10614396779839227,\n",
       " 0.024763381879918493,\n",
       " 0.6764026297768755,\n",
       " 0.22815546439662357,\n",
       " 0.02511953191459715,\n",
       " 0.0526941428716554,\n",
       " 0.03147683169121742,\n",
       " 0.5718463350473022,\n",
       " 0.9146712893793323,\n",
       " 0.07255250287200364,\n",
       " 0.10165193000107017,\n",
       " 0.1021937208944006,\n",
       " 0.5202559404383053,\n",
       " 0.5558141833966973,\n",
       " 0.08176742551658947,\n",
       " 1.5976630963469236,\n",
       " 0.16913047124962902,\n",
       " 0.1749744769849772,\n",
       " 0.6009804432866377,\n",
       " 0.4421335607097151,\n",
       " 1.2449167487173336,\n",
       " 0.013446838826440412,\n",
       " 1.0273143495009114,\n",
       " 0.00998465062295676,\n",
       " 1.059611181709173,\n",
       " 2.261879102975422,\n",
       " 3.918350600846721,\n",
       " 0.18548106140093984,\n",
       " 0.011393652500699987,\n",
       " 2.511335148904964,\n",
       " 0.004156619232335244,\n",
       " 1.3223150337392187,\n",
       " 0.5961673558248143,\n",
       " 0.9652965979086782,\n",
       " 0.986462952481289,\n",
       " 0.11012063166088197,\n",
       " 0.03659622990280759,\n",
       " 0.1570493968321782,\n",
       " 0.730055928096782,\n",
       " 0.019846411645992754,\n",
       " 0.016054737725235406,\n",
       " 1.5122184101773275,\n",
       " 0.11370567370909454,\n",
       " 0.40227494173171213,\n",
       " 0.37195661726737006,\n",
       " 0.6468216110946361,\n",
       " 0.5490476292398976,\n",
       " 0.6948347804638129,\n",
       " 0.6445046398274498,\n",
       " 0.03396844397320817,\n",
       " 0.14566481357599462,\n",
       " 0.4324957745628296,\n",
       " 0.019687620438733885,\n",
       " 1.5835355848522303,\n",
       " 3.141445914331077,\n",
       " 0.002712785848240641,\n",
       " 0.38041229047191794,\n",
       " 0.2391488157553418,\n",
       " 0.5052867401929023,\n",
       " 1.3229192351666925,\n",
       " 1.0267003625700462,\n",
       " 0.05890452478237802,\n",
       " 0.4224307800051889,\n",
       " 0.007684808868564175,\n",
       " 0.275652004167261,\n",
       " 3.427047090507185,\n",
       " 2.4522646942472466e-05,\n",
       " 0.24253461610730845,\n",
       " 0.23700987823557473,\n",
       " 3.5774461528404675,\n",
       " 1.936399342547421,\n",
       " 0.6167468956603968,\n",
       " 0.19902589075756216,\n",
       " 0.03976484677227204,\n",
       " 0.004135035585371306,\n",
       " 0.3666935870059546,\n",
       " 0.025922845150222563,\n",
       " 0.009127914912868532,\n",
       " 8.04003865436308,\n",
       " 1.3829767321229087,\n",
       " 1.2532572864750113,\n",
       " 0.640454995203577,\n",
       " 0.0007620160953989752,\n",
       " 1.205666961708836,\n",
       " 5.352297035209269,\n",
       " 0.13649226367688716,\n",
       " 0.6385430793193022,\n",
       " 0.4548345573602929,\n",
       " 3.8012274312789187,\n",
       " 1.2387667907655215,\n",
       " 0.07941513557016294,\n",
       " 0.34837699419984336,\n",
       " 0.33979571264195885,\n",
       " 3.2606436426984438,\n",
       " 0.04261389636590074,\n",
       " 1.8594805237560117,\n",
       " 1.5184028479310974,\n",
       " 0.6823052072835597,\n",
       " 0.7227033027303178,\n",
       " 1.6589208536701097,\n",
       " 2.1114242787553263,\n",
       " 0.9702467924762053,\n",
       " 1.3182490325581442,\n",
       " 0.0006256318746132707,\n",
       " 0.035386553632511725,\n",
       " 1.3946443791332366,\n",
       " 2.172652759938956,\n",
       " 1.3009186376670536,\n",
       " 2.3525129689464146,\n",
       " 0.3871264130611968,\n",
       " 0.34885851879805363,\n",
       " 0.5910680153154017,\n",
       " 0.025784886732021707,\n",
       " 0.13100861199936958,\n",
       " 1.1107168126349096,\n",
       " 0.006692922973388246,\n",
       " 1.3245802597313807,\n",
       " 0.3044749984845518,\n",
       " 0.07060719235286972,\n",
       " 1.9814763490261154,\n",
       " 1.4987063595145615,\n",
       " 0.17959609174258512,\n",
       " 0.9195058042966476,\n",
       " 0.010124886987369266,\n",
       " 0.13394523631421248,\n",
       " 2.318830452801621,\n",
       " 0.009352687596224726,\n",
       " 0.6091508441722957,\n",
       " 2.579058429574456,\n",
       " 0.7555817822502008,\n",
       " 0.038408932356670936,\n",
       " 0.5004956771734642,\n",
       " 0.016359547298472124,\n",
       " 4.34020365822026,\n",
       " 0.005460892922850452,\n",
       " 0.46448849551588156,\n",
       " 0.1334558012923284,\n",
       " 0.012163722995988968,\n",
       " 1.87592347599031,\n",
       " 0.07286683292139022,\n",
       " 0.010217077542011318,\n",
       " 0.6609636922808984,\n",
       " 0.36897082538347525,\n",
       " 2.2798177976659786,\n",
       " 0.00021606555921859871,\n",
       " 0.5234242845509203,\n",
       " 3.2979634508109914,\n",
       " 0.45950357484568277,\n",
       " 0.269649626835149,\n",
       " 0.2989981893410269,\n",
       " 4.940093048819289,\n",
       " 0.0030318185363701483,\n",
       " 0.0005197923386521091,\n",
       " 0.9323896178042423,\n",
       " 1.7546098023710412,\n",
       " 0.014107579344128783,\n",
       " 0.2396325952769466,\n",
       " 1.5203572630326385,\n",
       " 0.0654434161326287,\n",
       " 0.20731089442064868,\n",
       " 0.019126352135570297,\n",
       " 0.8098896203662637,\n",
       " 0.6645330444910211,\n",
       " 0.09980802421071279,\n",
       " 0.7697438082312421,\n",
       " 0.6204872782482677,\n",
       " 2.4840365064413388,\n",
       " 4.386962097795311,\n",
       " 0.02942826046283166,\n",
       " 0.04549101487142465,\n",
       " 0.6506870857382956,\n",
       " 0.001986112488519013,\n",
       " 0.01430340411777749,\n",
       " 0.784116581746638,\n",
       " 0.061527272887791175,\n",
       " 0.012324590107550364,\n",
       " 0.293526155610672,\n",
       " 0.8632620337631007,\n",
       " 0.000424500025509573,\n",
       " 1.209117956510539,\n",
       " 1.327917199993391,\n",
       " 0.49285444185301097,\n",
       " 0.39453814399507997,\n",
       " 1.3820292194254484,\n",
       " 0.16898144023776493,\n",
       " 1.8299252460374464,\n",
       " 2.2459566899916816,\n",
       " 1.2338506591384435,\n",
       " 0.46174306850187624,\n",
       " 0.0015048817341060102,\n",
       " 0.0014275102776821248,\n",
       " 0.018253181457898258,\n",
       " 1.0737745515762738,\n",
       " 2.5432281534506953,\n",
       " 1.6421455514501415,\n",
       " 0.007085353794902868,\n",
       " 0.35021991952724,\n",
       " 1.661992674295878,\n",
       " 0.13698471649493527,\n",
       " 0.0001296725515702552,\n",
       " 1.7061253549465314,\n",
       " 0.04916540644301912,\n",
       " 0.19599115192792305,\n",
       " 0.1538342011057541,\n",
       " 0.17852501875200427,\n",
       " 1.8259446585481347,\n",
       " 0.7211320177751587,\n",
       " 0.004489621932508423,\n",
       " 4.443554964533586,\n",
       " 4.540418757375474,\n",
       " 0.7055330840313301,\n",
       " 1.0075229356362765,\n",
       " 0.7804012342286814,\n",
       " 3.2988528795527694,\n",
       " 2.583027486071837,\n",
       " 0.5994479433938414,\n",
       " 0.28934865124347037,\n",
       " 0.7595279546347956,\n",
       " 3.2938697803861343,\n",
       " 0.1141233813609282,\n",
       " 0.07673338055366521,\n",
       " 1.2457798393830093,\n",
       " 0.011934785168874118,\n",
       " 1.1504879736562321,\n",
       " 0.1546948981938916,\n",
       " 0.018314705002578202,\n",
       " 3.668534037486485,\n",
       " 0.002996585704821693,\n",
       " 0.9004287877143445,\n",
       " 0.6744475075172169,\n",
       " 0.23184153845007582,\n",
       " 0.13385229898052914,\n",
       " 6.038646263032694,\n",
       " 1.4725120707342592,\n",
       " 0.02502748163592007,\n",
       " 0.7499785558188238,\n",
       " 0.003073923780637297,\n",
       " 0.02461499507197328,\n",
       " 3.799670716951397,\n",
       " 0.00031390444256365027,\n",
       " 0.16054153359125603,\n",
       " 0.15732387514958313,\n",
       " 3.9974839233938892,\n",
       " 2.369919412062931,\n",
       " 0.09241308728630573,\n",
       " 0.3183666646916287,\n",
       " 5.817198132003261e-05,\n",
       " 0.10959374377873127,\n",
       " 0.6757423474344548,\n",
       " 0.7327753171227824,\n",
       " 0.16015604227404412,\n",
       " 0.7469886124743392,\n",
       " 2.3883018448018336,\n",
       " 0.5296307034854297,\n",
       " 0.867325649212948,\n",
       " 0.26066655263340066,\n",
       " 0.056286153019457656,\n",
       " 0.16590321438722275,\n",
       " 0.029064285891311756,\n",
       " 0.29744639952674695,\n",
       " 0.3867892389527466,\n",
       " 0.022292357700358825,\n",
       " 4.243165887517318,\n",
       " 0.3282715606243489,\n",
       " 0.586120103402933,\n",
       " 0.3538543644612478,\n",
       " 0.10913148014257239,\n",
       " 0.2626092194202608,\n",
       " 0.04073962400814994,\n",
       " 0.036758560732904705,\n",
       " 0.017534956667794255,\n",
       " 0.7117125602065932,\n",
       " 0.0735747152936267,\n",
       " 0.0648316931907033,\n",
       " 0.05086052021683571,\n",
       " 0.4245915589759276,\n",
       " 0.18211338909863103,\n",
       " 0.2565956827097665,\n",
       " 1.6427559130064355,\n",
       " 3.478641184912009,\n",
       " 2.5032237439566485,\n",
       " 0.048101899898911706,\n",
       " 2.347086015459955,\n",
       " 1.0641403524513686,\n",
       " 0.47824149725136667,\n",
       " 2.6820437679186355,\n",
       " 1.1099458574252825,\n",
       " 0.004953625177752325,\n",
       " 0.09783057739524935,\n",
       " 0.03422601841834393,\n",
       " 1.7338609300454448,\n",
       " 2.492778988789516,\n",
       " 3.4679093494439943,\n",
       " 3.0698678272223554,\n",
       " 3.920959134009972,\n",
       " 0.6328257964448013,\n",
       " 0.10863696062076608,\n",
       " 0.28316957188513503,\n",
       " 1.2988902084549885,\n",
       " 0.16402691710562528,\n",
       " 0.7933530878669202,\n",
       " 5.038140690488308,\n",
       " 1.1150788499833673,\n",
       " 0.7084021089965092,\n",
       " 0.0964161173195765,\n",
       " 4.743263695550645,\n",
       " 0.06573193265498443,\n",
       " 0.22585195174386655,\n",
       " 3.9489765217161112,\n",
       " 13.500300597529476,\n",
       " 0.40483964952197765,\n",
       " 0.016407060725657008,\n",
       " 0.10268075336988444,\n",
       " 0.10105155297546833,\n",
       " 0.048878416570253776,\n",
       " 0.38124926354109934,\n",
       " 0.11225714199774289,\n",
       " 0.9633892280593449,\n",
       " 1.687499567185579,\n",
       " 1.9868945858256402,\n",
       " 0.33804916526389783,\n",
       " 1.4135491057262641,\n",
       " 1.5418715493452344,\n",
       " 0.17119458105836138,\n",
       " 3.8232929739061308,\n",
       " 1.0936396037989344,\n",
       " 0.4501684410861738,\n",
       " 2.374739749951976,\n",
       " 0.07375788014569412,\n",
       " ...]"
      ]
     },
     "execution_count": 86,
     "metadata": {},
     "output_type": "execute_result"
    }
   ],
   "source": [
    "# a里面每项的平方\n",
    "b = [x * x for x in a]    # 这样比较python，列表推导式list comprehension\n",
    "b"
   ]
  },
  {
   "cell_type": "code",
   "execution_count": 29,
   "id": "082f902d-c9bb-4d8d-8ee5-ee27e2c1ed34",
   "metadata": {},
   "outputs": [
    {
     "data": {
      "image/png": "[encoded data removed]",
      "text/plain": [
       "<Figure size 640x480 with 1 Axes>"
      ]
     },
     "metadata": {},
     "output_type": "display_data"
    }
   ],
   "source": [
    "a = [random.gauss(0, 10) for _ in range(1000)]\n",
    "\n",
    "plt.plot(a)\n",
    "plt.show()"
   ]
  },
  {
   "cell_type": "code",
   "execution_count": 32,
   "id": "b6b4af76-dd02-4d11-90b1-bd9baa3dfb0c",
   "metadata": {},
   "outputs": [
    {
     "name": "stdout",
     "output_type": "stream",
     "text": [
      "[3, 6, 9, 12, 15, 18, 21, 24, 27, 30, 33, 36, 39, 42, 45, 48, 51, 54, 57, 60, 63, 66, 69, 72, 75, 78, 81, 84, 87, 90, 93, 96, 99]\n"
     ]
    }
   ],
   "source": [
    "# 100以内3的倍数\n",
    "a = [x for x in range(1, 101) if x % 3 == 0]\n",
    "print(a)"
   ]
  },
  {
   "cell_type": "code",
   "execution_count": 33,
   "id": "826424ee-ae67-45dc-800e-7333800674ed",
   "metadata": {},
   "outputs": [],
   "source": [
    "a = [random.gauss(0, 1) for _ in range(10000)]"
   ]
  },
  {
   "cell_type": "code",
   "execution_count": 37,
   "id": "07cf6f03-5dd0-4a7e-8f04-34db3b2cb1bf",
   "metadata": {},
   "outputs": [
    {
     "data": {
      "text/plain": [
       "(array([1.000e+00, 3.000e+00, 8.000e+00, 1.700e+01, 2.900e+01, 4.200e+01,\n",
       "        1.170e+02, 1.930e+02, 2.870e+02, 4.260e+02, 6.230e+02, 7.580e+02,\n",
       "        9.040e+02, 9.930e+02, 1.097e+03, 1.009e+03, 9.230e+02, 7.890e+02,\n",
       "        5.980e+02, 4.430e+02, 3.010e+02, 1.890e+02, 1.060e+02, 7.400e+01,\n",
       "        3.700e+01, 2.000e+01, 6.000e+00, 1.000e+00, 4.000e+00, 2.000e+00]),\n",
       " array([-3.86588138, -3.599916  , -3.33395061, -3.06798523, -2.80201984,\n",
       "        -2.53605446, -2.27008907, -2.00412369, -1.7381583 , -1.47219292,\n",
       "        -1.20622753, -0.94026215, -0.67429676, -0.40833138, -0.14236599,\n",
       "         0.12359939,  0.38956478,  0.65553016,  0.92149554,  1.18746093,\n",
       "         1.45342631,  1.7193917 ,  1.98535708,  2.25132247,  2.51728785,\n",
       "         2.78325324,  3.04921862,  3.31518401,  3.58114939,  3.84711478,\n",
       "         4.11308016]),\n",
       " <BarContainer object of 30 artists>)"
      ]
     },
     "execution_count": 37,
     "metadata": {},
     "output_type": "execute_result"
    },
    {
     "data": {
      "image/png": "[encoded data removed]",
      "text/plain": [
       "<Figure size 640x480 with 1 Axes>"
      ]
     },
     "metadata": {},
     "output_type": "display_data"
    }
   ],
   "source": [
    "plt.hist(a, bins = 30)"
   ]
  },
  {
   "cell_type": "code",
   "execution_count": 39,
   "id": "afc7fef0-cf94-4813-8d4f-8b945c0fd5ea",
   "metadata": {},
   "outputs": [
    {
     "name": "stdout",
     "output_type": "stream",
     "text": [
      "1 2\n",
      "2 1\n"
     ]
    }
   ],
   "source": [
    "x, y = 1, 2\n",
    "print(x, y)\n",
    "x, y = y, x\n",
    "print(x, y)"
   ]
  },
  {
   "cell_type": "code",
   "execution_count": 59,
   "id": "ea394035-d220-4286-bf8b-ce221201750d",
   "metadata": {},
   "outputs": [
    {
     "name": "stdout",
     "output_type": "stream",
     "text": [
      "100\n",
      "<class 'list'>\n",
      "[0, 0, 0, 0, 0, 0, 0, 0, 0, 0, 1, 1, 1, 1, 1, 1, 1, 1, 1, 1, 2, 2, 2, 2, 2, 2, 2, 2, 2, 2, 3, 3, 3, 3, 3, 3, 3, 3, 3, 3, 4, 4, 4, 4, 4, 4, 4, 4, 4, 4, 5, 5, 5, 5, 5, 5, 5, 5, 5, 5, 6, 6, 6, 6, 6, 6, 6, 6, 6, 6, 7, 7, 7, 7, 7, 7, 7, 7, 7, 7, 8, 8, 8, 8, 8, 8, 8, 8, 8, 8, 9, 9, 9, 9, 9, 9, 9, 9, 9, 9]\n"
     ]
    }
   ],
   "source": [
    "# 嵌套for的简化\n",
    "x_list = []\n",
    "for x in range(10):\n",
    "    for y in range(10):\n",
    "        x_list.append(x)\n",
    "print(len(x_list))\n",
    "print(type(x_list))\n",
    "print(x_list)\n",
    "\n",
    "# x = [x for x in range(10) for y in range(10)]\n",
    "# print(x)"
   ]
  },
  {
   "cell_type": "code",
   "execution_count": 72,
   "id": "5c77d19f-f982-4633-9f9e-f8dbccb14b18",
   "metadata": {},
   "outputs": [
    {
     "name": "stdout",
     "output_type": "stream",
     "text": [
      "[0, 0, 0, 0, 0, 0, 0, 0, 0, 0, 1, 1, 1, 1, 1, 1, 1, 1, 1, 1, 2, 2, 2, 2, 2, 2, 2, 2, 2, 2, 3, 3, 3, 3, 3, 3, 3, 3, 3, 3, 4, 4, 4, 4, 4, 4, 4, 4, 4, 4, 5, 5, 5, 5, 5, 5, 5, 5, 5, 5, 6, 6, 6, 6, 6, 6, 6, 6, 6, 6, 7, 7, 7, 7, 7, 7, 7, 7, 7, 7, 8, 8, 8, 8, 8, 8, 8, 8, 8, 8, 9, 9, 9, 9, 9, 9, 9, 9, 9, 9]\n"
     ]
    }
   ],
   "source": [
    "# 嵌套for的简化\n",
    "x = [x for x in range(10) for y in range(10)]\n",
    "print(x)"
   ]
  },
  {
   "cell_type": "code",
   "execution_count": 73,
   "id": "adb10ee6-0700-454f-8893-33aa78781054",
   "metadata": {},
   "outputs": [
    {
     "name": "stdout",
     "output_type": "stream",
     "text": [
      "[0, 1, 2, 3, 4, 5, 6, 7, 8, 9, 0, 1, 2, 3, 4, 5, 6, 7, 8, 9, 0, 1, 2, 3, 4, 5, 6, 7, 8, 9, 0, 1, 2, 3, 4, 5, 6, 7, 8, 9, 0, 1, 2, 3, 4, 5, 6, 7, 8, 9, 0, 1, 2, 3, 4, 5, 6, 7, 8, 9, 0, 1, 2, 3, 4, 5, 6, 7, 8, 9, 0, 1, 2, 3, 4, 5, 6, 7, 8, 9, 0, 1, 2, 3, 4, 5, 6, 7, 8, 9, 0, 1, 2, 3, 4, 5, 6, 7, 8, 9]\n"
     ]
    }
   ],
   "source": [
    "y = [y for x in range(10) for y in range(10)]\n",
    "print(y)"
   ]
  },
  {
   "cell_type": "code",
   "execution_count": 68,
   "id": "38060689-718a-43cb-a26b-7d5926b35f1c",
   "metadata": {},
   "outputs": [
    {
     "name": "stdout",
     "output_type": "stream",
     "text": [
      "<class 'list'>\n",
      "100\n",
      "100\n"
     ]
    },
    {
     "data": {
      "image/png": "[encoded data removed]",
      "text/plain": [
       "<Figure size 640x480 with 1 Axes>"
      ]
     },
     "metadata": {},
     "output_type": "display_data"
    },
    {
     "data": {
      "image/png": "[encoded data removed]",
      "text/plain": [
       "<Figure size 640x480 with 1 Axes>"
      ]
     },
     "metadata": {},
     "output_type": "display_data"
    }
   ],
   "source": [
    "print(type(x))\n",
    "print(len(x))\n",
    "print(len(y))\n",
    "\n",
    "plt.scatter(x, y)\n",
    "plt.show()\n",
    "plt.plot(x, y)\n",
    "plt.show()"
   ]
  },
  {
   "cell_type": "code",
   "execution_count": 74,
   "id": "cad0ca50-bd60-4be1-89b0-60334ebd6b2f",
   "metadata": {},
   "outputs": [
    {
     "name": "stdout",
     "output_type": "stream",
     "text": [
      "<zip object at 0x0000015E6866EA40>\n",
      "[0, 1, 4, 9, 16, 25, 36, 49, 64, 81, 1, 2, 5, 10, 17, 26, 37, 50, 65, 82, 4, 5, 8, 13, 20, 29, 40, 53, 68, 85, 9, 10, 13, 18, 25, 34, 45, 58, 73, 90, 16, 17, 20, 25, 32, 41, 52, 65, 80, 97, 25, 26, 29, 34, 41, 50, 61, 74, 89, 106, 36, 37, 40, 45, 52, 61, 72, 85, 100, 117, 49, 50, 53, 58, 65, 74, 85, 98, 113, 130, 64, 65, 68, 73, 80, 89, 100, 113, 128, 145, 81, 82, 85, 90, 97, 106, 117, 130, 145, 162]\n"
     ]
    }
   ],
   "source": [
    "# zip，打包为元组的列表\n",
    "z = [xi * xi + yi * yi for xi, yi in zip(x, y)]\n",
    "print(zip(x, y))\n",
    "print(z)"
   ]
  },
  {
   "cell_type": "code",
   "execution_count": 79,
   "id": "3a23101f-4f1c-4245-b812-743c02cf002a",
   "metadata": {},
   "outputs": [
    {
     "data": {
      "image/png": "[encoded data removed]",
      "text/plain": [
       "<Figure size 1000x800 with 1 Axes>"
      ]
     },
     "metadata": {},
     "output_type": "display_data"
    }
   ],
   "source": [
    "import matplotlib.pyplot as plt\n",
    "#fig, ax = plt.subplots()\n",
    "import numpy as np\n",
    "X = np.array(x).reshape(10, 10)\n",
    "Y = np.array(y).reshape(10, 10)\n",
    "Z = np.array(z).reshape(10, 10)\n",
    "fig = plt.figure(figsize=(10, 8))\n",
    "ax = fig.subplots(subplot_kw={\"projection\": \"3d\"})\n",
    "surf = ax.plot_surface(X, Y, Z, cmap='plasma')"
   ]
  },
  {
   "cell_type": "code",
   "execution_count": null,
   "id": "1f37a2a4-1953-4138-afa1-4bb1c6be2e5b",
   "metadata": {},
   "outputs": [],
   "source": []
  }
 ],
 "metadata": {
  "kernelspec": {
   "display_name": "Python 3 (ipykernel)",
   "language": "python",
   "name": "python3"
  },
  "language_info": {
   "codemirror_mode": {
    "name": "ipython",
    "version": 3
   },
   "file_extension": ".py",
   "mimetype": "text/x-python",
   "name": "python",
   "nbconvert_exporter": "python",
   "pygments_lexer": "ipython3",
   "version": "3.12.5"
  }
 },
 "nbformat": 4,
 "nbformat_minor": 5
}
