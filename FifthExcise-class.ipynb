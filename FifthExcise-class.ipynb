{
 "cells": [
  {
   "cell_type": "code",
   "execution_count": 3,
   "id": "37be7aa2-45d5-4e4c-a78e-6a8eb6ef04aa",
   "metadata": {},
   "outputs": [
    {
     "ename": "NameError",
     "evalue": "name 'init_bar' is not defined",
     "output_type": "error",
     "traceback": [
      "\u001b[1;31m---------------------------------------------------------------------------\u001b[0m",
      "\u001b[1;31mNameError\u001b[0m                                 Traceback (most recent call last)",
      "Cell \u001b[1;32mIn[3], line 2\u001b[0m\n\u001b[0;32m      1\u001b[0m \u001b[38;5;66;03m# 面向过程编程。伪代码\u001b[39;00m\n\u001b[1;32m----> 2\u001b[0m init_bar()\n\u001b[0;32m      3\u001b[0m init_ants()\n\u001b[0;32m      5\u001b[0m \u001b[38;5;28;01mwhile\u001b[39;00m \u001b[38;5;129;01mnot\u001b[39;00m is_bar_empty():\n",
      "\u001b[1;31mNameError\u001b[0m: name 'init_bar' is not defined"
     ]
    }
   ],
   "source": [
    "# 面向过程编程。伪代码\n",
    "init_bar()\n",
    "init_ants()\n",
    "\n",
    "while not is_bar_empty():\n",
    "    show_bar()\n",
    "    wait()\n",
    "    update_ants()\n",
    "    update_bar()"
   ]
  },
  {
   "cell_type": "code",
   "execution_count": null,
   "id": "57bcc6d0-d119-467f-9380-03f2156c9ede",
   "metadata": {},
   "outputs": [],
   "source": [
    "from time import sleep\n",
    "\n",
    "bar_length = 60\n",
    "\n",
    "def init_bar(length=80):\n",
    "    bar = list('_' * length)\n",
    "    return bar\n",
    "\n",
    "def init_ants(bar_length = 80):\n",
    "    ants = list()\n",
    "    ants.append({'position':0, 'direction':1})\n",
    "    ants.append({'position':bar_length - 1, 'direction':-1})\n",
    "    return ants\n",
    "\n",
    "def clear_bar(bar):\n",
    "    for i in range(len(bar)):\n",
    "        bar[i] = '_'\n",
    "\n",
    "def update_bar(bar, ants):\n",
    "    clear_bar(bar)\n",
    "    for ant in ants:\n",
    "        if 0 <= ant['position'] < len(bar):\n",
    "            bar[ant['position']] = '*'\n",
    "\n",
    "def is_bar_empty(bar):\n",
    "    for item in bar:\n",
    "        if not item == '_':\n",
    "            return False\n",
    "    return True\n",
    "\n",
    "def show_bar(bar):\n",
    "    print(''.join(bar), end='\\r', flush=True)\n",
    "\n",
    "def update_ants(ants):\n",
    "    for ant in ants:\n",
    "        ant['position'] += ant['direction']\n",
    "\n",
    "bar = init_bar(bar_length)\n",
    "ants = init_ants(bar_length)\n",
    "update_bar(bar, ants)\n",
    "\n",
    "while not is_bar_empty(bar):\n",
    "    update_bar(bar, ants)\n",
    "    show_bar(bar)\n",
    "    sleep(0.2) # 秒\n",
    "    update_ants(ants)\n",
    "    update_bar(bar, ants)"
   ]
  },
  {
   "cell_type": "code",
   "execution_count": null,
   "id": "7b8c0385-343e-464d-8f6b-22e07fcc584b",
   "metadata": {},
   "outputs": [],
   "source": [
    "# 面向对象编程\n",
    "\n",
    "class Person:\n",
    "    def set_name(self, name):\n",
    "        self.name = name\n",
    "    def get_name(self):\n",
    "        return self.name\n",
    "    def greet(self):\n",
    "        print(f'Hello, world! I am {self.name}.')\n",
    "\n",
    "zs = Person()\n",
    "zs.set_name('Zhang San')\n",
    "zs.greet()"
   ]
  },
  {
   "cell_type": "code",
   "execution_count": null,
   "id": "b3f0558a-cccb-48b3-955b-4d60635c3c80",
   "metadata": {},
   "outputs": [],
   "source": [
    "ls = Person()\n",
    "ls.set_name('Li Si')\n",
    "ls.greet()"
   ]
  },
  {
   "cell_type": "code",
   "execution_count": null,
   "id": "b0f9ff5d-a89c-4773-b871-db02d7047a74",
   "metadata": {},
   "outputs": [],
   "source": [
    "Person.greet(ls)"
   ]
  },
  {
   "cell_type": "code",
   "execution_count": null,
   "id": "f6a096c2-045c-493c-923c-898332ec1691",
   "metadata": {},
   "outputs": [],
   "source": [
    "# 面向过程\n",
    "Love(I, U)\n",
    "# 面向对象\n",
    "I.Love(U)"
   ]
  },
  {
   "cell_type": "code",
   "execution_count": null,
   "id": "51d0ce7f-dd67-4980-858a-8c832ffe38b4",
   "metadata": {},
   "outputs": [],
   "source": [
    "class Person:\n",
    "    def __init__(self, name=None):   # 构造函数\n",
    "        self.name = name\n",
    "  #  def __init__(self):         # python的构造函数竟然不能重载\n",
    "   #     self.name = None\n",
    "    def set_name(self, name):\n",
    "        self.name = name\n",
    "    def get_name(self):\n",
    "        return self.name\n",
    "    def greet(self):\n",
    "        print(f'Hello, world! I am {self.name}.')\n",
    "\n",
    "ls = Person('Li Si')\n",
    "ls.greet()\n",
    "\n",
    "unknow = Person()"
   ]
  },
  {
   "cell_type": "code",
   "execution_count": null,
   "id": "081f3083-fd79-4118-97f9-c8acd2346f56",
   "metadata": {},
   "outputs": [],
   "source": [
    "ls.name = 3.14159265   # ?? 成员变量name是public的？默认公有，如果__name是私有，但并非真正私有\n",
    "ls.greet()"
   ]
  },
  {
   "cell_type": "code",
   "execution_count": null,
   "id": "c5cca6d5-158f-49e1-a12a-5bc59f0a5f6d",
   "metadata": {},
   "outputs": [],
   "source": [
    "class Person:\n",
    "    def __init__(self, name=None):   # 构造函数\n",
    "        self.__name = name\n",
    "  #  def __init__(self):         # python的构造函数竟然不能重载\n",
    "   #     self.name = None\n",
    "    def set_name(self, name):\n",
    "        self.__name = name\n",
    "    def get_name(self):\n",
    "        return self.__name\n",
    "    def greet(self):\n",
    "        print(f'Hello, world! I am {self.__name}.')\n",
    "\n",
    "ls = Person()\n",
    "ls.__name = 3.1415926   \n",
    "ls.greet()   # None 没改动"
   ]
  },
  {
   "cell_type": "code",
   "execution_count": null,
   "id": "e74f9213-5327-4347-8974-761d4ee468ac",
   "metadata": {},
   "outputs": [],
   "source": [
    "ls.__dict__"
   ]
  },
  {
   "cell_type": "code",
   "execution_count": null,
   "id": "1a4de8bb-a42e-48a2-9128-076599c276f3",
   "metadata": {},
   "outputs": [],
   "source": [
    "class Person:\n",
    "    def __init__(self, name=None):   # 构造函数\n",
    "        self.__name = name\n",
    "  #  def __init__(self):         # python的构造函数竟然不能重载\n",
    "   #     self.name = None\n",
    "    def set_name(self, name):\n",
    "        if isinstance(name, str):    # 靠程序员限制类型\n",
    "            self.__name = name\n",
    "        raise TypeError('name must be a string.')\n",
    "    def get_name(self):\n",
    "        return self.__name\n",
    "    def greet(self):\n",
    "        print(f'Hello, world! I am {self.__name}.')\n",
    "\n",
    "\n",
    "ls = Person()\n",
    "ls.set_name(3.14)\n",
    "ls.greet()"
   ]
  },
  {
   "cell_type": "code",
   "execution_count": null,
   "id": "629d671e-0f8e-433d-b534-846f4adfbd0c",
   "metadata": {},
   "outputs": [],
   "source": [
    "ls.__dict__"
   ]
  },
  {
   "cell_type": "code",
   "execution_count": null,
   "id": "336dd37b-37e2-4459-bb91-da0fb594d4f7",
   "metadata": {},
   "outputs": [],
   "source": [
    "isinstance(ls, Person) # 李四是不是人"
   ]
  },
  {
   "cell_type": "code",
   "execution_count": null,
   "id": "b6529d56-5d6f-46cf-99e6-c59d7f883889",
   "metadata": {},
   "outputs": [],
   "source": [
    "isinstance(Person, ls) # 人是不是李四"
   ]
  },
  {
   "cell_type": "code",
   "execution_count": null,
   "id": "65eb07fe-a13d-40a9-938d-3ee2e35e6fba",
   "metadata": {},
   "outputs": [],
   "source": [
    "class Person:\n",
    "    '''\n",
    "    This class is used to repsent a person.\n",
    "    '''\n",
    "    def __init__(self, name=None):   # 构造函数\n",
    "        self.__name = name     # 私有成员变量\n",
    "  #  def __init__(self):         # python的构造函数竟然不能重载\n",
    "   #     self.name = None\n",
    "    def set_name(self, name:str): # 此处的str是给程序员看的，没有限制\n",
    "        '''\n",
    "        Set the name of the person should be string.\n",
    "        '''\n",
    "        if isinstance(name, str):   # 靠程序员限制类型\n",
    "            self.__name = name\n",
    "        raise TypeError('name must be a string.')\n",
    "    def get_name(self)->str:   # 同样返回值str是给程序员看的\n",
    "        return self.__name\n",
    "\n",
    "    def __do_greet(self):  # 内部函数不要用，即私有成员函数\n",
    "        print(f'Hello, world! I am {self.__name}.')\n",
    "    def greet(self):\n",
    "        self.__do_greet()\n",
    "        self.__do_greet()\n",
    "\n",
    "help(Person)"
   ]
  },
  {
   "cell_type": "code",
   "execution_count": null,
   "id": "2a82aea8-b5f3-410d-a866-233cb6313b73",
   "metadata": {},
   "outputs": [],
   "source": [
    "# 多态\n",
    "print('hello'.count('e'))\n",
    "print([1,2,'e','d','e'].count('e')"
   ]
  },
  {
   "cell_type": "code",
   "execution_count": null,
   "id": "93f358e7-3416-4ed3-92c7-d2a77c03a0e9",
   "metadata": {},
   "outputs": [],
   "source": [
    "my_list = ['hello', [1,2,'e','d','e']]\n",
    "for item in my_list:\n",
    "    print(item.count('e'))"
   ]
  },
  {
   "cell_type": "code",
   "execution_count": null,
   "id": "7d3808be-d1bf-4cc6-ac6f-d5851079a5b7",
   "metadata": {},
   "outputs": [],
   "source": [
    "# 运算符也是多态\n",
    "print(1+2)\n",
    "print('hello' + 'world')"
   ]
  },
  {
   "cell_type": "code",
   "execution_count": null,
   "id": "e8fbdaeb-6045-42c9-874a-b72eab711672",
   "metadata": {},
   "outputs": [],
   "source": [
    "def add(a, b):\n",
    "    return a + b"
   ]
  },
  {
   "cell_type": "code",
   "execution_count": null,
   "id": "12cd2fa9-26a3-49fc-a30e-b0e581a072eb",
   "metadata": {},
   "outputs": [],
   "source": [
    "class Cat:\n",
    "    def meow(self):  \n",
    "        print('meow...meow')\n",
    "\n",
    "class Dog:\n",
    "    def woof(self):\n",
    "        print('woof, woof...')\n",
    "\n",
    "cat = Cat()\n",
    "cat.meow()\n",
    "dog = Dog()\n",
    "dog.woof()"
   ]
  },
  {
   "cell_type": "code",
   "execution_count": null,
   "id": "80477765-b807-4dd2-8e5e-06c23ddf83d4",
   "metadata": {},
   "outputs": [],
   "source": [
    "pets = list()\n",
    "pets.append(Cat())\n",
    "pets.append(Dog())\n",
    "pets.append(Cat())\n",
    "\n",
    "for pet in pets:\n",
    "    if isinstance(pet, Cat):   # 代码里有isinstance，肯定不是好的实现方式\n",
    "        pet.meow()\n",
    "    elif isinstance(pet, Dog):\n",
    "        pet.woof()"
   ]
  },
  {
   "cell_type": "code",
   "execution_count": 15,
   "id": "48993818-216a-49bd-86e7-ef1f6bb0bd2c",
   "metadata": {},
   "outputs": [
    {
     "name": "stdout",
     "output_type": "stream",
     "text": [
      "meow...meow\n",
      "woof, woof...\n",
      "meow...meow\n",
      "sorry, i do not talk.\n"
     ]
    }
   ],
   "source": [
    "class Cat:\n",
    "    def talk(self):  \n",
    "        print('meow...meow')\n",
    "\n",
    "class Dog:\n",
    "    def talk(self):\n",
    "        print('woof, woof...')\n",
    "class Turtle:\n",
    "    pass\n",
    "    \n",
    "pets = list()\n",
    "pets.append(Cat())\n",
    "pets.append(Dog())\n",
    "pets.append(Cat())\n",
    "pets.append(Turtle())\n",
    "\n",
    "for pet in pets:\n",
    "    if (callable(getattr(pet, 'talk', None))):\n",
    "        pet.talk()\n",
    "    else:\n",
    "        print('sorry, i do not talk.')"
   ]
  },
  {
   "cell_type": "code",
   "execution_count": 5,
   "id": "f0b09b78-b369-42b2-9e83-9d591fe69d39",
   "metadata": {
    "scrolled": true
   },
   "outputs": [
    {
     "name": "stdout",
     "output_type": "stream",
     "text": [
      "Hello, world! I am Zhang San.\n",
      "Hello, world! I am Zhang San.\n",
      "I scored 96.\n"
     ]
    }
   ],
   "source": [
    "class Person:\n",
    "    '''\n",
    "    This class is used to repsent a person.\n",
    "    '''\n",
    "    def __init__(self, name=None):   # 构造函数\n",
    "        self.__name = name\n",
    "  #  def __init__(self):         # python的构造函数竟然不能重载\n",
    "   #     self.name = None\n",
    "    def set_name(self, name:str): # 此处的str是给程序员看的，没有限制\n",
    "        '''\n",
    "        Set the name of the person should be string.\n",
    "        '''\n",
    "        if isinstance(name, str):   # 靠程序员限制类型\n",
    "            self.__name = name\n",
    "      #  raise TypeError('name must be a string.')\n",
    "    def get_name(self)->str:   # 同样返回值str是给程序员看的\n",
    "        return self.__name\n",
    "\n",
    "    def __do_greet(self):  # 内部函数不要用\n",
    "        print(f'Hello, world! I am {self.__name}.')\n",
    "    def greet(self):\n",
    "        self.__do_greet()\n",
    "        self.__do_greet()\n",
    "        \n",
    "class Student(Person):\n",
    "    def set_score(self, score):\n",
    "        self.score = score\n",
    "    def get_score(self):\n",
    "        return self.score\n",
    "    def show_score(self):\n",
    "        print(f'I scored {self.score}.')\n",
    "\n",
    "st = Student()\n",
    "st.set_name('Zhang San')\n",
    "st.set_score(96)\n",
    "st.greet()\n",
    "st.show_score()"
   ]
  },
  {
   "cell_type": "code",
   "execution_count": null,
   "id": "31c9a561-5c06-489d-bc6c-26a7e1c36fa1",
   "metadata": {},
   "outputs": [],
   "source": [
    "st = Student('Zhang San')  # student并没有定义构造函数，怎么跨过去的？\n",
    "st.set_score(96)\n",
    "st.greet()\n",
    "st.show_score()"
   ]
  },
  {
   "cell_type": "code",
   "execution_count": null,
   "id": "0e70a11c-abfe-440c-ac04-bf5053ae75e8",
   "metadata": {},
   "outputs": [],
   "source": [
    "class Filter:\n",
    "    def __init__(self):\n",
    "        self.blocked = [1, 2]\n",
    "    def filter(self, sequence):\n",
    "        return [x for x in sequence if x not in self.blocked]\n",
    "\n",
    "f = Filter()\n",
    "f.filter([1,2,3,4])"
   ]
  },
  {
   "cell_type": "code",
   "execution_count": null,
   "id": "1f4ac518-d67f-4233-8a08-6f0a8b70406d",
   "metadata": {},
   "outputs": [],
   "source": [
    "class SpamFilter(Filter):    \n",
    "    def __init__(self):\n",
    "        self.blocked = ['SPAM']\n",
    "\n",
    "s = SpamFilter()\n",
    "s.filter(['SPAM','SPAM','HELLO','WORLD'])"
   ]
  },
  {
   "cell_type": "code",
   "execution_count": null,
   "id": "04adbd60-986c-49ee-a71f-86359d45b234",
   "metadata": {},
   "outputs": [],
   "source": [
    "class Filter:\n",
    "    def __init__(self):\n",
    "        self.blocked = [1, 2]\n",
    "\n",
    "    def add_blocked(self, item):\n",
    "        self.blocked.append(item)\n",
    "        \n",
    "    def filter(self, sequence):\n",
    "        return [x for x in sequence if x not in self.blocked]\n",
    "\n",
    "s = Filter()\n",
    "s.add_blocked('SPAM')\n",
    "s.filter(['SPAM','SPAM','HELLO','WORLD'])\n",
    "\n",
    "f = Filter()\n",
    "f.add_blocked(1)\n",
    "f.add_blocked(2)\n",
    "f.filter([1,2,3,4])"
   ]
  },
  {
   "cell_type": "code",
   "execution_count": 6,
   "id": "1da18353-7c74-4dfa-be22-58fb36c4c289",
   "metadata": {},
   "outputs": [
    {
     "data": {
      "text/plain": [
       "True"
      ]
     },
     "execution_count": 6,
     "metadata": {},
     "output_type": "execute_result"
    }
   ],
   "source": [
    "issubclass(Student, Person)"
   ]
  },
  {
   "cell_type": "code",
   "execution_count": 7,
   "id": "36fea7df-9dd6-4055-b8c0-f4118260c37b",
   "metadata": {},
   "outputs": [
    {
     "data": {
      "text/plain": [
       "False"
      ]
     },
     "execution_count": 7,
     "metadata": {},
     "output_type": "execute_result"
    }
   ],
   "source": [
    "issubclass(Person, Student)"
   ]
  },
  {
   "cell_type": "code",
   "execution_count": 13,
   "id": "f3184614-cba2-403b-81a5-09a9f66657be",
   "metadata": {},
   "outputs": [
    {
     "name": "stdout",
     "output_type": "stream",
     "text": [
      "turning a screw with a screwdriver of size 1...\n",
      "cutting...\n"
     ]
    }
   ],
   "source": [
    "# 多重继承，瑞士军刀\n",
    "class ScrewDriver:\n",
    "    def __init__(self, size=1):\n",
    "        self.size = size\n",
    "    def turn_screw(self):\n",
    "        print(f'turning a screw with a screwdriver of size {self.size}...')\n",
    "\n",
    "class Knife:\n",
    "    def cut(self):\n",
    "        print('cutting...')\n",
    "\n",
    "class SwissKnife(ScrewDriver, Knife):\n",
    "    pass\n",
    "\n",
    "sk = SwissKnife()\n",
    "sk.turn_screw()\n",
    "sk.cut()"
   ]
  },
  {
   "cell_type": "code",
   "execution_count": 19,
   "id": "503d1218-e582-4844-a781-4db024af3e19",
   "metadata": {},
   "outputs": [
    {
     "name": "stdout",
     "output_type": "stream",
     "text": [
      "cutting...\n",
      "turning a screw with a screwdriver of size 10...\n",
      "turning a screw with a screwdriver of size 5...\n"
     ]
    }
   ],
   "source": [
    "from abc import ABC, abstractmethod\n",
    "\n",
    "# ??纯虚基类，python不能自己写？要继承ABC。python不用显示virtual\n",
    "class Tool(ABC):\n",
    "    @abstractmethod   # 装饰器\n",
    "    def work(self):\n",
    "        pass\n",
    "\n",
    "class ScrewDriver(Tool):\n",
    "    def __init__(self, size):\n",
    "        self.size = size\n",
    "\n",
    "    def work(self):\n",
    "        print(f'turning a screw with a screwdriver of size {self.size}...')\n",
    "\n",
    "class Knife(Tool):\n",
    "    def work(self):\n",
    "        print('cutting...')\n",
    "\n",
    "class SwissKnife(ScrewDriver, Knife):\n",
    "    def __init__(self):\n",
    "        self.tools = dict()\n",
    "    def add_tool(self, name, tool):\n",
    "        if isinstance(tool, Tool):\n",
    "            self.tools[name] = tool\n",
    "        else:\n",
    "            raise TypeError('You can only add a Tool to Swiss knife.')\n",
    "\n",
    "    def use_tool(self, name):\n",
    "        self.tools[name].work()\n",
    "\n",
    "sk = SwissKnife()\n",
    "sk.add_tool(\"Big screwdriver\", ScrewDriver(10))\n",
    "sk.add_tool(\"Small screwdriver\", ScrewDriver(5))\n",
    "sk.add_tool(\"Knife\", Knife())\n",
    "#sk.add_tool(\"Dog\", Dog())\n",
    "sk.use_tool('Knife')\n",
    "sk.use_tool('Big screwdriver')\n",
    "sk.use_tool('Small screwdriver')"
   ]
  },
  {
   "cell_type": "code",
   "execution_count": 17,
   "id": "e7e7e4ff-c109-4470-bd1c-a1bae794d107",
   "metadata": {},
   "outputs": [
    {
     "ename": "KeyError",
     "evalue": "'Dog'",
     "output_type": "error",
     "traceback": [
      "\u001b[1;31m---------------------------------------------------------------------------\u001b[0m",
      "\u001b[1;31mKeyError\u001b[0m                                  Traceback (most recent call last)",
      "Cell \u001b[1;32mIn[17], line 1\u001b[0m\n\u001b[1;32m----> 1\u001b[0m sk\u001b[38;5;241m.\u001b[39muse_tool(\u001b[38;5;124m'\u001b[39m\u001b[38;5;124mDog\u001b[39m\u001b[38;5;124m'\u001b[39m)\n",
      "Cell \u001b[1;32mIn[16], line 29\u001b[0m, in \u001b[0;36mSwissKnife.use_tool\u001b[1;34m(self, name)\u001b[0m\n\u001b[0;32m     28\u001b[0m \u001b[38;5;28;01mdef\u001b[39;00m \u001b[38;5;21muse_tool\u001b[39m(\u001b[38;5;28mself\u001b[39m, name):\n\u001b[1;32m---> 29\u001b[0m     \u001b[38;5;28mself\u001b[39m\u001b[38;5;241m.\u001b[39mtools[name]\u001b[38;5;241m.\u001b[39mwork()\n",
      "\u001b[1;31mKeyError\u001b[0m: 'Dog'"
     ]
    }
   ],
   "source": [
    "#sk.use_tool('Dog')"
   ]
  }
 ],
 "metadata": {
  "kernelspec": {
   "display_name": "Python 3 (ipykernel)",
   "language": "python",
   "name": "python3"
  },
  "language_info": {
   "codemirror_mode": {
    "name": "ipython",
    "version": 3
   },
   "file_extension": ".py",
   "mimetype": "text/x-python",
   "name": "python",
   "nbconvert_exporter": "python",
   "pygments_lexer": "ipython3",
   "version": "3.12.5"
  }
 },
 "nbformat": 4,
 "nbformat_minor": 5
}
