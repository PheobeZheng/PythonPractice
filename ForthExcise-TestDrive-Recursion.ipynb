{
 "cells": [
  {
   "cell_type": "code",
   "execution_count": 3,
   "id": "85e0bd0f-5f21-4467-8cdf-b8a4caa18658",
   "metadata": {},
   "outputs": [
    {
     "name": "stdin",
     "output_type": "stream",
     "text": [
      "please input the year: 2024\n"
     ]
    },
    {
     "name": "stdout",
     "output_type": "stream",
     "text": [
      "leap year.\n"
     ]
    }
   ],
   "source": [
    "# 判断是否是闰年能被100整除且被400整除是闰年，\n",
    "# 代码犯了编程大忌，业务逻辑与用户交互混在一起\n",
    "year = int(input(\"please input the year:\"))\n",
    "if year % 400 == 0:\n",
    "    print('leap yar.')\n",
    "elif year % 100 == 0:\n",
    "    print('not leap year.')\n",
    "elif year % 4 == 0:\n",
    "    print('leap year.')\n",
    "else:\n",
    "    print('not leap year.')"
   ]
  },
  {
   "cell_type": "code",
   "execution_count": 4,
   "id": "6b061703-1498-44df-84b3-b8e81fb7d5fb",
   "metadata": {},
   "outputs": [],
   "source": [
    "def leap_year(year):\n",
    "    if year % 400 == 0:\n",
    "        return True\n",
    "    elif year % 100 == 0:\n",
    "        return False\n",
    "    elif year % 4 == 0:\n",
    "        return True\n",
    "    else:\n",
    "        return False"
   ]
  },
  {
   "cell_type": "code",
   "execution_count": 6,
   "id": "bd5b55a5-4aee-4d88-b5e2-1885f659b50b",
   "metadata": {},
   "outputs": [
    {
     "name": "stdin",
     "output_type": "stream",
     "text": [
      "please input the year: 2023\n"
     ]
    },
    {
     "name": "stdout",
     "output_type": "stream",
     "text": [
      "not leap year.\n"
     ]
    }
   ],
   "source": [
    "year = int(input(\"please input the year:\"))\n",
    "print('leap year.' if leap_year(year) else 'not leap year.')"
   ]
  },
  {
   "cell_type": "code",
   "execution_count": 9,
   "id": "1d328c5e-c497-4e1c-b7aa-01dd09233097",
   "metadata": {},
   "outputs": [
    {
     "ename": "AssertionError",
     "evalue": "",
     "output_type": "error",
     "traceback": [
      "\u001b[1;31m---------------------------------------------------------------------------\u001b[0m",
      "\u001b[1;31mAssertionError\u001b[0m                            Traceback (most recent call last)",
      "Cell \u001b[1;32mIn[9], line 1\u001b[0m\n\u001b[1;32m----> 1\u001b[0m \u001b[38;5;28;01massert\u001b[39;00m \u001b[38;5;241m4\u001b[39m \u001b[38;5;241m<\u001b[39m \u001b[38;5;241m3\u001b[39m\n",
      "\u001b[1;31mAssertionError\u001b[0m: "
     ]
    }
   ],
   "source": [
    "assert 4 < 3"
   ]
  },
  {
   "cell_type": "code",
   "execution_count": 12,
   "id": "ced13f9f-8eca-4ee9-b8a5-29de908b8302",
   "metadata": {},
   "outputs": [],
   "source": [
    "a = -3"
   ]
  },
  {
   "cell_type": "code",
   "execution_count": 13,
   "id": "b969176b-d054-419f-af2f-0ea515a977c9",
   "metadata": {},
   "outputs": [
    {
     "ename": "AssertionError",
     "evalue": "a must be positive",
     "output_type": "error",
     "traceback": [
      "\u001b[1;31m---------------------------------------------------------------------------\u001b[0m",
      "\u001b[1;31mAssertionError\u001b[0m                            Traceback (most recent call last)",
      "Cell \u001b[1;32mIn[13], line 1\u001b[0m\n\u001b[1;32m----> 1\u001b[0m \u001b[38;5;28;01massert\u001b[39;00m a \u001b[38;5;241m>\u001b[39m \u001b[38;5;241m0\u001b[39m, \u001b[38;5;124m'\u001b[39m\u001b[38;5;124ma must be positive\u001b[39m\u001b[38;5;124m'\u001b[39m\n",
      "\u001b[1;31mAssertionError\u001b[0m: a must be positive"
     ]
    }
   ],
   "source": [
    "assert a > 0, 'a must be positive'"
   ]
  },
  {
   "cell_type": "code",
   "execution_count": 17,
   "id": "42ebff39-3781-4e35-ae0b-514a1f96b25d",
   "metadata": {},
   "outputs": [],
   "source": [
    "# 单元测试。。测试驱动编程。\n",
    "def test_leap_year():\n",
    "    assert leap_year(2000)\n",
    "    assert leap_year(1996)\n",
    "    assert not leap_year(2023)\n",
    "    assert not leap_year(1900)\n",
    "    print('leap_year test OK.')"
   ]
  },
  {
   "cell_type": "code",
   "execution_count": 16,
   "id": "0e680a40-cffa-4c18-960f-9bf17db56892",
   "metadata": {},
   "outputs": [
    {
     "name": "stdout",
     "output_type": "stream",
     "text": [
      "leap_year test OK.\n"
     ]
    }
   ],
   "source": [
    "test_leap_year()"
   ]
  },
  {
   "cell_type": "code",
   "execution_count": 18,
   "id": "73c45a09-e44f-4ef5-ad55-fb09e575ccde",
   "metadata": {},
   "outputs": [],
   "source": [
    "def leap_year(year):\n",
    "    return (year % 400 == 0) or (year % 4 == 0 and year % 100)"
   ]
  },
  {
   "cell_type": "code",
   "execution_count": 19,
   "id": "c8784b76-99aa-47d3-b5f2-ae6e0c7eed7b",
   "metadata": {},
   "outputs": [
    {
     "name": "stdout",
     "output_type": "stream",
     "text": [
      "leap_year test OK.\n"
     ]
    }
   ],
   "source": [
    "test_leap_year()"
   ]
  },
  {
   "cell_type": "code",
   "execution_count": 20,
   "id": "980529b9-1d1b-4639-aeea-5a154c6dfcd0",
   "metadata": {},
   "outputs": [
    {
     "name": "stdout",
     "output_type": "stream",
     "text": [
      "1 3 5 7 9 11 13 15 17 19 21 23 25 27 29 31 33 35 37 39 41 43 45 47 49 51 53 55 57 59 61 63 65 67 69 71 73 75 77 79 81 83 85 87 89 91 93 95 97 99 "
     ]
    }
   ],
   "source": [
    "# 循环，可被list comprehesion替代\n",
    "x = 1\n",
    "while x <= 100:\n",
    "    print(x, end=' ')\n",
    "    x += 2"
   ]
  },
  {
   "cell_type": "code",
   "execution_count": 21,
   "id": "dc7e534b-bec6-4bff-83db-17bafbd0fe0d",
   "metadata": {},
   "outputs": [
    {
     "name": "stdout",
     "output_type": "stream",
     "text": [
      "1 3 5 7 9 11 13 15 17 19 21 23 25 27 29 31 33 35 37 39 41 43 45 47 49 51 53 55 57 59 61 63 65 67 69 71 73 75 77 79 81 83 85 87 89 91 93 95 97 99 "
     ]
    }
   ],
   "source": [
    "# [i for i in range(100)]\n",
    "for i in range(1, 100, 2):\n",
    "    print(i, end=' ')"
   ]
  },
  {
   "cell_type": "code",
   "execution_count": 22,
   "id": "1163ef95-3da4-4aac-81f9-1e895eb85b0e",
   "metadata": {},
   "outputs": [
    {
     "data": {
      "text/plain": [
       "[1,\n",
       " 2,\n",
       " 4,\n",
       " 5,\n",
       " 7,\n",
       " 8,\n",
       " 10,\n",
       " 11,\n",
       " 14,\n",
       " 16,\n",
       " 17,\n",
       " 19,\n",
       " 20,\n",
       " 22,\n",
       " 25,\n",
       " 26,\n",
       " 28,\n",
       " 29,\n",
       " 40,\n",
       " 41,\n",
       " 44,\n",
       " 46,\n",
       " 47,\n",
       " 49,\n",
       " 50,\n",
       " 52,\n",
       " 55,\n",
       " 56,\n",
       " 58,\n",
       " 59,\n",
       " 61,\n",
       " 62,\n",
       " 64,\n",
       " 65,\n",
       " 67,\n",
       " 68,\n",
       " 70,\n",
       " 71,\n",
       " 74,\n",
       " 76,\n",
       " 77,\n",
       " 79,\n",
       " 80,\n",
       " 82,\n",
       " 85,\n",
       " 86,\n",
       " 88,\n",
       " 89,\n",
       " 91,\n",
       " 92,\n",
       " 94,\n",
       " 95,\n",
       " 97,\n",
       " 98]"
      ]
     },
     "execution_count": 22,
     "metadata": {},
     "output_type": "execute_result"
    }
   ],
   "source": [
    "# 非3及不被3整除\n",
    "[i for i in range(1, 100) if i % 3 and not '3' in str(i)]"
   ]
  },
  {
   "cell_type": "code",
   "execution_count": 23,
   "id": "4a1e7b49-7299-4b2b-bcfd-f1e0356eb636",
   "metadata": {},
   "outputs": [
    {
     "name": "stdout",
     "output_type": "stream",
     "text": [
      "**********\n",
      "**********\n",
      "**********\n",
      "**********\n",
      "**********\n"
     ]
    }
   ],
   "source": [
    "for _ in range(0, 5):\n",
    "    print('*' * 10)"
   ]
  },
  {
   "cell_type": "code",
   "execution_count": 27,
   "id": "017fa058-3d83-4fc5-a946-5c48219954a9",
   "metadata": {},
   "outputs": [
    {
     "name": "stdout",
     "output_type": "stream",
     "text": [
      "*\r"
     ]
    },
    {
     "ename": "NameError",
     "evalue": "name 'Sleep' is not defined",
     "output_type": "error",
     "traceback": [
      "\u001b[1;31m---------------------------------------------------------------------------\u001b[0m",
      "\u001b[1;31mNameError\u001b[0m                                 Traceback (most recent call last)",
      "Cell \u001b[1;32mIn[27], line 2\u001b[0m\n\u001b[0;32m      1\u001b[0m \u001b[38;5;28mprint\u001b[39m(\u001b[38;5;124m'\u001b[39m\u001b[38;5;124m*\u001b[39m\u001b[38;5;124m'\u001b[39m, end\u001b[38;5;241m=\u001b[39m\u001b[38;5;124m'\u001b[39m\u001b[38;5;130;01m\\r\u001b[39;00m\u001b[38;5;124m'\u001b[39m)\n\u001b[1;32m----> 2\u001b[0m Sleep(\u001b[38;5;241m1000\u001b[39m)\n\u001b[0;32m      3\u001b[0m \u001b[38;5;28mprint\u001b[39m(\u001b[38;5;124m'\u001b[39m\u001b[38;5;124m *\u001b[39m\u001b[38;5;124m'\u001b[39m)\n",
      "\u001b[1;31mNameError\u001b[0m: name 'Sleep' is not defined"
     ]
    }
   ],
   "source": [
    "print('*', end='\\r')\n",
    "Sleep(1000)\n",
    "print(' *')"
   ]
  },
  {
   "cell_type": "code",
   "execution_count": 28,
   "id": "67eb789e-9008-4574-8a9b-3b48c16224a5",
   "metadata": {},
   "outputs": [
    {
     "name": "stdout",
     "output_type": "stream",
     "text": [
      "hell\n"
     ]
    }
   ],
   "source": [
    "print('hello\\b')"
   ]
  },
  {
   "cell_type": "code",
   "execution_count": 38,
   "id": "4facfcaf-a53e-4d89-a040-e7b801e88170",
   "metadata": {},
   "outputs": [
    {
     "name": "stdout",
     "output_type": "stream",
     "text": [
      "\b                                                            *"
     ]
    }
   ],
   "source": [
    "import math\n",
    "\n",
    "# 早期计算机是这种方式，强行让cpu计算wait时间\n",
    "def wait(n):\n",
    "    for y in range(n):\n",
    "        z = math.sin(y)\n",
    "\n",
    "for x in range(60):\n",
    "    print('\\b *', end='', flush=True)   # flush立即输出\n",
    "    wait(1000000)"
   ]
  },
  {
   "cell_type": "code",
   "execution_count": 44,
   "id": "102a78ca-d988-4b1a-bc3b-0690bbbab459",
   "metadata": {},
   "outputs": [
    {
     "data": {
      "text/plain": [
       "['------------------------------------------------------------']"
      ]
     },
     "execution_count": 44,
     "metadata": {},
     "output_type": "execute_result"
    }
   ],
   "source": [
    "bar = ['-' * 60]\n",
    "bar\n",
    "#bar[50] = '*'\n",
    "#print(bar)"
   ]
  },
  {
   "cell_type": "code",
   "execution_count": 49,
   "id": "f5f37b87-376d-4476-a6dc-da2eecf681fe",
   "metadata": {},
   "outputs": [
    {
     "name": "stdout",
     "output_type": "stream",
     "text": [
      " --------------------------------------------------*---------\n"
     ]
    }
   ],
   "source": [
    "import string\n",
    "bar = [ch for ch in '-' * 60]\n",
    "bar[50] = '*'\n",
    "print('', ''.join(bar))"
   ]
  },
  {
   "cell_type": "code",
   "execution_count": 51,
   "id": "64d59d12-2c14-42ec-b5b0-3fb081e49e10",
   "metadata": {},
   "outputs": [
    {
     "name": "stdout",
     "output_type": "stream",
     "text": [
      " #----------------------------------------------------------*\r"
     ]
    }
   ],
   "source": [
    "x = 0\n",
    "y = 59\n",
    "\n",
    "for i in range(60):\n",
    "    bar[x] = '*'\n",
    "    bar[y] = '#'\n",
    "    print('', ''.join(bar), end='', flush=True)\n",
    "    wait(1000000)\n",
    "    bar[x] = bar[y] = '-'\n",
    "    x += 1\n",
    "    y -= 1\n",
    "    print('\\r', end='', flush=True)"
   ]
  },
  {
   "cell_type": "code",
   "execution_count": 60,
   "id": "00ef9364-e401-491d-86ca-df5cfeec22f2",
   "metadata": {},
   "outputs": [
    {
     "name": "stdin",
     "output_type": "stream",
     "text": [
      "Please input a number:  9\n"
     ]
    },
    {
     "name": "stdout",
     "output_type": "stream",
     "text": [
      "3 squared is 9.\n"
     ]
    }
   ],
   "source": [
    "x = int(input('Please input a number: '))\n",
    "for i in range(100):\n",
    "    if(i * i == x):\n",
    "        print(f'{i} squared is {x}.')\n",
    "        break\n",
    "else:\n",
    "    print('not found')"
   ]
  },
  {
   "cell_type": "code",
   "execution_count": 63,
   "id": "74463779-499a-430e-9d7e-a2d7055d87ff",
   "metadata": {},
   "outputs": [
    {
     "name": "stdout",
     "output_type": "stream",
     "text": [
      "a : 10\n",
      "b : 20\n",
      "c : 30\n"
     ]
    }
   ],
   "source": [
    "names = ['a', 'b', 'c']\n",
    "ages = [10, 20, 30]\n",
    "\n",
    "for i in range(len(names)):\n",
    "    print(f'{names[i]} : {ages[i]}')\n"
   ]
  },
  {
   "cell_type": "code",
   "execution_count": 66,
   "id": "60af55b7-2e75-4800-badf-c7aa752a19a0",
   "metadata": {},
   "outputs": [
    {
     "name": "stdout",
     "output_type": "stream",
     "text": [
      "a : 10\n",
      "b : 20\n",
      "c : 30\n"
     ]
    }
   ],
   "source": [
    "for name, age in zip(names, ages):   # zip 并行遍历\n",
    "    print(f'{name} : {age}')"
   ]
  },
  {
   "cell_type": "code",
   "execution_count": 68,
   "id": "cf1ece98-1eda-4bd7-a2e5-2f9570a0828f",
   "metadata": {},
   "outputs": [
    {
     "name": "stdout",
     "output_type": "stream",
     "text": [
      "hello\n"
     ]
    }
   ],
   "source": [
    "exec(\"print('hello')\")"
   ]
  },
  {
   "cell_type": "code",
   "execution_count": 74,
   "id": "8efb88a7-b1b9-4bc3-91c6-cb49197d23fa",
   "metadata": {},
   "outputs": [
    {
     "name": "stdin",
     "output_type": "stream",
     "text": [
      "please input a statement:  3.14/8\n"
     ]
    },
    {
     "name": "stdout",
     "output_type": "stream",
     "text": [
      "0.3824994972760097\n"
     ]
    }
   ],
   "source": [
    "cmd = input('please input a statement: ')\n",
    "exec(cmd)\n",
    "print(math.sin(eval(cmd))) # eval evaluate算出值"
   ]
  },
  {
   "cell_type": "code",
   "execution_count": 75,
   "id": "d3c84d20-b5ad-4ef5-93fa-71caf10c8412",
   "metadata": {},
   "outputs": [
    {
     "data": {
      "text/plain": [
       "1.4142135623730951"
      ]
     },
     "execution_count": 75,
     "metadata": {},
     "output_type": "execute_result"
    }
   ],
   "source": [
    "from math import sqrt\n",
    "sqrt(2)"
   ]
  },
  {
   "cell_type": "code",
   "execution_count": 77,
   "id": "50dce2b0-7b2c-40b9-abd9-9ed7528cd8d3",
   "metadata": {},
   "outputs": [
    {
     "name": "stdin",
     "output_type": "stream",
     "text": [
      "input a statement:  sqrt = 1\n"
     ]
    }
   ],
   "source": [
    "exec(input('input a statement: '))"
   ]
  },
  {
   "cell_type": "code",
   "execution_count": 78,
   "id": "b1b526c3-4063-4293-91cc-a494d97a13a7",
   "metadata": {},
   "outputs": [
    {
     "ename": "TypeError",
     "evalue": "'int' object is not callable",
     "output_type": "error",
     "traceback": [
      "\u001b[1;31m---------------------------------------------------------------------------\u001b[0m",
      "\u001b[1;31mTypeError\u001b[0m                                 Traceback (most recent call last)",
      "Cell \u001b[1;32mIn[78], line 1\u001b[0m\n\u001b[1;32m----> 1\u001b[0m sqrt(\u001b[38;5;241m4\u001b[39m)\n",
      "\u001b[1;31mTypeError\u001b[0m: 'int' object is not callable"
     ]
    }
   ],
   "source": [
    "sqrt(4)"
   ]
  },
  {
   "cell_type": "code",
   "execution_count": 124,
   "id": "81c9d25f-b68b-40cc-beaa-78558bf66509",
   "metadata": {},
   "outputs": [],
   "source": [
    "from math import sqrt\n",
    "my_scope = {}\n",
    "exec('sqrt = 1', my_scope)"
   ]
  },
  {
   "cell_type": "code",
   "execution_count": 80,
   "id": "73928516-0b0a-428b-9853-d77224819898",
   "metadata": {},
   "outputs": [
    {
     "data": {
      "text/plain": [
       "2.0"
      ]
     },
     "execution_count": 80,
     "metadata": {},
     "output_type": "execute_result"
    }
   ],
   "source": [
    "sqrt(4)"
   ]
  },
  {
   "cell_type": "code",
   "execution_count": null,
   "id": "2aba7e2d-dc0b-4b69-a4ab-26940d4a01fe",
   "metadata": {},
   "outputs": [],
   "source": [
    "my_scope   # 沙箱"
   ]
  },
  {
   "cell_type": "code",
   "execution_count": 82,
   "id": "fa506c9f-2823-44be-9914-b31bec534835",
   "metadata": {},
   "outputs": [],
   "source": [
    "a = 1"
   ]
  },
  {
   "cell_type": "code",
   "execution_count": 86,
   "id": "94ca4a0f-2686-4e38-82ef-9e45bd19c0ff",
   "metadata": {},
   "outputs": [
    {
     "name": "stdout",
     "output_type": "stream",
     "text": [
      "Variable         Type                          Data/Info\n",
      "--------------------------------------------------------\n",
      "a                int                           1\n",
      "age              int                           30\n",
      "ages             list                          n=3\n",
      "bar              list                          n=60\n",
      "cmd              str                           3.14/8\n",
      "i                int                           2\n",
      "leap_year        function                      <function leap_year at 0x0000028E2740B380>\n",
      "math             module                        <module 'math' (built-in)>\n",
      "name             str                           c\n",
      "names            list                          n=3\n",
      "scope            dict                          n=2\n",
      "sqrt             builtin_function_or_method    <built-in function sqrt>\n",
      "string           module                        <module 'string' from 'D:<...>s\\\\Test\\\\Lib\\\\string.py'>\n",
      "test_leap_year   function                      <function test_leap_year at 0x0000028E2740BEC0>\n",
      "wait             function                      <function wait at 0x0000028E28130400>\n",
      "x                int                           9\n",
      "y                int                           -1\n",
      "year             int                           2023\n",
      "z                float                         -0.9773520315382229\n"
     ]
    }
   ],
   "source": [
    "# 当前作用域\n",
    "%whos   "
   ]
  },
  {
   "cell_type": "code",
   "execution_count": 99,
   "id": "dddfa11a-51fa-4b26-ae5b-cb7a4a20f374",
   "metadata": {},
   "outputs": [],
   "source": [
    "def hello(name):\n",
    "    '''\n",
    "    this is my doc string\n",
    "    '''\n",
    "    print('*' * 50)\n",
    "    print(f'Hello, {name}!'.center(48, ' ').center(50, '*'))\n",
    "    print('*' * 50)"
   ]
  },
  {
   "cell_type": "code",
   "execution_count": 101,
   "id": "849dc0ea-9155-4c14-92de-228290fe3475",
   "metadata": {
    "scrolled": true
   },
   "outputs": [
    {
     "name": "stdout",
     "output_type": "stream",
     "text": [
      "**************************************************\n",
      "*                 Hello, world!                  *\n",
      "**************************************************\n"
     ]
    }
   ],
   "source": [
    "hello('world')"
   ]
  },
  {
   "cell_type": "code",
   "execution_count": 90,
   "id": "506bfa6c-322b-4ad8-9d48-937ffe236129",
   "metadata": {},
   "outputs": [
    {
     "name": "stdout",
     "output_type": "stream",
     "text": [
      "<function hello at 0x0000028E28370C20>\n"
     ]
    }
   ],
   "source": [
    "print(hello)"
   ]
  },
  {
   "cell_type": "code",
   "execution_count": 93,
   "id": "4d7d74b5-2461-421f-8ca5-1fa25a31d771",
   "metadata": {},
   "outputs": [
    {
     "data": {
      "text/plain": [
       "True"
      ]
     },
     "execution_count": 93,
     "metadata": {},
     "output_type": "execute_result"
    }
   ],
   "source": [
    "callable(hello)  # 判断是否是函数"
   ]
  },
  {
   "cell_type": "code",
   "execution_count": 94,
   "id": "aedaa55a-f887-48cd-8563-e2ab2dfe0c19",
   "metadata": {},
   "outputs": [
    {
     "data": {
      "text/plain": [
       "False"
      ]
     },
     "execution_count": 94,
     "metadata": {},
     "output_type": "execute_result"
    }
   ],
   "source": [
    "a = {}\n",
    "callable(a)"
   ]
  },
  {
   "cell_type": "code",
   "execution_count": 100,
   "id": "873af30e-bf1c-432a-b263-67127de3d0ea",
   "metadata": {},
   "outputs": [
    {
     "name": "stdout",
     "output_type": "stream",
     "text": [
      "Help on function hello in module __main__:\n",
      "\n",
      "hello(name)\n",
      "    this is my doc string\n",
      "\n"
     ]
    }
   ],
   "source": [
    "help(hello)"
   ]
  },
  {
   "cell_type": "code",
   "execution_count": 102,
   "id": "067727cf-9438-466b-a514-0cb6ad59f76b",
   "metadata": {},
   "outputs": [
    {
     "name": "stdout",
     "output_type": "stream",
     "text": [
      "[0, 1]\n"
     ]
    }
   ],
   "source": [
    "def test(a_list):\n",
    "    a_list = [10]\n",
    "\n",
    "my_list = [0, 1]\n",
    "test(my_list)\n",
    "print(my_list)"
   ]
  },
  {
   "cell_type": "code",
   "execution_count": 108,
   "id": "a5399d74-b373-4436-9afa-4986ef8a252b",
   "metadata": {},
   "outputs": [
    {
     "name": "stdout",
     "output_type": "stream",
     "text": [
      "8\n",
      "8\n"
     ]
    }
   ],
   "source": [
    "def double_it(num):\n",
    "    return num * 2\n",
    "\n",
    "n = 4\n",
    "n = double_it(n)\n",
    "print(n)\n",
    "print(double_it(4))\n"
   ]
  },
  {
   "cell_type": "code",
   "execution_count": 109,
   "id": "965ce363-6cf7-475f-b0d2-1f519e985810",
   "metadata": {},
   "outputs": [],
   "source": [
    "def hello(greeting, name):\n",
    "    print(f'{greeting}, {name}!')"
   ]
  },
  {
   "cell_type": "code",
   "execution_count": 110,
   "id": "12a48ded-299f-4596-8e72-0ac514f20341",
   "metadata": {},
   "outputs": [
    {
     "name": "stdout",
     "output_type": "stream",
     "text": [
      "Welcome to ECNU, zhengsan!\n"
     ]
    }
   ],
   "source": [
    "hello('Welcome to ECNU', 'zhengsan')"
   ]
  },
  {
   "cell_type": "code",
   "execution_count": 111,
   "id": "5d83b46d-5627-4145-a08c-e85b286a4c1f",
   "metadata": {},
   "outputs": [
    {
     "name": "stdout",
     "output_type": "stream",
     "text": [
      "zhengsan, Welcome to ECNU!\n"
     ]
    }
   ],
   "source": [
    "hello('zhengsan', 'Welcome to ECNU')  # 错误语序怎么办"
   ]
  },
  {
   "cell_type": "code",
   "execution_count": 112,
   "id": "3fd0fb9f-7380-4c5a-9d78-d390107ec2d4",
   "metadata": {},
   "outputs": [
    {
     "name": "stdout",
     "output_type": "stream",
     "text": [
      "Welcome to ECNU, zhengsan!\n"
     ]
    }
   ],
   "source": [
    "hello(name = 'zhengsan', greeting = 'Welcome to ECNU')  # 有名次序"
   ]
  },
  {
   "cell_type": "code",
   "execution_count": 114,
   "id": "c99baab2-a7aa-443f-a526-0d005e41343f",
   "metadata": {},
   "outputs": [
    {
     "name": "stdout",
     "output_type": "stream",
     "text": [
      "(1, 2, 3, 4)\n"
     ]
    }
   ],
   "source": [
    "def print_params(*params):    # 自动打包成元组\n",
    "    print(params)\n",
    "\n",
    "print_params(1, 2, 3, 4)            "
   ]
  },
  {
   "cell_type": "code",
   "execution_count": 117,
   "id": "154f17af-9869-406e-955f-576960ab6335",
   "metadata": {},
   "outputs": [
    {
     "name": "stdout",
     "output_type": "stream",
     "text": [
      "{'x': 1, 'y': 2, 'z': 3}\n"
     ]
    }
   ],
   "source": [
    "def print_params(**params):    # 自动打包成元组\n",
    "    print(params)\n",
    "\n",
    "print_params(x=1, y=2, z=3)   "
   ]
  },
  {
   "cell_type": "code",
   "execution_count": 118,
   "id": "5387da97-33a4-41c4-9012-91001561aea3",
   "metadata": {},
   "outputs": [
    {
     "name": "stdout",
     "output_type": "stream",
     "text": [
      "1 2 3 4 5 s True\n"
     ]
    }
   ],
   "source": [
    "print(1, 2, 3, 4, 5, 's', True)"
   ]
  },
  {
   "cell_type": "code",
   "execution_count": 1,
   "id": "f33e9184-023c-4b57-8845-3a9347c8b2d7",
   "metadata": {},
   "outputs": [],
   "source": [
    "# 递归\n",
    "def print_numbers(n):\n",
    "    if n >0:\n",
    "        print(n)\n",
    "        print_numbers(n - 1)        "
   ]
  },
  {
   "cell_type": "code",
   "execution_count": 134,
   "id": "5ebb42c8-d233-43a7-9b5f-e8c65af96772",
   "metadata": {},
   "outputs": [
    {
     "name": "stdout",
     "output_type": "stream",
     "text": [
      "10\n",
      "9\n",
      "8\n",
      "7\n",
      "6\n",
      "5\n",
      "4\n",
      "3\n",
      "2\n",
      "1\n"
     ]
    }
   ],
   "source": [
    "print_numbers(10)"
   ]
  },
  {
   "cell_type": "code",
   "execution_count": 135,
   "id": "6f8e1407-b031-413a-b33c-7dfbb91500bb",
   "metadata": {},
   "outputs": [],
   "source": [
    "def print_numbers(n):\n",
    "    if n >0:\n",
    "        print_numbers(n - 1)\n",
    "        print(n)"
   ]
  },
  {
   "cell_type": "code",
   "execution_count": 136,
   "id": "9daaf900-7eaf-4042-b9a1-4243f71f7ccc",
   "metadata": {},
   "outputs": [
    {
     "name": "stdout",
     "output_type": "stream",
     "text": [
      "1\n",
      "2\n",
      "3\n",
      "4\n",
      "5\n",
      "6\n",
      "7\n",
      "8\n",
      "9\n",
      "10\n"
     ]
    }
   ],
   "source": [
    "print_numbers(10)"
   ]
  },
  {
   "cell_type": "code",
   "execution_count": 2,
   "id": "edf3686f-ac4f-4304-9ef7-1f0b75d26c51",
   "metadata": {},
   "outputs": [],
   "source": [
    "# 斐波那契数列\n",
    "def Fib(i):\n",
    "    if i == 0 or i == 1:\n",
    "        return 1\n",
    "    else:\n",
    "        return Fib(i - 1) + Fib(i - 2)"
   ]
  },
  {
   "cell_type": "code",
   "execution_count": 139,
   "id": "dcaf2bcc-fc12-4038-b3ba-140c54d4d4ef",
   "metadata": {},
   "outputs": [
    {
     "data": {
      "text/plain": [
       "8"
      ]
     },
     "execution_count": 139,
     "metadata": {},
     "output_type": "execute_result"
    }
   ],
   "source": [
    "Fib(5)"
   ]
  },
  {
   "cell_type": "code",
   "execution_count": 140,
   "id": "f2218020-9001-4107-9eb6-06aa1a51c22e",
   "metadata": {},
   "outputs": [
    {
     "data": {
      "text/plain": [
       "1346269"
      ]
     },
     "execution_count": 140,
     "metadata": {},
     "output_type": "execute_result"
    }
   ],
   "source": [
    "Fib(30)"
   ]
  },
  {
   "cell_type": "code",
   "execution_count": 141,
   "id": "d69027a3-c2ea-4e6b-965c-d6d669268810",
   "metadata": {},
   "outputs": [],
   "source": [
    "from functools import lru_cache\n",
    "@lru_cache(maxsize = None)\n",
    "def Fib(i):\n",
    "    if i == 0 or i == 1:\n",
    "        return 1\n",
    "    else:\n",
    "        return Fib(i - 1) + Fib(i - 2)"
   ]
  },
  {
   "cell_type": "code",
   "execution_count": 142,
   "id": "65946a32-eb7e-4971-a72b-c0df539db990",
   "metadata": {},
   "outputs": [
    {
     "data": {
      "text/plain": [
       "1346269"
      ]
     },
     "execution_count": 142,
     "metadata": {},
     "output_type": "execute_result"
    }
   ],
   "source": [
    "Fib(30)"
   ]
  },
  {
   "cell_type": "code",
   "execution_count": 143,
   "id": "fec5d09b-bede-40ca-8e7d-87e9b1b3c716",
   "metadata": {},
   "outputs": [
    {
     "data": {
      "text/plain": [
       "70330367711422815821835254877183549770181269836358732742604905087154537118196933579742249494562611733487750449241765991088186363265450223647106012053374121273867339111198139373125598767690091902245245323403501"
      ]
     },
     "execution_count": 143,
     "metadata": {},
     "output_type": "execute_result"
    }
   ],
   "source": [
    "Fib(1000)"
   ]
  },
  {
   "cell_type": "code",
   "execution_count": 146,
   "id": "971df58c-cfdf-44b7-aa0b-5c0cf90cc6da",
   "metadata": {},
   "outputs": [],
   "source": [
    "# 汉诺塔\n",
    "def hanoi(n, source, dest, temp):\n",
    "    if n > 1:\n",
    "        hanoi(n - 1, source, temp, dest)\n",
    "        print(f'{source} -> {dest}')\n",
    "        hanoi(n - 1,temp, dest, source)\n",
    "    else:\n",
    "        print(f'{source} -> {dest}')\n",
    "        "
   ]
  },
  {
   "cell_type": "code",
   "execution_count": 149,
   "id": "909e42de-c165-49aa-80e3-d7419fc04226",
   "metadata": {},
   "outputs": [
    {
     "name": "stdout",
     "output_type": "stream",
     "text": [
      "a -> c\n",
      "a -> b\n",
      "c -> b\n",
      "a -> c\n",
      "b -> a\n",
      "b -> c\n",
      "a -> c\n"
     ]
    }
   ],
   "source": [
    "hanoi(3, 'a', 'c', 'b')"
   ]
  }
 ],
 "metadata": {
  "kernelspec": {
   "display_name": "Python 3 (ipykernel)",
   "language": "python",
   "name": "python3"
  },
  "language_info": {
   "codemirror_mode": {
    "name": "ipython",
    "version": 3
   },
   "file_extension": ".py",
   "mimetype": "text/x-python",
   "name": "python",
   "nbconvert_exporter": "python",
   "pygments_lexer": "ipython3",
   "version": "3.12.5"
  }
 },
 "nbformat": 4,
 "nbformat_minor": 5
}
