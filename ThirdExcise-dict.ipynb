{
 "cells": [
  {
   "cell_type": "code",
   "execution_count": 1,
   "id": "85728160-7676-4da8-9004-757c502cd298",
   "metadata": {},
   "outputs": [
    {
     "name": "stdin",
     "output_type": "stream",
     "text": [
      "Please input a name:  ww\n"
     ]
    },
    {
     "name": "stdout",
     "output_type": "stream",
     "text": [
      "100\n"
     ]
    }
   ],
   "source": [
    "names = ['zs', 'ls', 'ww']\n",
    "scores = [90, 80, 100]\n",
    "name = input('Please input a name: ')\n",
    "print(scores[names.index(name)])"
   ]
  },
  {
   "cell_type": "code",
   "execution_count": 3,
   "id": "8f02f581-c7a6-4f89-929c-6e23c77fea7c",
   "metadata": {},
   "outputs": [
    {
     "name": "stdin",
     "output_type": "stream",
     "text": [
      "Please input a name:  zs\n"
     ]
    },
    {
     "name": "stdout",
     "output_type": "stream",
     "text": [
      "90\n"
     ]
    }
   ],
   "source": [
    "# dictionary\n",
    "scores = {'zs':90, 'ls':80, 'ww':100}\n",
    "name = input('Please input a name: ')\n",
    "print(scores[name])"
   ]
  },
  {
   "cell_type": "code",
   "execution_count": 4,
   "id": "6af069af-16ac-4068-8981-ea61d98088cb",
   "metadata": {},
   "outputs": [
    {
     "data": {
      "text/plain": [
       "True"
      ]
     },
     "execution_count": 4,
     "metadata": {},
     "output_type": "execute_result"
    }
   ],
   "source": [
    "'zs' in scores"
   ]
  },
  {
   "cell_type": "code",
   "execution_count": 5,
   "id": "039e19bc-4fd7-44fb-bf45-d20e9a9faee2",
   "metadata": {},
   "outputs": [
    {
     "data": {
      "text/plain": [
       "False"
      ]
     },
     "execution_count": 5,
     "metadata": {},
     "output_type": "execute_result"
    }
   ],
   "source": [
    "'zh' in scores"
   ]
  },
  {
   "cell_type": "code",
   "execution_count": 6,
   "id": "49394caf-2ac8-4d41-91c9-f2168a062f87",
   "metadata": {},
   "outputs": [
    {
     "data": {
      "text/plain": [
       "{'zs': 90, 'ls': 80, 'ww': 100, 'zh': 120}"
      ]
     },
     "execution_count": 6,
     "metadata": {},
     "output_type": "execute_result"
    }
   ],
   "source": [
    "scores['zh'] = 120\n",
    "scores"
   ]
  },
  {
   "cell_type": "code",
   "execution_count": 7,
   "id": "3408bcac-a5f3-487a-87c0-87f2455d55bb",
   "metadata": {},
   "outputs": [
    {
     "data": {
      "text/plain": [
       "{'zs': 90, 'ls': 80, 'ww': 100, 'zh': 60}"
      ]
     },
     "execution_count": 7,
     "metadata": {},
     "output_type": "execute_result"
    }
   ],
   "source": [
    "# 可变\n",
    "scores['zh'] = 60\n",
    "scores"
   ]
  },
  {
   "cell_type": "code",
   "execution_count": 10,
   "id": "84e70fdd-6a84-4ac3-84e2-15438f202cf6",
   "metadata": {},
   "outputs": [
    {
     "ename": "KeyError",
     "evalue": "'zh'",
     "output_type": "error",
     "traceback": [
      "\u001b[1;31m---------------------------------------------------------------------------\u001b[0m",
      "\u001b[1;31mKeyError\u001b[0m                                  Traceback (most recent call last)",
      "Cell \u001b[1;32mIn[10], line 1\u001b[0m\n\u001b[1;32m----> 1\u001b[0m \u001b[38;5;28;01mdel\u001b[39;00m scores[\u001b[38;5;124m'\u001b[39m\u001b[38;5;124mzh\u001b[39m\u001b[38;5;124m'\u001b[39m]\n\u001b[0;32m      2\u001b[0m scores\n",
      "\u001b[1;31mKeyError\u001b[0m: 'zh'"
     ]
    }
   ],
   "source": [
    "del scores['zh']\n",
    "scores"
   ]
  },
  {
   "cell_type": "code",
   "execution_count": 11,
   "id": "88a800e9-07cf-479d-891e-21ccf2c45165",
   "metadata": {},
   "outputs": [
    {
     "data": {
      "text/plain": [
       "{'zs': 90, 'ls': 80, 'ww': 100}"
      ]
     },
     "execution_count": 11,
     "metadata": {},
     "output_type": "execute_result"
    }
   ],
   "source": [
    "scores"
   ]
  },
  {
   "cell_type": "code",
   "execution_count": 13,
   "id": "15b9ec5f-28e7-4f04-b144-a8f559d6cda5",
   "metadata": {},
   "outputs": [
    {
     "data": {
      "text/plain": [
       "{'name': 'zs', 'age': 42}"
      ]
     },
     "execution_count": 13,
     "metadata": {},
     "output_type": "execute_result"
    }
   ],
   "source": [
    "# value异值.  name age可以不用打引号\n",
    "# python中没有struct\n",
    "d = dict(name='zs', age=42)\n",
    "d"
   ]
  },
  {
   "cell_type": "code",
   "execution_count": 14,
   "id": "db34d83a-1e89-4c98-9615-520f52eaf652",
   "metadata": {},
   "outputs": [
    {
     "name": "stdout",
     "output_type": "stream",
     "text": [
      "zs 42\n"
     ]
    }
   ],
   "source": [
    "print(d['name'], d['age'])"
   ]
  },
  {
   "cell_type": "code",
   "execution_count": 19,
   "id": "544bec14-1434-43f1-81ad-d21c3ab35ea0",
   "metadata": {},
   "outputs": [
    {
     "name": "stdout",
     "output_type": "stream",
     "text": [
      "{'name': 0, 'age': 0}\n"
     ]
    }
   ],
   "source": [
    "# 放sequence就好了\n",
    "print({}.fromkeys(['name', 'age'], 0))"
   ]
  },
  {
   "cell_type": "code",
   "execution_count": 23,
   "id": "ff30696e-5dae-4ed7-b90f-c84242018e9f",
   "metadata": {},
   "outputs": [
    {
     "data": {
      "text/plain": [
       "{'a': 0, 'e': 0, 'i': 0, 'o': 0, 'u': 0}"
      ]
     },
     "execution_count": 23,
     "metadata": {},
     "output_type": "execute_result"
    }
   ],
   "source": [
    "str = 'hello, this is a test, I designed the test fore the simple purpose to test.'\n",
    "count = {}.fromkeys('aeiou', 0)  # 放sequence就好了\n",
    "count"
   ]
  },
  {
   "cell_type": "code",
   "execution_count": 24,
   "id": "f925af05-000a-485d-837e-2ff137e66a85",
   "metadata": {},
   "outputs": [
    {
     "name": "stdout",
     "output_type": "stream",
     "text": [
      "{'a': 1, 'e': 11, 'i': 4, 'o': 4, 'u': 1}\n"
     ]
    }
   ],
   "source": [
    "for ch in str:\n",
    "    if ch in count:\n",
    "        count[ch] += 1\n",
    "\n",
    "print(count)"
   ]
  },
  {
   "cell_type": "code",
   "execution_count": 25,
   "id": "0df60f80-1394-4667-8492-28e85d30e3d9",
   "metadata": {},
   "outputs": [
    {
     "data": {
      "text/plain": [
       "1"
      ]
     },
     "execution_count": 25,
     "metadata": {},
     "output_type": "execute_result"
    }
   ],
   "source": [
    "count.get('a')"
   ]
  },
  {
   "cell_type": "code",
   "execution_count": 33,
   "id": "b7296d31-e0bb-4f64-8e72-37936ec0d4ed",
   "metadata": {},
   "outputs": [
    {
     "name": "stdout",
     "output_type": "stream",
     "text": [
      "0\n",
      "11\n"
     ]
    }
   ],
   "source": [
    "# 用get访问，找不到给出缺省值\n",
    "print(count.get('h', 0))\n",
    "print(count['e'])"
   ]
  },
  {
   "cell_type": "code",
   "execution_count": 29,
   "id": "29cb1551-af83-4af4-aeb5-8fadc69a6b35",
   "metadata": {},
   "outputs": [
    {
     "name": "stdout",
     "output_type": "stream",
     "text": [
      "N/A\n"
     ]
    }
   ],
   "source": [
    "print(count.get('h', 'N/A'))"
   ]
  },
  {
   "cell_type": "code",
   "execution_count": 34,
   "id": "c4ebd5f4-454e-4b01-853f-bf57af908682",
   "metadata": {},
   "outputs": [],
   "source": [
    "# 统计单词。红楼梦前80回和后40回就是用这种方法得出两个作者的\n",
    "text = '''\n",
    "Google today released the open source version of the differential privacy library used in some its core products, such as Google Maps. Any organization or developer can now check out the library on GitHub.\n",
    "\n",
    "Differential privacy limits the algorithms used to publish aggregate information about a statistical database. Whether you are a city planner, small business owner, or software developer, chances are you want to gain insights from the data of your citizens, customers, or users. But you don’t want to lose their trust in the process. Differentially private data analysis enables organizations to learn from the majority of their data without allowing any single individual’s data to be distinguished or re-identified.\n",
    "\n",
    "“If you are a health researcher, you may want to compare the average amount of time patients remain admitted across various hospitals in order to determine if there are differences in care,” Google product manager Miguel Guevara explains. “Differential privacy is a high-assurance, analytic means of ensuring that use cases like this are addressed in a privacy-preserving manner.”\n",
    "Differential privacy library features\n",
    "\n",
    "Google promises its library is easy for developers to deploy. It can help you perform functions that are difficult to execute from scratch, “like automatically calculating bounds on user contributions,” Guevera says. Key features include:\n",
    "\n",
    "    Statistical functions: Most common data science operations (counts, sums, averages, medians, and percentiles) are supported.\n",
    "    Rigorous testing: Besides an extensive test suite, an extensible “Stochastic Differential Privacy Model Checker library” helps prevent mistakes.\n",
    "    Ready to use: A PostgreSQL extension, along with common recipes, is included.\n",
    "    Modular: The library can be extended to include other functionalities, such as additional mechanisms, aggregation functions, or privacy budget management.\n",
    "\n",
    "This isn’t Google’s first differential privacy rodeo, but the company has been particularly busy in the space this year. I\n",
    "'''\n"
   ]
  },
  {
   "cell_type": "code",
   "execution_count": 36,
   "id": "e1af0f6d-b3b4-45fe-9c6d-bb9657c6c714",
   "metadata": {},
   "outputs": [
    {
     "data": {
      "text/plain": [
       "{'b': 1, 'a': 0}"
      ]
     },
     "execution_count": 36,
     "metadata": {},
     "output_type": "execute_result"
    }
   ],
   "source": [
    "d = dict()\n",
    "d['b'] = 1\n",
    "d.setdefault('b', 0)\n",
    "d.setdefault('a', 0)\n",
    "d"
   ]
  },
  {
   "cell_type": "code",
   "execution_count": null,
   "id": "b9eb6962-c439-4487-8a84-cdc1a54540f4",
   "metadata": {},
   "outputs": [],
   "source": [
    "#count.setdefault('this', 0)\n",
    "#count['this'] += 1"
   ]
  },
  {
   "cell_type": "code",
   "execution_count": 40,
   "id": "5b66fa60-dfc8-4121-abaa-dbc9e4adc837",
   "metadata": {},
   "outputs": [
    {
     "name": "stdout",
     "output_type": "stream",
     "text": [
      "['', 'google', 'today', 'released', 'the', 'open', 'source', 'version', 'of', 'the', 'differential', 'privacy', 'library', 'used', 'in', 'some', 'its', 'core', 'products', '', 'such', 'as', 'google', 'maps', '', 'any', 'organization', 'or', 'developer', 'can', 'now', 'check', 'out', 'the', 'library', 'on', 'github', '', '', 'differential', 'privacy', 'limits', 'the', 'algorithms', 'used', 'to', 'publish', 'aggregate', 'information', 'about', 'a', 'statistical', 'database', '', 'whether', 'you', 'are', 'a', 'city', 'planner', '', 'small', 'business', 'owner', '', 'or', 'software', 'developer', '', 'chances', 'are', 'you', 'want', 'to', 'gain', 'insights', 'from', 'the', 'data', 'of', 'your', 'citizens', '', 'customers', '', 'or', 'users', '', 'but', 'you', 'don', 't', 'want', 'to', 'lose', 'their', 'trust', 'in', 'the', 'process', '', 'differentially', 'private', 'data', 'analysis', 'enables', 'organizations', 'to', 'learn', 'from', 'the', 'majority', 'of', 'their', 'data', 'without', 'allowing', 'any', 'single', 'individual', 's', 'data', 'to', 'be', 'distinguished', 'or', 're', 'identified', '', '', '', 'if', 'you', 'are', 'a', 'health', 'researcher', '', 'you', 'may', 'want', 'to', 'compare', 'the', 'average', 'amount', 'of', 'time', 'patients', 'remain', 'admitted', 'across', 'various', 'hospitals', 'in', 'order', 'to', 'determine', 'if', 'there', 'are', 'differences', 'in', 'care', '', '', 'google', 'product', 'manager', 'miguel', 'guevara', 'explains', '', '', 'differential', 'privacy', 'is', 'a', 'high', 'assurance', '', 'analytic', 'means', 'of', 'ensuring', 'that', 'use', 'cases', 'like', 'this', 'are', 'addressed', 'in', 'a', 'privacy', 'preserving', 'manner', '', '', 'differential', 'privacy', 'library', 'features', '', 'google', 'promises', 'its', 'library', 'is', 'easy', 'for', 'developers', 'to', 'deploy', '', 'it', 'can', 'help', 'you', 'perform', 'functions', 'that', 'are', 'difficult', 'to', 'execute', 'from', 'scratch', '', '', 'like', 'automatically', 'calculating', 'bounds', 'on', 'user', 'contributions', '', '', 'guevera', 'says', '', 'key', 'features', 'include', '', '', '', '', '', '', 'statistical', 'functions', '', 'most', 'common', 'data', 'science', 'operations', '', 'counts', '', 'sums', '', 'averages', '', 'medians', '', 'and', 'percentiles', '', 'are', 'supported', '', '', '', '', '', 'rigorous', 'testing', '', 'besides', 'an', 'extensive', 'test', 'suite', '', 'an', 'extensible', '', 'stochastic', 'differential', 'privacy', 'model', 'checker', 'library', '', 'helps', 'prevent', 'mistakes', '', '', '', '', '', 'ready', 'to', 'use', '', 'a', 'postgresql', 'extension', '', 'along', 'with', 'common', 'recipes', '', 'is', 'included', '', '', '', '', '', 'modular', '', 'the', 'library', 'can', 'be', 'extended', 'to', 'include', 'other', 'functionalities', '', 'such', 'as', 'additional', 'mechanisms', '', 'aggregation', 'functions', '', 'or', 'privacy', 'budget', 'management', '', '', 'this', 'isn', 't', 'google', 's', 'first', 'differential', 'privacy', 'rodeo', '', 'but', 'the', 'company', 'has', 'been', 'particularly', 'busy', 'in', 'the', 'space', 'this', 'year', '', 'i', ''] "
     ]
    }
   ],
   "source": [
    "# \\n : ,之类的字符怎么办呢？可以提前替换一下\n",
    "text = text.lower().replace('\\n', ' ')\n",
    "text = text.replace(',', ' ')\n",
    "for sep in '\\n,-\\t.()\\'\\\"\\’\\‘\\“\\”:;':\n",
    "    text = text.replace(sep, ' ')\n",
    "words = text.split(' ')\n",
    "print(words, end=' ')"
   ]
  },
  {
   "cell_type": "code",
   "execution_count": 42,
   "id": "75e9c175-d88b-473c-a10d-53096720f3f3",
   "metadata": {},
   "outputs": [
    {
     "name": "stdout",
     "output_type": "stream",
     "text": [
      "['google', 'today', 'released', 'the', 'open', 'source', 'version', 'of', 'the', 'differential', 'privacy', 'library', 'used', 'in', 'some', 'its', 'core', 'products', 'such', 'as', 'google', 'maps', '', 'any', 'organization', 'or', 'developer', 'can', 'now', 'check', 'out', 'the', 'library', 'on', 'github', '', '', 'differential', 'privacy', 'limits', 'the', 'algorithms', 'used', 'to', 'publish', 'aggregate', 'information', 'about', 'a', 'statistical', 'database', '', 'whether', 'you', 'are', 'a', 'city', 'planner', '', 'small', 'business', 'owner', '', 'or', 'software', 'developer', '', 'chances', 'are', 'you', 'want', 'to', 'gain', 'insights', 'from', 'the', 'data', 'of', 'your', 'citizens', '', 'customers', '', 'or', 'users', '', 'but', 'you', 'don', 't', 'want', 'to', 'lose', 'their', 'trust', 'in', 'the', 'process', '', 'differentially', 'private', 'data', 'analysis', 'enables', 'organizations', 'to', 'learn', 'from', 'the', 'majority', 'of', 'their', 'data', 'without', 'allowing', 'any', 'single', 'individual', 's', 'data', 'to', 'be', 'distinguished', 'or', 're', 'identified', '', '', '', 'if', 'you', 'are', 'a', 'health', 'researcher', '', 'you', 'may', 'want', 'to', 'compare', 'the', 'average', 'amount', 'of', 'time', 'patients', 'remain', 'admitted', 'across', 'various', 'hospitals', 'in', 'order', 'to', 'determine', 'if', 'there', 'are', 'differences', 'in', 'care', '', '', 'google', 'product', 'manager', 'miguel', 'guevara', 'explains', '', '', 'differential', 'privacy', 'is', 'a', 'high', 'assurance', '', 'analytic', 'means', 'of', 'ensuring', 'that', 'use', 'cases', 'like', 'this', 'are', 'addressed', 'in', 'a', 'privacy', 'preserving', 'manner', '', '', 'differential', 'privacy', 'library', 'features', '', 'google', 'promises', 'its', 'library', 'is', 'easy', 'for', 'developers', 'to', 'deploy', '', 'it', 'can', 'help', 'you', 'perform', 'functions', 'that', 'are', 'difficult', 'to', 'execute', 'from', 'scratch', '', '', 'like', 'automatically', 'calculating', 'bounds', 'on', 'user', 'contributions', '', '', 'guevera', 'says', '', 'key', 'features', 'include', '', '', '', '', '', '', 'statistical', 'functions', '', 'most', 'common', 'data', 'science', 'operations', '', 'counts', '', 'sums', '', 'averages', '', 'medians', '', 'and', 'percentiles', '', 'are', 'supported', '', '', '', '', '', 'rigorous', 'testing', '', 'besides', 'an', 'extensive', 'test', 'suite', '', 'an', 'extensible', '', 'stochastic', 'differential', 'privacy', 'model', 'checker', 'library', '', 'helps', 'prevent', 'mistakes', '', '', '', '', '', 'ready', 'to', 'use', '', 'a', 'postgresql', 'extension', '', 'along', 'with', 'common', 'recipes', '', 'is', 'included', '', '', '', '', '', 'modular', '', 'the', 'library', 'can', 'be', 'extended', 'to', 'include', 'other', 'functionalities', '', 'such', 'as', 'additional', 'mechanisms', '', 'aggregation', 'functions', '', 'or', 'privacy', 'budget', 'management', '', '', 'this', 'isn', 't', 'google', 's', 'first', 'differential', 'privacy', 'rodeo', '', 'but', 'the', 'company', 'has', 'been', 'particularly', 'busy', 'in', 'the', 'space', 'this', 'year', '', 'i', '']\n"
     ]
    }
   ],
   "source": [
    "words.remove('')\n",
    "print(words)"
   ]
  },
  {
   "cell_type": "code",
   "execution_count": 43,
   "id": "27d79c88-a72f-4251-ad05-3602c5c3912f",
   "metadata": {},
   "outputs": [],
   "source": [
    "try:\n",
    "    while True: words.remove('')\n",
    "except:\n",
    "    pass"
   ]
  },
  {
   "cell_type": "code",
   "execution_count": 44,
   "id": "e934864c-12c2-401e-b2ca-1cbc74c806ea",
   "metadata": {},
   "outputs": [
    {
     "name": "stdout",
     "output_type": "stream",
     "text": [
      "['google', 'today', 'released', 'the', 'open', 'source', 'version', 'of', 'the', 'differential', 'privacy', 'library', 'used', 'in', 'some', 'its', 'core', 'products', 'such', 'as', 'google', 'maps', 'any', 'organization', 'or', 'developer', 'can', 'now', 'check', 'out', 'the', 'library', 'on', 'github', 'differential', 'privacy', 'limits', 'the', 'algorithms', 'used', 'to', 'publish', 'aggregate', 'information', 'about', 'a', 'statistical', 'database', 'whether', 'you', 'are', 'a', 'city', 'planner', 'small', 'business', 'owner', 'or', 'software', 'developer', 'chances', 'are', 'you', 'want', 'to', 'gain', 'insights', 'from', 'the', 'data', 'of', 'your', 'citizens', 'customers', 'or', 'users', 'but', 'you', 'don', 't', 'want', 'to', 'lose', 'their', 'trust', 'in', 'the', 'process', 'differentially', 'private', 'data', 'analysis', 'enables', 'organizations', 'to', 'learn', 'from', 'the', 'majority', 'of', 'their', 'data', 'without', 'allowing', 'any', 'single', 'individual', 's', 'data', 'to', 'be', 'distinguished', 'or', 're', 'identified', 'if', 'you', 'are', 'a', 'health', 'researcher', 'you', 'may', 'want', 'to', 'compare', 'the', 'average', 'amount', 'of', 'time', 'patients', 'remain', 'admitted', 'across', 'various', 'hospitals', 'in', 'order', 'to', 'determine', 'if', 'there', 'are', 'differences', 'in', 'care', 'google', 'product', 'manager', 'miguel', 'guevara', 'explains', 'differential', 'privacy', 'is', 'a', 'high', 'assurance', 'analytic', 'means', 'of', 'ensuring', 'that', 'use', 'cases', 'like', 'this', 'are', 'addressed', 'in', 'a', 'privacy', 'preserving', 'manner', 'differential', 'privacy', 'library', 'features', 'google', 'promises', 'its', 'library', 'is', 'easy', 'for', 'developers', 'to', 'deploy', 'it', 'can', 'help', 'you', 'perform', 'functions', 'that', 'are', 'difficult', 'to', 'execute', 'from', 'scratch', 'like', 'automatically', 'calculating', 'bounds', 'on', 'user', 'contributions', 'guevera', 'says', 'key', 'features', 'include', 'statistical', 'functions', 'most', 'common', 'data', 'science', 'operations', 'counts', 'sums', 'averages', 'medians', 'and', 'percentiles', 'are', 'supported', 'rigorous', 'testing', 'besides', 'an', 'extensive', 'test', 'suite', 'an', 'extensible', 'stochastic', 'differential', 'privacy', 'model', 'checker', 'library', 'helps', 'prevent', 'mistakes', 'ready', 'to', 'use', 'a', 'postgresql', 'extension', 'along', 'with', 'common', 'recipes', 'is', 'included', 'modular', 'the', 'library', 'can', 'be', 'extended', 'to', 'include', 'other', 'functionalities', 'such', 'as', 'additional', 'mechanisms', 'aggregation', 'functions', 'or', 'privacy', 'budget', 'management', 'this', 'isn', 't', 'google', 's', 'first', 'differential', 'privacy', 'rodeo', 'but', 'the', 'company', 'has', 'been', 'particularly', 'busy', 'in', 'the', 'space', 'this', 'year', 'i']\n"
     ]
    }
   ],
   "source": [
    "print(words)"
   ]
  },
  {
   "cell_type": "code",
   "execution_count": 45,
   "id": "27fc8e15-2fab-478a-b7cb-571e3f298d32",
   "metadata": {},
   "outputs": [
    {
     "name": "stdout",
     "output_type": "stream",
     "text": [
      "{'google': 5, 'today': 1, 'released': 1, 'the': 11, 'open': 1, 'source': 1, 'version': 1, 'of': 5, 'differential': 6, 'privacy': 8, 'library': 6, 'used': 2, 'in': 6, 'some': 1, 'its': 2, 'core': 1, 'products': 1, 'such': 2, 'as': 2, 'maps': 1, 'any': 2, 'organization': 1, 'or': 5, 'developer': 2, 'can': 3, 'now': 1, 'check': 1, 'out': 1, 'on': 2, 'github': 1, 'limits': 1, 'algorithms': 1, 'to': 11, 'publish': 1, 'aggregate': 1, 'information': 1, 'about': 1, 'a': 6, 'statistical': 2, 'database': 1, 'whether': 1, 'you': 6, 'are': 7, 'city': 1, 'planner': 1, 'small': 1, 'business': 1, 'owner': 1, 'software': 1, 'chances': 1, 'want': 3, 'gain': 1, 'insights': 1, 'from': 3, 'data': 5, 'your': 1, 'citizens': 1, 'customers': 1, 'users': 1, 'but': 2, 'don': 1, 't': 2, 'lose': 1, 'their': 2, 'trust': 1, 'process': 1, 'differentially': 1, 'private': 1, 'analysis': 1, 'enables': 1, 'organizations': 1, 'learn': 1, 'majority': 1, 'without': 1, 'allowing': 1, 'single': 1, 'individual': 1, 's': 2, 'be': 2, 'distinguished': 1, 're': 1, 'identified': 1, 'if': 2, 'health': 1, 'researcher': 1, 'may': 1, 'compare': 1, 'average': 1, 'amount': 1, 'time': 1, 'patients': 1, 'remain': 1, 'admitted': 1, 'across': 1, 'various': 1, 'hospitals': 1, 'order': 1, 'determine': 1, 'there': 1, 'differences': 1, 'care': 1, 'product': 1, 'manager': 1, 'miguel': 1, 'guevara': 1, 'explains': 1, 'is': 3, 'high': 1, 'assurance': 1, 'analytic': 1, 'means': 1, 'ensuring': 1, 'that': 2, 'use': 2, 'cases': 1, 'like': 2, 'this': 3, 'addressed': 1, 'preserving': 1, 'manner': 1, 'features': 2, 'promises': 1, 'easy': 1, 'for': 1, 'developers': 1, 'deploy': 1, 'it': 1, 'help': 1, 'perform': 1, 'functions': 3, 'difficult': 1, 'execute': 1, 'scratch': 1, 'automatically': 1, 'calculating': 1, 'bounds': 1, 'user': 1, 'contributions': 1, 'guevera': 1, 'says': 1, 'key': 1, 'include': 2, 'most': 1, 'common': 2, 'science': 1, 'operations': 1, 'counts': 1, 'sums': 1, 'averages': 1, 'medians': 1, 'and': 1, 'percentiles': 1, 'supported': 1, 'rigorous': 1, 'testing': 1, 'besides': 1, 'an': 2, 'extensive': 1, 'test': 1, 'suite': 1, 'extensible': 1, 'stochastic': 1, 'model': 1, 'checker': 1, 'helps': 1, 'prevent': 1, 'mistakes': 1, 'ready': 1, 'postgresql': 1, 'extension': 1, 'along': 1, 'with': 1, 'recipes': 1, 'included': 1, 'modular': 1, 'extended': 1, 'other': 1, 'functionalities': 1, 'additional': 1, 'mechanisms': 1, 'aggregation': 1, 'budget': 1, 'management': 1, 'isn': 1, 'first': 1, 'rodeo': 1, 'company': 1, 'has': 1, 'been': 1, 'particularly': 1, 'busy': 1, 'space': 1, 'year': 1, 'i': 1}\n"
     ]
    }
   ],
   "source": [
    "count = dict()\n",
    "for word in words:\n",
    "    count.setdefault(word, 0)\n",
    "    count[word] += 1\n",
    "print(count)"
   ]
  },
  {
   "cell_type": "code",
   "execution_count": 47,
   "id": "ed4585eb-9ad4-400c-b01a-cf101d35d539",
   "metadata": {},
   "outputs": [
    {
     "name": "stdout",
     "output_type": "stream",
     "text": [
      "{5: ['google', 'of', 'or', 'data'], 1: ['today', 'released', 'open', 'source', 'version', 'some', 'core', 'products', 'maps', 'organization', 'now', 'check', 'out', 'github', 'limits', 'algorithms', 'publish', 'aggregate', 'information', 'about', 'database', 'whether', 'city', 'planner', 'small', 'business', 'owner', 'software', 'chances', 'gain', 'insights', 'your', 'citizens', 'customers', 'users', 'don', 'lose', 'trust', 'process', 'differentially', 'private', 'analysis', 'enables', 'organizations', 'learn', 'majority', 'without', 'allowing', 'single', 'individual', 'distinguished', 're', 'identified', 'health', 'researcher', 'may', 'compare', 'average', 'amount', 'time', 'patients', 'remain', 'admitted', 'across', 'various', 'hospitals', 'order', 'determine', 'there', 'differences', 'care', 'product', 'manager', 'miguel', 'guevara', 'explains', 'high', 'assurance', 'analytic', 'means', 'ensuring', 'cases', 'addressed', 'preserving', 'manner', 'promises', 'easy', 'for', 'developers', 'deploy', 'it', 'help', 'perform', 'difficult', 'execute', 'scratch', 'automatically', 'calculating', 'bounds', 'user', 'contributions', 'guevera', 'says', 'key', 'most', 'science', 'operations', 'counts', 'sums', 'averages', 'medians', 'and', 'percentiles', 'supported', 'rigorous', 'testing', 'besides', 'extensive', 'test', 'suite', 'extensible', 'stochastic', 'model', 'checker', 'helps', 'prevent', 'mistakes', 'ready', 'postgresql', 'extension', 'along', 'with', 'recipes', 'included', 'modular', 'extended', 'other', 'functionalities', 'additional', 'mechanisms', 'aggregation', 'budget', 'management', 'isn', 'first', 'rodeo', 'company', 'has', 'been', 'particularly', 'busy', 'space', 'year', 'i'], 11: ['the', 'to'], 6: ['differential', 'library', 'in', 'a', 'you'], 8: ['privacy'], 2: ['used', 'its', 'such', 'as', 'any', 'developer', 'on', 'statistical', 'but', 't', 'their', 's', 'be', 'if', 'that', 'use', 'like', 'features', 'include', 'common', 'an'], 3: ['can', 'want', 'from', 'is', 'this', 'functions'], 7: ['are']}\n"
     ]
    }
   ],
   "source": [
    "words_by_count = dict()\n",
    "for word in count.keys():\n",
    "    words_by_count.setdefault(count[word], [])\n",
    "    words_by_count[count[word]].append(word)\n",
    "print(words_by_count)"
   ]
  },
  {
   "cell_type": "code",
   "execution_count": 49,
   "id": "2d606bbf-2b5d-4a4e-a59c-82e4d2faec08",
   "metadata": {},
   "outputs": [
    {
     "data": {
      "text/plain": [
       "dict_keys([5, 1, 11, 6, 8, 2, 3, 7])"
      ]
     },
     "execution_count": 49,
     "metadata": {},
     "output_type": "execute_result"
    }
   ],
   "source": [
    "words_by_count.keys()"
   ]
  },
  {
   "cell_type": "code",
   "execution_count": 51,
   "id": "90f168b9-b35d-4ee3-bde4-e57310c8e82c",
   "metadata": {},
   "outputs": [
    {
     "data": {
      "text/plain": [
       "[11, 8, 7, 6, 5, 3, 2, 1]"
      ]
     },
     "execution_count": 51,
     "metadata": {},
     "output_type": "execute_result"
    }
   ],
   "source": [
    "sorted(words_by_count.keys(), reverse = True)"
   ]
  },
  {
   "cell_type": "code",
   "execution_count": 55,
   "id": "31d24ac4-a2e0-41c6-991b-5741eff7d135",
   "metadata": {},
   "outputs": [
    {
     "name": "stdout",
     "output_type": "stream",
     "text": [
      "count 11: the to \n",
      "count 8: privacy \n",
      "count 7: are \n",
      "count 6: differential library in a you \n",
      "count 5: google of or data \n",
      "count 3: can want from is this functions \n",
      "count 2: used its such as any developer on statistical but t their s be if that use like features include common an \n",
      "count 1: today released open source version some core products maps organization now check out github limits algorithms publish aggregate information about database whether city planner small business owner software chances gain insights your citizens customers users don lose trust process differentially private analysis enables organizations learn majority without allowing single individual distinguished re identified health researcher may compare average amount time patients remain admitted across various hospitals order determine there differences care product manager miguel guevara explains high assurance analytic means ensuring cases addressed preserving manner promises easy for developers deploy it help perform difficult execute scratch automatically calculating bounds user contributions guevera says key most science operations counts sums averages medians and percentiles supported rigorous testing besides extensive test suite extensible stochastic model checker helps prevent mistakes ready postgresql extension along with recipes included modular extended other functionalities additional mechanisms aggregation budget management isn first rodeo company has been particularly busy space year i \n"
     ]
    }
   ],
   "source": [
    "for item in sorted(words_by_count.keys(), reverse = True):\n",
    "    print(f'count {item}:', end=' ')\n",
    "    for word in words_by_count[item]:\n",
    "        print(word, end=' ')\n",
    "    print('')"
   ]
  },
  {
   "cell_type": "code",
   "execution_count": 57,
   "id": "2836e8d1-cbe3-40b2-a7ac-1dbd6f685ab1",
   "metadata": {},
   "outputs": [
    {
     "data": {
      "image/png": "[encoded data removed]",
      "text/plain": [
       "<Figure size 1000x4000 with 1 Axes>"
      ]
     },
     "metadata": {},
     "output_type": "display_data"
    }
   ],
   "source": [
    "import matplotlib.pyplot as plt\n",
    "fig = plt.figure(figsize=(10, 40))\n",
    "ax = fig.subplots()\n",
    "names = ['x', 'y', 'z']\n",
    "value = [10, 20, 30]\n",
    "plt.bar(names, value)   # bar是竖的，barh是横的\n",
    "plt.show()"
   ]
  },
  {
   "cell_type": "code",
   "execution_count": 63,
   "id": "a1c81a9b-5bfc-4133-b455-7c14c9df12f0",
   "metadata": {
    "scrolled": true
   },
   "outputs": [
    {
     "data": {
      "image/png": "[encoded data removed]",
      "text/plain": [
       "<Figure size 1000x2000 with 1 Axes>"
      ]
     },
     "metadata": {},
     "output_type": "display_data"
    }
   ],
   "source": [
    "counts = []\n",
    "words = []\n",
    "\n",
    "for item in sorted(words_by_count.keys()):\n",
    "    for word in words_by_count[item]:\n",
    "        words.append(word)\n",
    "        counts.append(item)\n",
    "\n",
    "import matplotlib.pyplot as plt\n",
    "fig = plt.figure(figsize=(10, 20))\n",
    "ax = fig.subplots()\n",
    "\n",
    "plt.barh(words[-20:], counts[-20:])   \n",
    "plt.show()\n",
    "  \n"
   ]
  },
  {
   "cell_type": "code",
   "execution_count": 64,
   "id": "44644746-b415-43fc-87ba-6d8a4afc06db",
   "metadata": {},
   "outputs": [],
   "source": [
    "# 把字典保存成json是很自然的事也，特别容易\n",
    "import json\n",
    "\n",
    "with open('d:\\\\test.json', 'w') as f:\n",
    "    json.dump(words_by_count, f)"
   ]
  },
  {
   "cell_type": "code",
   "execution_count": 65,
   "id": "b79c0719-0897-42bd-97ff-a0fa38352a99",
   "metadata": {},
   "outputs": [
    {
     "name": "stdout",
     "output_type": "stream",
     "text": [
      "{'5': ['google', 'of', 'or', 'data'], '1': ['today', 'released', 'open', 'source', 'version', 'some', 'core', 'products', 'maps', 'organization', 'now', 'check', 'out', 'github', 'limits', 'algorithms', 'publish', 'aggregate', 'information', 'about', 'database', 'whether', 'city', 'planner', 'small', 'business', 'owner', 'software', 'chances', 'gain', 'insights', 'your', 'citizens', 'customers', 'users', 'don', 'lose', 'trust', 'process', 'differentially', 'private', 'analysis', 'enables', 'organizations', 'learn', 'majority', 'without', 'allowing', 'single', 'individual', 'distinguished', 're', 'identified', 'health', 'researcher', 'may', 'compare', 'average', 'amount', 'time', 'patients', 'remain', 'admitted', 'across', 'various', 'hospitals', 'order', 'determine', 'there', 'differences', 'care', 'product', 'manager', 'miguel', 'guevara', 'explains', 'high', 'assurance', 'analytic', 'means', 'ensuring', 'cases', 'addressed', 'preserving', 'manner', 'promises', 'easy', 'for', 'developers', 'deploy', 'it', 'help', 'perform', 'difficult', 'execute', 'scratch', 'automatically', 'calculating', 'bounds', 'user', 'contributions', 'guevera', 'says', 'key', 'most', 'science', 'operations', 'counts', 'sums', 'averages', 'medians', 'and', 'percentiles', 'supported', 'rigorous', 'testing', 'besides', 'extensive', 'test', 'suite', 'extensible', 'stochastic', 'model', 'checker', 'helps', 'prevent', 'mistakes', 'ready', 'postgresql', 'extension', 'along', 'with', 'recipes', 'included', 'modular', 'extended', 'other', 'functionalities', 'additional', 'mechanisms', 'aggregation', 'budget', 'management', 'isn', 'first', 'rodeo', 'company', 'has', 'been', 'particularly', 'busy', 'space', 'year', 'i'], '11': ['the', 'to'], '6': ['differential', 'library', 'in', 'a', 'you'], '8': ['privacy'], '2': ['used', 'its', 'such', 'as', 'any', 'developer', 'on', 'statistical', 'but', 't', 'their', 's', 'be', 'if', 'that', 'use', 'like', 'features', 'include', 'common', 'an'], '3': ['can', 'want', 'from', 'is', 'this', 'functions'], '7': ['are']}\n"
     ]
    }
   ],
   "source": [
    "with open('d:\\\\test.json', 'r') as f:\n",
    "    test = json.load(f)\n",
    "print(test)"
   ]
  },
  {
   "cell_type": "code",
   "execution_count": 67,
   "id": "f6534960-cd42-4962-b8b6-5a51877bb3c2",
   "metadata": {},
   "outputs": [
    {
     "data": {
      "text/plain": [
       "bytearray(b'hello')"
      ]
     },
     "execution_count": 67,
     "metadata": {},
     "output_type": "execute_result"
    }
   ],
   "source": [
    "x = bytearray(b'hello')\n",
    "x"
   ]
  },
  {
   "cell_type": "code",
   "execution_count": 68,
   "id": "cafb32e1-b966-4c95-a76f-622b5b7a2d8b",
   "metadata": {},
   "outputs": [
    {
     "data": {
      "text/plain": [
       "bytearray(b'Hello')"
      ]
     },
     "execution_count": 68,
     "metadata": {},
     "output_type": "execute_result"
    }
   ],
   "source": [
    "# ordinary把它变成一个序号，每个字符都对应一个序号\n",
    "# chr反向映射\n",
    "x[0] = ord('H')\n",
    "x"
   ]
  },
  {
   "cell_type": "code",
   "execution_count": 69,
   "id": "6c4dd65b-5845-4821-b8ad-fe224c100325",
   "metadata": {},
   "outputs": [
    {
     "data": {
      "text/plain": [
       "b'hello'"
      ]
     },
     "execution_count": 69,
     "metadata": {},
     "output_type": "execute_result"
    }
   ],
   "source": [
    "'hello'.encode('ASCII')"
   ]
  },
  {
   "cell_type": "code",
   "execution_count": 70,
   "id": "8d989393-296c-4c3c-b2de-9978714102e7",
   "metadata": {},
   "outputs": [
    {
     "ename": "UnicodeEncodeError",
     "evalue": "'ascii' codec can't encode characters in position 0-1: ordinal not in range(128)",
     "output_type": "error",
     "traceback": [
      "\u001b[1;31m---------------------------------------------------------------------------\u001b[0m",
      "\u001b[1;31mUnicodeEncodeError\u001b[0m                        Traceback (most recent call last)",
      "Cell \u001b[1;32mIn[70], line 1\u001b[0m\n\u001b[1;32m----> 1\u001b[0m \u001b[38;5;124m'\u001b[39m\u001b[38;5;124m你好\u001b[39m\u001b[38;5;124m'\u001b[39m\u001b[38;5;241m.\u001b[39mencode(\u001b[38;5;124m'\u001b[39m\u001b[38;5;124mASCII\u001b[39m\u001b[38;5;124m'\u001b[39m)\n",
      "\u001b[1;31mUnicodeEncodeError\u001b[0m: 'ascii' codec can't encode characters in position 0-1: ordinal not in range(128)"
     ]
    }
   ],
   "source": [
    "'你好'.encode('ASCII')"
   ]
  },
  {
   "cell_type": "code",
   "execution_count": 71,
   "id": "f826b32d-bd74-4d2b-9d44-e202cd2b6cd0",
   "metadata": {},
   "outputs": [
    {
     "data": {
      "text/plain": [
       "b'\\xc4\\xe3\\xba\\xc3'"
      ]
     },
     "execution_count": 71,
     "metadata": {},
     "output_type": "execute_result"
    }
   ],
   "source": [
    "'你好'.encode('MBCS')  # multi byte character set"
   ]
  },
  {
   "cell_type": "code",
   "execution_count": 72,
   "id": "bc84ca44-6528-44b0-b74d-58474403519a",
   "metadata": {},
   "outputs": [
    {
     "data": {
      "text/plain": [
       "b'\\xe4\\xbd\\xa0\\xe5\\xa5\\xbd'"
      ]
     },
     "execution_count": 72,
     "metadata": {},
     "output_type": "execute_result"
    }
   ],
   "source": [
    "'你好'.encode('UTF-8')"
   ]
  },
  {
   "cell_type": "code",
   "execution_count": 73,
   "id": "33aae7e5-1f9e-4b7d-8c92-f1795be4cd30",
   "metadata": {},
   "outputs": [
    {
     "data": {
      "text/plain": [
       "b'hello'"
      ]
     },
     "execution_count": 73,
     "metadata": {},
     "output_type": "execute_result"
    }
   ],
   "source": [
    "'hello'.encode('UTF-8')  # 128或256个字节内直接翻译，超过用另一套，比较经济"
   ]
  },
  {
   "cell_type": "code",
   "execution_count": 74,
   "id": "5efdcb19-19f1-4d5d-8cd6-403a8d2565c5",
   "metadata": {},
   "outputs": [
    {
     "data": {
      "text/plain": [
       "b'\\xff\\xfeh\\x00e\\x00l\\x00l\\x00o\\x00'"
      ]
     },
     "execution_count": 74,
     "metadata": {},
     "output_type": "execute_result"
    }
   ],
   "source": [
    "'hello'.encode('UTF-16')    #  ff, Big-endian"
   ]
  },
  {
   "cell_type": "code",
   "execution_count": 75,
   "id": "22191a50-bf8b-488c-8d91-4c9cd04314f6",
   "metadata": {},
   "outputs": [
    {
     "data": {
      "text/plain": [
       "6"
      ]
     },
     "execution_count": 75,
     "metadata": {},
     "output_type": "execute_result"
    }
   ],
   "source": [
    "len('你好'.encode('UTF-16'))"
   ]
  },
  {
   "cell_type": "code",
   "execution_count": 77,
   "id": "0ef993f6-c15b-4b92-94bc-727deeb3099b",
   "metadata": {},
   "outputs": [
    {
     "data": {
      "text/plain": [
       "24"
      ]
     },
     "execution_count": 77,
     "metadata": {},
     "output_type": "execute_result"
    }
   ],
   "source": [
    "len('hello'.encode('UTF-32'))   # 全宇宙都用32"
   ]
  },
  {
   "cell_type": "code",
   "execution_count": 78,
   "id": "ed200740-7d9a-48bf-84a4-22e37642a20f",
   "metadata": {},
   "outputs": [
    {
     "name": "stdout",
     "output_type": "stream",
     "text": [
      "2 1\n"
     ]
    }
   ],
   "source": [
    "# 底层逻辑：sequence unpacking自动解包\n",
    "x, y = 1, 2\n",
    "x, y = y, x  # 先打包成tuple，再解包\n",
    "print(x, y)"
   ]
  },
  {
   "cell_type": "code",
   "execution_count": 79,
   "id": "0aa9c2b4-e27d-40c8-a4d5-68059869a943",
   "metadata": {},
   "outputs": [],
   "source": [
    "t = (3, )"
   ]
  },
  {
   "cell_type": "code",
   "execution_count": 80,
   "id": "cab11a08-e461-4ea8-b87d-58298e35956b",
   "metadata": {},
   "outputs": [
    {
     "data": {
      "text/plain": [
       "(3,)"
      ]
     },
     "execution_count": 80,
     "metadata": {},
     "output_type": "execute_result"
    }
   ],
   "source": [
    "t"
   ]
  },
  {
   "cell_type": "code",
   "execution_count": 86,
   "id": "63b99bbc-08a0-4b72-a141-26564179e97f",
   "metadata": {},
   "outputs": [
    {
     "name": "stdout",
     "output_type": "stream",
     "text": [
      "1 2 [3, 4]\n"
     ]
    }
   ],
   "source": [
    "t = (1, 2, 3, 4) \n",
    "x, y, *z = t\n",
    "print(x, y, z)"
   ]
  },
  {
   "cell_type": "code",
   "execution_count": 87,
   "id": "6255b93a-41f3-45ad-9a8a-032d689f5f58",
   "metadata": {},
   "outputs": [
    {
     "name": "stdout",
     "output_type": "stream",
     "text": [
      "1 [2, 3] 4\n"
     ]
    }
   ],
   "source": [
    "x, *y, z = t\n",
    "print(x, y, z)"
   ]
  },
  {
   "cell_type": "code",
   "execution_count": 89,
   "id": "6f6499ee-9cab-4707-ae96-f7ac0d58dfef",
   "metadata": {},
   "outputs": [
    {
     "name": "stdout",
     "output_type": "stream",
     "text": [
      "[1, 2] 3 4\n"
     ]
    }
   ],
   "source": [
    "*x, y, z = t  # 第一个也可以吃多个值？\n",
    "print(x, y, z)"
   ]
  },
  {
   "cell_type": "code",
   "execution_count": 90,
   "id": "ec39691a-9d4a-4aae-8d77-745d65c0366e",
   "metadata": {},
   "outputs": [
    {
     "data": {
      "text/plain": [
       "True"
      ]
     },
     "execution_count": 90,
     "metadata": {},
     "output_type": "execute_result"
    }
   ],
   "source": [
    "x = y = 3  # 链式赋值，把x，y都贴到3上面去    贴标签\n",
    "x is y    #  xy是不是同一个东西"
   ]
  },
  {
   "cell_type": "code",
   "execution_count": 91,
   "id": "707c8290-e5b6-4345-97c2-e90878b0642d",
   "metadata": {},
   "outputs": [
    {
     "data": {
      "text/plain": [
       "False"
      ]
     },
     "execution_count": 91,
     "metadata": {},
     "output_type": "execute_result"
    }
   ],
   "source": [
    "x = 4\n",
    "x is y"
   ]
  },
  {
   "cell_type": "code",
   "execution_count": 92,
   "id": "3c674515-44a7-4ae3-a212-67e2be2e4332",
   "metadata": {},
   "outputs": [
    {
     "name": "stdout",
     "output_type": "stream",
     "text": [
      "[0, 2] [0, 2]\n"
     ]
    }
   ],
   "source": [
    "x = y = [1, 2]\n",
    "x[0] = 0    # 通过x这个标签去改变对象\n",
    "print(x, y)"
   ]
  },
  {
   "cell_type": "code",
   "execution_count": 93,
   "id": "beaff631-0f8d-44f8-af6e-8a3a03bc9db7",
   "metadata": {},
   "outputs": [
    {
     "name": "stderr",
     "output_type": "stream",
     "text": [
      "<>:1: SyntaxWarning: \"is\" with 'int' literal. Did you mean \"==\"?\n",
      "<>:1: SyntaxWarning: \"is\" with 'int' literal. Did you mean \"==\"?\n",
      "C:\\Users\\phoeb\\AppData\\Local\\Temp\\ipykernel_25348\\30664588.py:1: SyntaxWarning: \"is\" with 'int' literal. Did you mean \"==\"?\n",
      "  3 is 3\n"
     ]
    },
    {
     "data": {
      "text/plain": [
       "True"
      ]
     },
     "execution_count": 93,
     "metadata": {},
     "output_type": "execute_result"
    }
   ],
   "source": [
    "3 is 3   # 常量，我会复用"
   ]
  },
  {
   "cell_type": "code",
   "execution_count": 95,
   "id": "5a4ec8ea-47ec-4070-af8f-93c8ee79f95b",
   "metadata": {},
   "outputs": [
    {
     "data": {
      "text/plain": [
       "False"
      ]
     },
     "execution_count": 95,
     "metadata": {},
     "output_type": "execute_result"
    }
   ],
   "source": [
    "[3] is [3] # 我构造了两个list"
   ]
  },
  {
   "cell_type": "code",
   "execution_count": 97,
   "id": "faf43629-96ba-471e-9d33-59746b624dfb",
   "metadata": {},
   "outputs": [
    {
     "name": "stdout",
     "output_type": "stream",
     "text": [
      "in the range\n"
     ]
    }
   ],
   "source": [
    "a = 4\n",
    "if 3 < a < 5:\n",
    "    print('in the range')\n",
    "else:\n",
    "    print('out of the range')"
   ]
  },
  {
   "cell_type": "code",
   "execution_count": 98,
   "id": "5aa31104-94b1-47a0-94e2-d0a3a0376c07",
   "metadata": {},
   "outputs": [
    {
     "name": "stdout",
     "output_type": "stream",
     "text": [
      "3 3\n"
     ]
    }
   ],
   "source": [
    "def abs(a):\n",
    "    if a >= 0:\n",
    "        return a\n",
    "    else:\n",
    "        return -a;\n",
    "\n",
    "print(abs(3), abs(-3))"
   ]
  },
  {
   "cell_type": "code",
   "execution_count": 99,
   "id": "c2add461-48d9-4ed7-af9f-cb8b5f646a83",
   "metadata": {},
   "outputs": [
    {
     "name": "stdout",
     "output_type": "stream",
     "text": [
      "3 3\n"
     ]
    }
   ],
   "source": [
    "def abs(a):\n",
    "    return a if a >= 0 else -a   # 模拟问号表达式\n",
    "print(abs(3), abs(-3))"
   ]
  },
  {
   "cell_type": "code",
   "execution_count": 100,
   "id": "f6e9458c-12c6-4dea-a5ea-ae58acece863",
   "metadata": {},
   "outputs": [
    {
     "name": "stdin",
     "output_type": "stream",
     "text": [
      "please input your name:  zh\n"
     ]
    },
    {
     "name": "stdout",
     "output_type": "stream",
     "text": [
      "hello, zh\n"
     ]
    }
   ],
   "source": [
    "name = input('please input your name: ')\n",
    "if name:\n",
    "    print(f'hello, {name}')\n",
    "else:\n",
    "    print('forgot your name?')"
   ]
  },
  {
   "cell_type": "code",
   "execution_count": 102,
   "id": "cb081d58-861d-44a3-8fec-5f9d3fcc9858",
   "metadata": {},
   "outputs": [
    {
     "name": "stdin",
     "output_type": "stream",
     "text": [
      "please input your name:  \n"
     ]
    },
    {
     "name": "stdout",
     "output_type": "stream",
     "text": [
      "forgot your name?\n"
     ]
    }
   ],
   "source": [
    "name = input('please input your name: ')\n",
    "print(f'hello, {name}' if name else 'forgot your name?')"
   ]
  },
  {
   "cell_type": "code",
   "execution_count": 103,
   "id": "6fdb001f-d713-4e73-ac11-d290bda3989b",
   "metadata": {},
   "outputs": [],
   "source": [
    "if '': # 空字符串相当于false\n",
    "    print('hello')"
   ]
  },
  {
   "cell_type": "code",
   "execution_count": 106,
   "id": "8f6ee93b-0e22-4a47-9885-6aa280a8ea9b",
   "metadata": {},
   "outputs": [
    {
     "data": {
      "text/plain": [
       "False"
      ]
     },
     "execution_count": 106,
     "metadata": {},
     "output_type": "execute_result"
    }
   ],
   "source": [
    "'' == False"
   ]
  },
  {
   "cell_type": "code",
   "execution_count": 107,
   "id": "4cb9efc1-a25f-47a4-a512-da691181df61",
   "metadata": {},
   "outputs": [
    {
     "data": {
      "text/plain": [
       "True"
      ]
     },
     "execution_count": 107,
     "metadata": {},
     "output_type": "execute_result"
    }
   ],
   "source": [
    "bool('') == False"
   ]
  },
  {
   "cell_type": "code",
   "execution_count": null,
   "id": "396a9a29-5e48-4292-94d8-5cd1ee65e3e3",
   "metadata": {},
   "outputs": [],
   "source": []
  }
 ],
 "metadata": {
  "kernelspec": {
   "display_name": "Python 3 (ipykernel)",
   "language": "python",
   "name": "python3"
  },
  "language_info": {
   "codemirror_mode": {
    "name": "ipython",
    "version": 3
   },
   "file_extension": ".py",
   "mimetype": "text/x-python",
   "name": "python",
   "nbconvert_exporter": "python",
   "pygments_lexer": "ipython3",
   "version": "3.12.5"
  }
 },
 "nbformat": 4,
 "nbformat_minor": 5
}
