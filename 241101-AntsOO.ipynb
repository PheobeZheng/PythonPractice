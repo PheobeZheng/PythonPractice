{
 "cells": [
  {
   "cell_type": "code",
   "execution_count": 3,
   "id": "8a1a8159-a2ee-4314-a0d8-cea04078cc53",
   "metadata": {},
   "outputs": [],
   "source": [
    "a = list()"
   ]
  },
  {
   "cell_type": "code",
   "execution_count": 4,
   "id": "195c9adf-b071-4b0c-af01-49679257b09a",
   "metadata": {},
   "outputs": [],
   "source": [
    "a = [1, 2,3]"
   ]
  },
  {
   "cell_type": "code",
   "execution_count": 5,
   "id": "587f103a-56af-4836-8bfd-89682c1ce28f",
   "metadata": {},
   "outputs": [
    {
     "data": {
      "text/plain": [
       "3"
      ]
     },
     "execution_count": 5,
     "metadata": {},
     "output_type": "execute_result"
    }
   ],
   "source": [
    "a[-1]"
   ]
  },
  {
   "cell_type": "code",
   "execution_count": 6,
   "id": "902dfa05-dc59-4bec-b70d-eff8f5a13313",
   "metadata": {},
   "outputs": [
    {
     "data": {
      "text/plain": [
       "[1, 4]"
      ]
     },
     "execution_count": 6,
     "metadata": {},
     "output_type": "execute_result"
    }
   ],
   "source": [
    "[i * i for i in a if i %3]"
   ]
  },
  {
   "cell_type": "code",
   "execution_count": 7,
   "id": "848f6d7f-9eec-4752-abfa-daaa568da040",
   "metadata": {},
   "outputs": [],
   "source": [
    "d = dict()\n",
    "d['happy'] = 100"
   ]
  },
  {
   "cell_type": "code",
   "execution_count": 8,
   "id": "f99ecf08-a4a9-43cb-ba57-0fbfb5786adc",
   "metadata": {},
   "outputs": [
    {
     "name": "stdout",
     "output_type": "stream",
     "text": [
      "{'happy': 100}\n"
     ]
    }
   ],
   "source": [
    "print(d)"
   ]
  },
  {
   "cell_type": "code",
   "execution_count": 9,
   "id": "c510c459-8d67-4b68-a3cf-68bd4de2c730",
   "metadata": {},
   "outputs": [
    {
     "name": "stdout",
     "output_type": "stream",
     "text": [
      "[1, 2, 3]\n"
     ]
    }
   ],
   "source": [
    "if a: \n",
    "    print(a)\n",
    "else:\n",
    "    print('a is empty')"
   ]
  },
  {
   "cell_type": "code",
   "execution_count": 10,
   "id": "c48529ca-e1fa-482a-bedc-84e6a2002a3e",
   "metadata": {},
   "outputs": [
    {
     "name": "stdout",
     "output_type": "stream",
     "text": [
      "**********\n",
      "**********\n",
      "**********\n",
      "**********\n",
      "**********\n"
     ]
    }
   ],
   "source": [
    "for _ in range(5):\n",
    "    print('*' * 10)"
   ]
  },
  {
   "cell_type": "code",
   "execution_count": 11,
   "id": "6abcea11-429f-4d47-b97c-d665b3aa7e8d",
   "metadata": {},
   "outputs": [
    {
     "name": "stdout",
     "output_type": "stream",
     "text": [
      "3\n"
     ]
    }
   ],
   "source": [
    "def abs(a):\n",
    "    return a if a >=0 else -a\n",
    "\n",
    "print(abs(-3))"
   ]
  },
  {
   "cell_type": "code",
   "execution_count": 17,
   "id": "14f8531f-9b9c-424b-bece-14c431366f6f",
   "metadata": {
    "scrolled": true
   },
   "outputs": [
    {
     "name": "stdout",
     "output_type": "stream",
     "text": [
      "*__________________________________________________________*\r"
     ]
    }
   ],
   "source": [
    "from time import sleep\n",
    "import random\n",
    "\n",
    "bar_length = 60\n",
    "\n",
    "def init_bar(length=80):\n",
    "    bar = list('_' * length)\n",
    "    return bar\n",
    "\n",
    "def init_ants(bar_length = 80):\n",
    "    ants = list()\n",
    "    ants.append({'position':0, 'direction':1})\n",
    "    ants.append({'position':bar_length - 1, 'direction':-1})\n",
    "    return ants\n",
    "\n",
    "def clear_bar(bar):\n",
    "    for i in range(len(bar)):\n",
    "        bar[i] = '_'\n",
    "\n",
    "def update_bar(bar, ants):\n",
    "    clear_bar(bar)\n",
    "    for ant in ants:\n",
    "        if 0 <= ant['position'] < len(bar):\n",
    "            bar[ant['position']] = '*'\n",
    "\n",
    "def is_bar_empty(bar):\n",
    "    for item in bar:\n",
    "        if not item == '_':\n",
    "            return False\n",
    "    return True\n",
    "\n",
    "def show_bar(bar):\n",
    "    print(''.join(bar), end='\\r', flush=True)\n",
    "\n",
    "def update_ants(ants):\n",
    "    for ant in ants:\n",
    "        ant['position'] += ant['direction']\n",
    "\n",
    "bar = init_bar(bar_length)\n",
    "ants = init_ants(bar_length)\n",
    "update_bar(bar, ants)\n",
    "\n",
    "while not is_bar_empty(bar):\n",
    "    update_bar(bar, ants)\n",
    "    show_bar(bar)\n",
    "    sleep(0.2) # 秒\n",
    "    update_ants(ants)\n",
    "    update_bar(bar, ants)"
   ]
  },
  {
   "cell_type": "code",
   "execution_count": null,
   "id": "02358623-359b-442a-a31d-39552b5397fe",
   "metadata": {},
   "outputs": [],
   "source": [
    "class Student(Person):"
   ]
  },
  {
   "cell_type": "code",
   "execution_count": null,
   "id": "056a5e53-512d-41d6-b30f-587c5c5dcd0f",
   "metadata": {},
   "outputs": [],
   "source": [
    "for pet in pets:\n",
    "    pet.talk()"
   ]
  },
  {
   "cell_type": "code",
   "execution_count": 29,
   "id": "e923444b-aba3-46ea-8bf3-5b8f3dccecce",
   "metadata": {},
   "outputs": [
    {
     "name": "stdout",
     "output_type": "stream",
     "text": [
      "____________________________________________________________\r"
     ]
    }
   ],
   "source": [
    "from time import sleep\n",
    "import random\n",
    "\n",
    "class Bar:\n",
    "    __empty = '_'\n",
    "    def __init__(self, length = 80):\n",
    "        self.length = length\n",
    "        self.reset()\n",
    "        \n",
    "    def reset(self):\n",
    "        self.bar = list()\n",
    "        self.bar.extend(self.__empty * self.length)\n",
    "        \n",
    "    def update(self, ants):\n",
    "        self.reset()\n",
    "        for ant in ants:\n",
    "            if 0 <= ant.position < len(self.bar):\n",
    "                self.bar[ant.position] = ant.symbol\n",
    "                \n",
    "    def is_empty(self):\n",
    "        for item in self.bar:\n",
    "            if not item == Bar.__empty:\n",
    "                return False\n",
    "        else:                             # for else\n",
    "            return True\n",
    "                \n",
    "    def show(self):\n",
    "        print(''.join(self.bar), end='\\r')\n",
    "\n",
    "class Ant:\n",
    "    def __init__(self, position, direction, symbol='*'):\n",
    "        self.position = position\n",
    "        self.direction = direction\n",
    "        self.symbol = symbol\n",
    "   \n",
    "    def move(self):\n",
    "        self.position += self.direction\n",
    "        \n",
    "    def create_random_ant(bar_length=80, symbol='*'):\n",
    "        postion = random.randint(0, bar_length - 1)\n",
    "        direction = random.choice([-1, 1])\n",
    "        return Ant(postion, direction, symbol)\n",
    "\n",
    "class Ants:\n",
    "    def __init__(self, bar_length, counts = 3):\n",
    "        symbols= 'ABCDEFGHIJKLMN'\n",
    "        self.ants = list()\n",
    "        for i in range(counts):\n",
    "            self.ants.append(Ant.create_random_ant(bar_length, symbol = symbols[i]))\n",
    "    def move(self):\n",
    "        for ant in self.ants:\n",
    "            ant.move()\n",
    "\n",
    "    def get_ants(self):\n",
    "        return self.ants\n",
    "                    \n",
    "    \n",
    "\n",
    "bar = Bar(60)\n",
    "ants = Ants(60, 5)\n",
    "\n",
    "bar.update(ants.get_ants())\n",
    "bar.show()\n",
    "while not bar.is_empty():\n",
    "    sleep(0.25)\n",
    "    ants.move()\n",
    "    bar.update(ants.get_ants())\n",
    "    bar.show()\n",
    "\n"
   ]
  },
  {
   "cell_type": "code",
   "execution_count": null,
   "id": "fa173e4f-8558-4fc8-baa8-92c1437d86fc",
   "metadata": {},
   "outputs": [],
   "source": []
  }
 ],
 "metadata": {
  "kernelspec": {
   "display_name": "Python 3 (ipykernel)",
   "language": "python",
   "name": "python3"
  },
  "language_info": {
   "codemirror_mode": {
    "name": "ipython",
    "version": 3
   },
   "file_extension": ".py",
   "mimetype": "text/x-python",
   "name": "python",
   "nbconvert_exporter": "python",
   "pygments_lexer": "ipython3",
   "version": "3.12.5"
  }
 },
 "nbformat": 4,
 "nbformat_minor": 5
}
